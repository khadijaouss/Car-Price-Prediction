{
 "cells": [
  {
   "cell_type": "markdown",
   "id": "ea625d67",
   "metadata": {},
   "source": [
    "# -----------------------------------   DATA MINING Project  ---------------------------- "
   ]
  },
  {
   "cell_type": "markdown",
   "id": "3c3ab4f1",
   "metadata": {},
   "source": [
    "## Realized by : OUSSAKEL Khadija    ___________________________ Supervised by : EL ASRI Ikram"
   ]
  },
  {
   "cell_type": "markdown",
   "id": "8591dcc6",
   "metadata": {},
   "source": [
    "# Getting started"
   ]
  },
  {
   "cell_type": "code",
   "execution_count": 1,
   "id": "19c6ddc4",
   "metadata": {},
   "outputs": [],
   "source": [
    "# Import libraries\n",
    "import pandas as pd\n",
    "import matplotlib.pyplot as plt\n",
    "import numpy as np\n",
    "import seaborn as sns \n",
    "import missingno as msno \n",
    "import datetime as dt"
   ]
  },
  {
   "cell_type": "code",
   "execution_count": 2,
   "id": "75a1eead",
   "metadata": {},
   "outputs": [],
   "source": [
    "# Read in the dataset\n",
    "wandaloo_cars = pd.read_csv('wandaloo_cars.csv')"
   ]
  },
  {
   "cell_type": "code",
   "execution_count": 3,
   "id": "9d91ba16",
   "metadata": {},
   "outputs": [
    {
     "data": {
      "text/html": [
       "<div>\n",
       "<style scoped>\n",
       "    .dataframe tbody tr th:only-of-type {\n",
       "        vertical-align: middle;\n",
       "    }\n",
       "\n",
       "    .dataframe tbody tr th {\n",
       "        vertical-align: top;\n",
       "    }\n",
       "\n",
       "    .dataframe thead th {\n",
       "        text-align: right;\n",
       "    }\n",
       "</style>\n",
       "<table border=\"1\" class=\"dataframe\">\n",
       "  <thead>\n",
       "    <tr style=\"text-align: right;\">\n",
       "      <th></th>\n",
       "      <th>Brand</th>\n",
       "      <th>Model</th>\n",
       "      <th>Version</th>\n",
       "      <th>Price</th>\n",
       "      <th>Modèle</th>\n",
       "      <th>Main</th>\n",
       "      <th>Kilométrage</th>\n",
       "      <th>Carburant</th>\n",
       "      <th>Transmision</th>\n",
       "      <th>Puissance fiscale</th>\n",
       "      <th>...</th>\n",
       "      <th>Airbags</th>\n",
       "      <th>ABS</th>\n",
       "      <th>ESP</th>\n",
       "      <th>Antipatinage</th>\n",
       "      <th>Architecture</th>\n",
       "      <th>Cylindrée</th>\n",
       "      <th>Conso. ville</th>\n",
       "      <th>Conso. route</th>\n",
       "      <th>Vitesse maxi.</th>\n",
       "      <th>Volume du réservoir</th>\n",
       "    </tr>\n",
       "  </thead>\n",
       "  <tbody>\n",
       "    <tr>\n",
       "      <th>0</th>\n",
       "      <td>MERCEDES</td>\n",
       "      <td>Classe C 2014</td>\n",
       "      <td>220 d</td>\n",
       "      <td>228.000 DH</td>\n",
       "      <td>2014.0</td>\n",
       "      <td>Seconde</td>\n",
       "      <td>144.500 km</td>\n",
       "      <td>Diesel</td>\n",
       "      <td>Automatique</td>\n",
       "      <td>8 cv</td>\n",
       "      <td>...</td>\n",
       "      <td>oui</td>\n",
       "      <td>oui</td>\n",
       "      <td>oui</td>\n",
       "      <td>oui</td>\n",
       "      <td>NaN</td>\n",
       "      <td>NaN</td>\n",
       "      <td>NaN</td>\n",
       "      <td>NaN</td>\n",
       "      <td>NaN</td>\n",
       "      <td>NaN</td>\n",
       "    </tr>\n",
       "    <tr>\n",
       "      <th>1</th>\n",
       "      <td>MERCEDES</td>\n",
       "      <td>Classe C 2003</td>\n",
       "      <td>220 CDI</td>\n",
       "      <td>79.000 DH</td>\n",
       "      <td>2003.0</td>\n",
       "      <td>Seconde</td>\n",
       "      <td>350.000 km</td>\n",
       "      <td>Diesel</td>\n",
       "      <td>Manuelle</td>\n",
       "      <td>8 cv</td>\n",
       "      <td>...</td>\n",
       "      <td>oui</td>\n",
       "      <td>oui</td>\n",
       "      <td>oui</td>\n",
       "      <td>oui</td>\n",
       "      <td>NaN</td>\n",
       "      <td>NaN</td>\n",
       "      <td>NaN</td>\n",
       "      <td>NaN</td>\n",
       "      <td>NaN</td>\n",
       "      <td>NaN</td>\n",
       "    </tr>\n",
       "    <tr>\n",
       "      <th>2</th>\n",
       "      <td>MERCEDES</td>\n",
       "      <td>Classe B 2013</td>\n",
       "      <td>180 d Urban</td>\n",
       "      <td>150.000 DH</td>\n",
       "      <td>2013.0</td>\n",
       "      <td>Seconde</td>\n",
       "      <td>144.000 km</td>\n",
       "      <td>Diesel</td>\n",
       "      <td>Manuelle</td>\n",
       "      <td>8 cv</td>\n",
       "      <td>...</td>\n",
       "      <td>oui</td>\n",
       "      <td>oui</td>\n",
       "      <td>oui</td>\n",
       "      <td>oui</td>\n",
       "      <td>NaN</td>\n",
       "      <td>NaN</td>\n",
       "      <td>NaN</td>\n",
       "      <td>NaN</td>\n",
       "      <td>NaN</td>\n",
       "      <td>NaN</td>\n",
       "    </tr>\n",
       "    <tr>\n",
       "      <th>3</th>\n",
       "      <td>MERCEDES</td>\n",
       "      <td>Classe E 2006</td>\n",
       "      <td>Autre version</td>\n",
       "      <td>135.000 DH</td>\n",
       "      <td>2006.0</td>\n",
       "      <td>Seconde</td>\n",
       "      <td>248.000 km</td>\n",
       "      <td>Diesel</td>\n",
       "      <td>Automatique</td>\n",
       "      <td>9 cv</td>\n",
       "      <td>...</td>\n",
       "      <td>oui</td>\n",
       "      <td>oui</td>\n",
       "      <td>oui</td>\n",
       "      <td>oui</td>\n",
       "      <td>NaN</td>\n",
       "      <td>NaN</td>\n",
       "      <td>NaN</td>\n",
       "      <td>NaN</td>\n",
       "      <td>NaN</td>\n",
       "      <td>NaN</td>\n",
       "    </tr>\n",
       "    <tr>\n",
       "      <th>4</th>\n",
       "      <td>MERCEDES</td>\n",
       "      <td>CLA Coupé 2014</td>\n",
       "      <td>220 CDI</td>\n",
       "      <td>240.000 DH</td>\n",
       "      <td>2014.0</td>\n",
       "      <td>Seconde</td>\n",
       "      <td>103.000 km</td>\n",
       "      <td>Diesel</td>\n",
       "      <td>Automatique</td>\n",
       "      <td>9 cv</td>\n",
       "      <td>...</td>\n",
       "      <td>oui</td>\n",
       "      <td>oui</td>\n",
       "      <td>oui</td>\n",
       "      <td>oui</td>\n",
       "      <td>NaN</td>\n",
       "      <td>NaN</td>\n",
       "      <td>NaN</td>\n",
       "      <td>NaN</td>\n",
       "      <td>NaN</td>\n",
       "      <td>NaN</td>\n",
       "    </tr>\n",
       "    <tr>\n",
       "      <th>...</th>\n",
       "      <td>...</td>\n",
       "      <td>...</td>\n",
       "      <td>...</td>\n",
       "      <td>...</td>\n",
       "      <td>...</td>\n",
       "      <td>...</td>\n",
       "      <td>...</td>\n",
       "      <td>...</td>\n",
       "      <td>...</td>\n",
       "      <td>...</td>\n",
       "      <td>...</td>\n",
       "      <td>...</td>\n",
       "      <td>...</td>\n",
       "      <td>...</td>\n",
       "      <td>...</td>\n",
       "      <td>...</td>\n",
       "      <td>...</td>\n",
       "      <td>...</td>\n",
       "      <td>...</td>\n",
       "      <td>...</td>\n",
       "      <td>...</td>\n",
       "    </tr>\n",
       "    <tr>\n",
       "      <th>3124</th>\n",
       "      <td>VOLVO</td>\n",
       "      <td>XC90</td>\n",
       "      <td>NaN</td>\n",
       "      <td>630.000 DH *   * Prix public</td>\n",
       "      <td>NaN</td>\n",
       "      <td>NaN</td>\n",
       "      <td>NaN</td>\n",
       "      <td>NaN</td>\n",
       "      <td>NaN</td>\n",
       "      <td>8 cv</td>\n",
       "      <td>...</td>\n",
       "      <td>7.0</td>\n",
       "      <td>oui</td>\n",
       "      <td>oui</td>\n",
       "      <td>oui</td>\n",
       "      <td>4 cylindres</td>\n",
       "      <td>1.969 cm³</td>\n",
       "      <td>6,3 l/100 km</td>\n",
       "      <td>5,4 l/100 km</td>\n",
       "      <td>220 km/h</td>\n",
       "      <td>71 litre</td>\n",
       "    </tr>\n",
       "    <tr>\n",
       "      <th>3125</th>\n",
       "      <td>VOLVO</td>\n",
       "      <td>XC90</td>\n",
       "      <td>NaN</td>\n",
       "      <td>730.000 DH *   * Prix public</td>\n",
       "      <td>NaN</td>\n",
       "      <td>NaN</td>\n",
       "      <td>NaN</td>\n",
       "      <td>NaN</td>\n",
       "      <td>NaN</td>\n",
       "      <td>8 cv</td>\n",
       "      <td>...</td>\n",
       "      <td>7.0</td>\n",
       "      <td>oui</td>\n",
       "      <td>oui</td>\n",
       "      <td>oui</td>\n",
       "      <td>4 cylindres</td>\n",
       "      <td>1.969 cm³</td>\n",
       "      <td>6,3 l/100 km</td>\n",
       "      <td>5,4 l/100 km</td>\n",
       "      <td>220 km/h</td>\n",
       "      <td>71 litre</td>\n",
       "    </tr>\n",
       "    <tr>\n",
       "      <th>3126</th>\n",
       "      <td>VOLVO</td>\n",
       "      <td>XC90</td>\n",
       "      <td>NaN</td>\n",
       "      <td>850.000 DH *   * Prix public</td>\n",
       "      <td>NaN</td>\n",
       "      <td>NaN</td>\n",
       "      <td>NaN</td>\n",
       "      <td>NaN</td>\n",
       "      <td>NaN</td>\n",
       "      <td>8 cv</td>\n",
       "      <td>...</td>\n",
       "      <td>7.0</td>\n",
       "      <td>oui</td>\n",
       "      <td>oui</td>\n",
       "      <td>oui</td>\n",
       "      <td>4 cylindres</td>\n",
       "      <td>1.969 cm³</td>\n",
       "      <td>6,3 l/100 km</td>\n",
       "      <td>5,4 l/100 km</td>\n",
       "      <td>220 km/h</td>\n",
       "      <td>71 litre</td>\n",
       "    </tr>\n",
       "    <tr>\n",
       "      <th>3127</th>\n",
       "      <td>VOLVO</td>\n",
       "      <td>XC90</td>\n",
       "      <td>NaN</td>\n",
       "      <td>1.000.000 DH *   * Prix public</td>\n",
       "      <td>NaN</td>\n",
       "      <td>NaN</td>\n",
       "      <td>NaN</td>\n",
       "      <td>NaN</td>\n",
       "      <td>NaN</td>\n",
       "      <td>11 cv</td>\n",
       "      <td>...</td>\n",
       "      <td>7.0</td>\n",
       "      <td>oui</td>\n",
       "      <td>oui</td>\n",
       "      <td>oui</td>\n",
       "      <td>4 cylindres</td>\n",
       "      <td>1.969 cm³</td>\n",
       "      <td>- l/100 km</td>\n",
       "      <td>- l/100 km</td>\n",
       "      <td>230 km/h</td>\n",
       "      <td>71 litre</td>\n",
       "    </tr>\n",
       "    <tr>\n",
       "      <th>3128</th>\n",
       "      <td>VOLVO</td>\n",
       "      <td>XC90</td>\n",
       "      <td>NaN</td>\n",
       "      <td>1.100.000 DH *   * Prix public</td>\n",
       "      <td>NaN</td>\n",
       "      <td>NaN</td>\n",
       "      <td>NaN</td>\n",
       "      <td>NaN</td>\n",
       "      <td>NaN</td>\n",
       "      <td>11 cv</td>\n",
       "      <td>...</td>\n",
       "      <td>7.0</td>\n",
       "      <td>oui</td>\n",
       "      <td>oui</td>\n",
       "      <td>oui</td>\n",
       "      <td>4 cylindres</td>\n",
       "      <td>1.969 cm³</td>\n",
       "      <td>- l/100 km</td>\n",
       "      <td>- l/100 km</td>\n",
       "      <td>230 km/h</td>\n",
       "      <td>71 litre</td>\n",
       "    </tr>\n",
       "  </tbody>\n",
       "</table>\n",
       "<p>3129 rows × 43 columns</p>\n",
       "</div>"
      ],
      "text/plain": [
       "         Brand           Model        Version                           Price  \\\n",
       "0     MERCEDES   Classe C 2014          220 d                      228.000 DH   \n",
       "1     MERCEDES   Classe C 2003        220 CDI                       79.000 DH   \n",
       "2     MERCEDES   Classe B 2013    180 d Urban                      150.000 DH   \n",
       "3     MERCEDES   Classe E 2006  Autre version                      135.000 DH   \n",
       "4     MERCEDES  CLA Coupé 2014        220 CDI                      240.000 DH   \n",
       "...        ...             ...            ...                             ...   \n",
       "3124     VOLVO            XC90            NaN    630.000 DH *   * Prix public   \n",
       "3125     VOLVO            XC90            NaN    730.000 DH *   * Prix public   \n",
       "3126     VOLVO            XC90            NaN    850.000 DH *   * Prix public   \n",
       "3127     VOLVO            XC90            NaN  1.000.000 DH *   * Prix public   \n",
       "3128     VOLVO            XC90            NaN  1.100.000 DH *   * Prix public   \n",
       "\n",
       "      Modèle     Main Kilométrage Carburant  Transmision Puissance fiscale  \\\n",
       "0     2014.0  Seconde  144.500 km    Diesel  Automatique              8 cv   \n",
       "1     2003.0  Seconde  350.000 km    Diesel     Manuelle              8 cv   \n",
       "2     2013.0  Seconde  144.000 km    Diesel     Manuelle              8 cv   \n",
       "3     2006.0  Seconde  248.000 km    Diesel  Automatique              9 cv   \n",
       "4     2014.0  Seconde  103.000 km    Diesel  Automatique              9 cv   \n",
       "...      ...      ...         ...       ...          ...               ...   \n",
       "3124     NaN      NaN         NaN       NaN          NaN              8 cv   \n",
       "3125     NaN      NaN         NaN       NaN          NaN              8 cv   \n",
       "3126     NaN      NaN         NaN       NaN          NaN              8 cv   \n",
       "3127     NaN      NaN         NaN       NaN          NaN             11 cv   \n",
       "3128     NaN      NaN         NaN       NaN          NaN             11 cv   \n",
       "\n",
       "      ... Airbags  ABS  ESP Antipatinage Architecture  Cylindrée  \\\n",
       "0     ...     oui  oui  oui          oui          NaN        NaN   \n",
       "1     ...     oui  oui  oui          oui          NaN        NaN   \n",
       "2     ...     oui  oui  oui          oui          NaN        NaN   \n",
       "3     ...     oui  oui  oui          oui          NaN        NaN   \n",
       "4     ...     oui  oui  oui          oui          NaN        NaN   \n",
       "...   ...     ...  ...  ...          ...          ...        ...   \n",
       "3124  ...     7.0  oui  oui          oui  4 cylindres  1.969 cm³   \n",
       "3125  ...     7.0  oui  oui          oui  4 cylindres  1.969 cm³   \n",
       "3126  ...     7.0  oui  oui          oui  4 cylindres  1.969 cm³   \n",
       "3127  ...     7.0  oui  oui          oui  4 cylindres  1.969 cm³   \n",
       "3128  ...     7.0  oui  oui          oui  4 cylindres  1.969 cm³   \n",
       "\n",
       "      Conso. ville  Conso. route Vitesse maxi. Volume du réservoir  \n",
       "0              NaN           NaN           NaN                 NaN  \n",
       "1              NaN           NaN           NaN                 NaN  \n",
       "2              NaN           NaN           NaN                 NaN  \n",
       "3              NaN           NaN           NaN                 NaN  \n",
       "4              NaN           NaN           NaN                 NaN  \n",
       "...            ...           ...           ...                 ...  \n",
       "3124  6,3 l/100 km  5,4 l/100 km      220 km/h            71 litre  \n",
       "3125  6,3 l/100 km  5,4 l/100 km      220 km/h            71 litre  \n",
       "3126  6,3 l/100 km  5,4 l/100 km      220 km/h            71 litre  \n",
       "3127    - l/100 km    - l/100 km      230 km/h            71 litre  \n",
       "3128    - l/100 km    - l/100 km      230 km/h            71 litre  \n",
       "\n",
       "[3129 rows x 43 columns]"
      ]
     },
     "execution_count": 3,
     "metadata": {},
     "output_type": "execute_result"
    }
   ],
   "source": [
    "wandaloo_cars"
   ]
  },
  {
   "cell_type": "markdown",
   "id": "eb40a01c",
   "metadata": {},
   "source": [
    "# Part 1 : Diagnosing data cleaning problems\n",
    "\n",
    "#### Some important and common methods needed to get a better understanding of DataFrames and diagnose potential data problems are the following:\n",
    "- head() prints the header of a DataFrame\n",
    "- dtypes prints datatypes of all columns in a DataFrame\n",
    "- info() provides a bird's eye view of column data types and missing values in a DataFrame\n",
    "- describe() returns a distribution of numeric columns in your DataFrame\n",
    "- isna().sum() allows us to break down the number of missing values per column in our DataFrame\n",
    "- unique() finds the number of unique values in a DataFrame column\n",
    "- sns.displot() plots the distribution of one column in your DataFrame."
   ]
  },
  {
   "cell_type": "code",
   "execution_count": 4,
   "id": "f954e546",
   "metadata": {},
   "outputs": [
    {
     "data": {
      "text/html": [
       "<div>\n",
       "<style scoped>\n",
       "    .dataframe tbody tr th:only-of-type {\n",
       "        vertical-align: middle;\n",
       "    }\n",
       "\n",
       "    .dataframe tbody tr th {\n",
       "        vertical-align: top;\n",
       "    }\n",
       "\n",
       "    .dataframe thead th {\n",
       "        text-align: right;\n",
       "    }\n",
       "</style>\n",
       "<table border=\"1\" class=\"dataframe\">\n",
       "  <thead>\n",
       "    <tr style=\"text-align: right;\">\n",
       "      <th></th>\n",
       "      <th>Brand</th>\n",
       "      <th>Model</th>\n",
       "      <th>Version</th>\n",
       "      <th>Price</th>\n",
       "      <th>Modèle</th>\n",
       "      <th>Main</th>\n",
       "      <th>Kilométrage</th>\n",
       "      <th>Carburant</th>\n",
       "      <th>Transmision</th>\n",
       "      <th>Puissance fiscale</th>\n",
       "      <th>...</th>\n",
       "      <th>Airbags</th>\n",
       "      <th>ABS</th>\n",
       "      <th>ESP</th>\n",
       "      <th>Antipatinage</th>\n",
       "      <th>Architecture</th>\n",
       "      <th>Cylindrée</th>\n",
       "      <th>Conso. ville</th>\n",
       "      <th>Conso. route</th>\n",
       "      <th>Vitesse maxi.</th>\n",
       "      <th>Volume du réservoir</th>\n",
       "    </tr>\n",
       "  </thead>\n",
       "  <tbody>\n",
       "    <tr>\n",
       "      <th>0</th>\n",
       "      <td>MERCEDES</td>\n",
       "      <td>Classe C 2014</td>\n",
       "      <td>220 d</td>\n",
       "      <td>228.000 DH</td>\n",
       "      <td>2014.0</td>\n",
       "      <td>Seconde</td>\n",
       "      <td>144.500 km</td>\n",
       "      <td>Diesel</td>\n",
       "      <td>Automatique</td>\n",
       "      <td>8 cv</td>\n",
       "      <td>...</td>\n",
       "      <td>oui</td>\n",
       "      <td>oui</td>\n",
       "      <td>oui</td>\n",
       "      <td>oui</td>\n",
       "      <td>NaN</td>\n",
       "      <td>NaN</td>\n",
       "      <td>NaN</td>\n",
       "      <td>NaN</td>\n",
       "      <td>NaN</td>\n",
       "      <td>NaN</td>\n",
       "    </tr>\n",
       "    <tr>\n",
       "      <th>1</th>\n",
       "      <td>MERCEDES</td>\n",
       "      <td>Classe C 2003</td>\n",
       "      <td>220 CDI</td>\n",
       "      <td>79.000 DH</td>\n",
       "      <td>2003.0</td>\n",
       "      <td>Seconde</td>\n",
       "      <td>350.000 km</td>\n",
       "      <td>Diesel</td>\n",
       "      <td>Manuelle</td>\n",
       "      <td>8 cv</td>\n",
       "      <td>...</td>\n",
       "      <td>oui</td>\n",
       "      <td>oui</td>\n",
       "      <td>oui</td>\n",
       "      <td>oui</td>\n",
       "      <td>NaN</td>\n",
       "      <td>NaN</td>\n",
       "      <td>NaN</td>\n",
       "      <td>NaN</td>\n",
       "      <td>NaN</td>\n",
       "      <td>NaN</td>\n",
       "    </tr>\n",
       "    <tr>\n",
       "      <th>2</th>\n",
       "      <td>MERCEDES</td>\n",
       "      <td>Classe B 2013</td>\n",
       "      <td>180 d Urban</td>\n",
       "      <td>150.000 DH</td>\n",
       "      <td>2013.0</td>\n",
       "      <td>Seconde</td>\n",
       "      <td>144.000 km</td>\n",
       "      <td>Diesel</td>\n",
       "      <td>Manuelle</td>\n",
       "      <td>8 cv</td>\n",
       "      <td>...</td>\n",
       "      <td>oui</td>\n",
       "      <td>oui</td>\n",
       "      <td>oui</td>\n",
       "      <td>oui</td>\n",
       "      <td>NaN</td>\n",
       "      <td>NaN</td>\n",
       "      <td>NaN</td>\n",
       "      <td>NaN</td>\n",
       "      <td>NaN</td>\n",
       "      <td>NaN</td>\n",
       "    </tr>\n",
       "    <tr>\n",
       "      <th>3</th>\n",
       "      <td>MERCEDES</td>\n",
       "      <td>Classe E 2006</td>\n",
       "      <td>Autre version</td>\n",
       "      <td>135.000 DH</td>\n",
       "      <td>2006.0</td>\n",
       "      <td>Seconde</td>\n",
       "      <td>248.000 km</td>\n",
       "      <td>Diesel</td>\n",
       "      <td>Automatique</td>\n",
       "      <td>9 cv</td>\n",
       "      <td>...</td>\n",
       "      <td>oui</td>\n",
       "      <td>oui</td>\n",
       "      <td>oui</td>\n",
       "      <td>oui</td>\n",
       "      <td>NaN</td>\n",
       "      <td>NaN</td>\n",
       "      <td>NaN</td>\n",
       "      <td>NaN</td>\n",
       "      <td>NaN</td>\n",
       "      <td>NaN</td>\n",
       "    </tr>\n",
       "    <tr>\n",
       "      <th>4</th>\n",
       "      <td>MERCEDES</td>\n",
       "      <td>CLA Coupé 2014</td>\n",
       "      <td>220 CDI</td>\n",
       "      <td>240.000 DH</td>\n",
       "      <td>2014.0</td>\n",
       "      <td>Seconde</td>\n",
       "      <td>103.000 km</td>\n",
       "      <td>Diesel</td>\n",
       "      <td>Automatique</td>\n",
       "      <td>9 cv</td>\n",
       "      <td>...</td>\n",
       "      <td>oui</td>\n",
       "      <td>oui</td>\n",
       "      <td>oui</td>\n",
       "      <td>oui</td>\n",
       "      <td>NaN</td>\n",
       "      <td>NaN</td>\n",
       "      <td>NaN</td>\n",
       "      <td>NaN</td>\n",
       "      <td>NaN</td>\n",
       "      <td>NaN</td>\n",
       "    </tr>\n",
       "  </tbody>\n",
       "</table>\n",
       "<p>5 rows × 43 columns</p>\n",
       "</div>"
      ],
      "text/plain": [
       "      Brand           Model        Version       Price  Modèle     Main  \\\n",
       "0  MERCEDES   Classe C 2014          220 d  228.000 DH  2014.0  Seconde   \n",
       "1  MERCEDES   Classe C 2003        220 CDI   79.000 DH  2003.0  Seconde   \n",
       "2  MERCEDES   Classe B 2013    180 d Urban  150.000 DH  2013.0  Seconde   \n",
       "3  MERCEDES   Classe E 2006  Autre version  135.000 DH  2006.0  Seconde   \n",
       "4  MERCEDES  CLA Coupé 2014        220 CDI  240.000 DH  2014.0  Seconde   \n",
       "\n",
       "  Kilométrage Carburant  Transmision Puissance fiscale  ... Airbags  ABS  ESP  \\\n",
       "0  144.500 km    Diesel  Automatique              8 cv  ...     oui  oui  oui   \n",
       "1  350.000 km    Diesel     Manuelle              8 cv  ...     oui  oui  oui   \n",
       "2  144.000 km    Diesel     Manuelle              8 cv  ...     oui  oui  oui   \n",
       "3  248.000 km    Diesel  Automatique              9 cv  ...     oui  oui  oui   \n",
       "4  103.000 km    Diesel  Automatique              9 cv  ...     oui  oui  oui   \n",
       "\n",
       "  Antipatinage Architecture Cylindrée Conso. ville Conso. route Vitesse maxi.  \\\n",
       "0          oui          NaN       NaN          NaN          NaN           NaN   \n",
       "1          oui          NaN       NaN          NaN          NaN           NaN   \n",
       "2          oui          NaN       NaN          NaN          NaN           NaN   \n",
       "3          oui          NaN       NaN          NaN          NaN           NaN   \n",
       "4          oui          NaN       NaN          NaN          NaN           NaN   \n",
       "\n",
       "  Volume du réservoir  \n",
       "0                 NaN  \n",
       "1                 NaN  \n",
       "2                 NaN  \n",
       "3                 NaN  \n",
       "4                 NaN  \n",
       "\n",
       "[5 rows x 43 columns]"
      ]
     },
     "execution_count": 4,
     "metadata": {},
     "output_type": "execute_result"
    }
   ],
   "source": [
    "wandaloo_cars.head()"
   ]
  },
  {
   "cell_type": "code",
   "execution_count": 5,
   "id": "8388cd87",
   "metadata": {},
   "outputs": [
    {
     "data": {
      "text/plain": [
       "Brand                                    object\n",
       "Model                                    object\n",
       "Version                                  object\n",
       "Price                                    object\n",
       "Modèle                                  float64\n",
       "Main                                     object\n",
       "Kilométrage                              object\n",
       "Carburant                                object\n",
       "Transmision                              object\n",
       "Puissance fiscale                        object\n",
       "Couleur extérieure                       object\n",
       "Etat du véhicule                         object\n",
       "Climatisation                            object\n",
       "Vitres électriques                       object\n",
       "Sièges électriques                       object\n",
       "Ordinateur de bord                       object\n",
       "Start & Stop                             object\n",
       "Régulateur de vitesse                    object\n",
       "Allumage auto. des feux                  object\n",
       "Détecteur de pluie                       object\n",
       "Commandes au volant                      object\n",
       "Ecran tactile                            object\n",
       "Rétroviseurs électriques                 object\n",
       "Ouverture auto. du coffre                object\n",
       "Démarrage mains libres                   object\n",
       "Banquette arrière rabattable 1/3-2/3     object\n",
       "Caméra de recul                          object\n",
       "Bluetooth                                object\n",
       "Jantes aluminium                         object\n",
       "Volant cuir                              object\n",
       "Feux de jour                             object\n",
       "Barres de toit                           object\n",
       "Toit                                     object\n",
       "Airbags                                  object\n",
       "ABS                                      object\n",
       "ESP                                      object\n",
       "Antipatinage                             object\n",
       "Architecture                             object\n",
       "Cylindrée                                object\n",
       "Conso. ville                             object\n",
       "Conso. route                             object\n",
       "Vitesse maxi.                            object\n",
       "Volume du réservoir                      object\n",
       "dtype: object"
      ]
     },
     "execution_count": 5,
     "metadata": {},
     "output_type": "execute_result"
    }
   ],
   "source": [
    "wandaloo_cars.dtypes"
   ]
  },
  {
   "cell_type": "markdown",
   "id": "f9a67c9d",
   "metadata": {},
   "source": [
    "## Data type problems:\n",
    "- Problem 1: Price need to be converted to float.\n",
    "- Problem 2: Modèle must be in datetime\n",
    "- Problem 3: Kilométrage need to be converted to float then to int.\n",
    "- Problem 4: Puissance fiscale need to be converted to float then to int.\n",
    "- Problem 5: Cylindrée need to be converted to float.  \n",
    "- Problem 6: Conso. ville and Conso. route need to be converted to float.  \n",
    "- Problem 7: Vitesse maxi. need to be converted to float. \n",
    "- Problem 8: Volume du réservoir. need to be converted to float.  \n",
    "    \n",
    "## Missing data problems:\n",
    "- Problem 9: We can see that there are missing data in some columns."
   ]
  },
  {
   "cell_type": "code",
   "execution_count": 6,
   "id": "8d825bc2",
   "metadata": {},
   "outputs": [
    {
     "name": "stdout",
     "output_type": "stream",
     "text": [
      "<class 'pandas.core.frame.DataFrame'>\n",
      "RangeIndex: 3129 entries, 0 to 3128\n",
      "Data columns (total 43 columns):\n",
      " #   Column                                Non-Null Count  Dtype  \n",
      "---  ------                                --------------  -----  \n",
      " 0   Brand                                 3063 non-null   object \n",
      " 1   Model                                 3063 non-null   object \n",
      " 2   Version                               2180 non-null   object \n",
      " 3   Price                                 3063 non-null   object \n",
      " 4   Modèle                                2180 non-null   float64\n",
      " 5   Main                                  2180 non-null   object \n",
      " 6   Kilométrage                           2180 non-null   object \n",
      " 7   Carburant                             2166 non-null   object \n",
      " 8   Transmision                           2180 non-null   object \n",
      " 9   Puissance fiscale                     3048 non-null   object \n",
      " 10  Couleur extérieure                    2180 non-null   object \n",
      " 11  Etat du véhicule                      2180 non-null   object \n",
      " 12  Climatisation                         3048 non-null   object \n",
      " 13  Vitres électriques                    3048 non-null   object \n",
      " 14  Sièges électriques                    3028 non-null   object \n",
      " 15  Ordinateur de bord                    3048 non-null   object \n",
      " 16  Start & Stop                          3048 non-null   object \n",
      " 17  Régulateur de vitesse                 3048 non-null   object \n",
      " 18  Allumage auto. des feux               3048 non-null   object \n",
      " 19  Détecteur de pluie                    3048 non-null   object \n",
      " 20  Commandes au volant                   3048 non-null   object \n",
      " 21  Ecran tactile                         3048 non-null   object \n",
      " 22  Rétroviseurs électriques              3048 non-null   object \n",
      " 23  Ouverture auto. du coffre             2180 non-null   object \n",
      " 24  Démarrage mains libres                3048 non-null   object \n",
      " 25  Banquette arrière rabattable 1/3-2/3  3048 non-null   object \n",
      " 26  Caméra de recul                       3048 non-null   object \n",
      " 27  Bluetooth                             3048 non-null   object \n",
      " 28  Jantes aluminium                      3048 non-null   object \n",
      " 29  Volant cuir                           3048 non-null   object \n",
      " 30  Feux de jour                          3048 non-null   object \n",
      " 31  Barres de toit                        3048 non-null   object \n",
      " 32  Toit                                  3048 non-null   object \n",
      " 33  Airbags                               3048 non-null   object \n",
      " 34  ABS                                   3048 non-null   object \n",
      " 35  ESP                                   3048 non-null   object \n",
      " 36  Antipatinage                          3048 non-null   object \n",
      " 37  Architecture                          845 non-null    object \n",
      " 38  Cylindrée                             845 non-null    object \n",
      " 39  Conso. ville                          845 non-null    object \n",
      " 40  Conso. route                          845 non-null    object \n",
      " 41  Vitesse maxi.                         868 non-null    object \n",
      " 42  Volume du réservoir                   845 non-null    object \n",
      "dtypes: float64(1), object(42)\n",
      "memory usage: 1.0+ MB\n"
     ]
    }
   ],
   "source": [
    "wandaloo_cars.info()"
   ]
  },
  {
   "cell_type": "code",
   "execution_count": 7,
   "id": "162bfee0",
   "metadata": {},
   "outputs": [
    {
     "data": {
      "text/plain": [
       "Brand                                     66\n",
       "Model                                     66\n",
       "Version                                  949\n",
       "Price                                     66\n",
       "Modèle                                   949\n",
       "Main                                     949\n",
       "Kilométrage                              949\n",
       "Carburant                                963\n",
       "Transmision                              949\n",
       "Puissance fiscale                         81\n",
       "Couleur extérieure                       949\n",
       "Etat du véhicule                         949\n",
       "Climatisation                             81\n",
       "Vitres électriques                        81\n",
       "Sièges électriques                       101\n",
       "Ordinateur de bord                        81\n",
       "Start & Stop                              81\n",
       "Régulateur de vitesse                     81\n",
       "Allumage auto. des feux                   81\n",
       "Détecteur de pluie                        81\n",
       "Commandes au volant                       81\n",
       "Ecran tactile                             81\n",
       "Rétroviseurs électriques                  81\n",
       "Ouverture auto. du coffre                949\n",
       "Démarrage mains libres                    81\n",
       "Banquette arrière rabattable 1/3-2/3      81\n",
       "Caméra de recul                           81\n",
       "Bluetooth                                 81\n",
       "Jantes aluminium                          81\n",
       "Volant cuir                               81\n",
       "Feux de jour                              81\n",
       "Barres de toit                            81\n",
       "Toit                                      81\n",
       "Airbags                                   81\n",
       "ABS                                       81\n",
       "ESP                                       81\n",
       "Antipatinage                              81\n",
       "Architecture                            2284\n",
       "Cylindrée                               2284\n",
       "Conso. ville                            2284\n",
       "Conso. route                            2284\n",
       "Vitesse maxi.                           2261\n",
       "Volume du réservoir                     2284\n",
       "dtype: int64"
      ]
     },
     "execution_count": 7,
     "metadata": {},
     "output_type": "execute_result"
    }
   ],
   "source": [
    "wandaloo_cars.isna().sum()"
   ]
  },
  {
   "cell_type": "code",
   "execution_count": 8,
   "id": "f585e3f6",
   "metadata": {},
   "outputs": [
    {
     "data": {
      "text/html": [
       "<div>\n",
       "<style scoped>\n",
       "    .dataframe tbody tr th:only-of-type {\n",
       "        vertical-align: middle;\n",
       "    }\n",
       "\n",
       "    .dataframe tbody tr th {\n",
       "        vertical-align: top;\n",
       "    }\n",
       "\n",
       "    .dataframe thead th {\n",
       "        text-align: right;\n",
       "    }\n",
       "</style>\n",
       "<table border=\"1\" class=\"dataframe\">\n",
       "  <thead>\n",
       "    <tr style=\"text-align: right;\">\n",
       "      <th></th>\n",
       "      <th>Brand</th>\n",
       "      <th>Model</th>\n",
       "      <th>Version</th>\n",
       "      <th>Price</th>\n",
       "      <th>Modèle</th>\n",
       "      <th>Main</th>\n",
       "      <th>Kilométrage</th>\n",
       "      <th>Carburant</th>\n",
       "      <th>Transmision</th>\n",
       "      <th>Puissance fiscale</th>\n",
       "      <th>...</th>\n",
       "      <th>Airbags</th>\n",
       "      <th>ABS</th>\n",
       "      <th>ESP</th>\n",
       "      <th>Antipatinage</th>\n",
       "      <th>Architecture</th>\n",
       "      <th>Cylindrée</th>\n",
       "      <th>Conso. ville</th>\n",
       "      <th>Conso. route</th>\n",
       "      <th>Vitesse maxi.</th>\n",
       "      <th>Volume du réservoir</th>\n",
       "    </tr>\n",
       "  </thead>\n",
       "  <tbody>\n",
       "    <tr>\n",
       "      <th>0</th>\n",
       "      <td>NaN</td>\n",
       "      <td>NaN</td>\n",
       "      <td>NaN</td>\n",
       "      <td>NaN</td>\n",
       "      <td>NaN</td>\n",
       "      <td>NaN</td>\n",
       "      <td>NaN</td>\n",
       "      <td>NaN</td>\n",
       "      <td>NaN</td>\n",
       "      <td>NaN</td>\n",
       "      <td>...</td>\n",
       "      <td>NaN</td>\n",
       "      <td>NaN</td>\n",
       "      <td>NaN</td>\n",
       "      <td>NaN</td>\n",
       "      <td>NaN</td>\n",
       "      <td>NaN</td>\n",
       "      <td>NaN</td>\n",
       "      <td>NaN</td>\n",
       "      <td>NaN</td>\n",
       "      <td>NaN</td>\n",
       "    </tr>\n",
       "    <tr>\n",
       "      <th>1</th>\n",
       "      <td>NaN</td>\n",
       "      <td>NaN</td>\n",
       "      <td>NaN</td>\n",
       "      <td>NaN</td>\n",
       "      <td>NaN</td>\n",
       "      <td>NaN</td>\n",
       "      <td>NaN</td>\n",
       "      <td>NaN</td>\n",
       "      <td>NaN</td>\n",
       "      <td>NaN</td>\n",
       "      <td>...</td>\n",
       "      <td>NaN</td>\n",
       "      <td>NaN</td>\n",
       "      <td>NaN</td>\n",
       "      <td>NaN</td>\n",
       "      <td>NaN</td>\n",
       "      <td>NaN</td>\n",
       "      <td>NaN</td>\n",
       "      <td>NaN</td>\n",
       "      <td>NaN</td>\n",
       "      <td>NaN</td>\n",
       "    </tr>\n",
       "    <tr>\n",
       "      <th>2</th>\n",
       "      <td>NaN</td>\n",
       "      <td>NaN</td>\n",
       "      <td>NaN</td>\n",
       "      <td>NaN</td>\n",
       "      <td>NaN</td>\n",
       "      <td>NaN</td>\n",
       "      <td>NaN</td>\n",
       "      <td>NaN</td>\n",
       "      <td>NaN</td>\n",
       "      <td>NaN</td>\n",
       "      <td>...</td>\n",
       "      <td>NaN</td>\n",
       "      <td>NaN</td>\n",
       "      <td>NaN</td>\n",
       "      <td>NaN</td>\n",
       "      <td>NaN</td>\n",
       "      <td>NaN</td>\n",
       "      <td>NaN</td>\n",
       "      <td>NaN</td>\n",
       "      <td>NaN</td>\n",
       "      <td>NaN</td>\n",
       "    </tr>\n",
       "    <tr>\n",
       "      <th>3</th>\n",
       "      <td>NaN</td>\n",
       "      <td>NaN</td>\n",
       "      <td>NaN</td>\n",
       "      <td>NaN</td>\n",
       "      <td>NaN</td>\n",
       "      <td>NaN</td>\n",
       "      <td>NaN</td>\n",
       "      <td>NaN</td>\n",
       "      <td>NaN</td>\n",
       "      <td>NaN</td>\n",
       "      <td>...</td>\n",
       "      <td>NaN</td>\n",
       "      <td>NaN</td>\n",
       "      <td>NaN</td>\n",
       "      <td>NaN</td>\n",
       "      <td>NaN</td>\n",
       "      <td>NaN</td>\n",
       "      <td>NaN</td>\n",
       "      <td>NaN</td>\n",
       "      <td>NaN</td>\n",
       "      <td>NaN</td>\n",
       "    </tr>\n",
       "    <tr>\n",
       "      <th>4</th>\n",
       "      <td>NaN</td>\n",
       "      <td>NaN</td>\n",
       "      <td>NaN</td>\n",
       "      <td>NaN</td>\n",
       "      <td>NaN</td>\n",
       "      <td>NaN</td>\n",
       "      <td>NaN</td>\n",
       "      <td>NaN</td>\n",
       "      <td>NaN</td>\n",
       "      <td>NaN</td>\n",
       "      <td>...</td>\n",
       "      <td>NaN</td>\n",
       "      <td>NaN</td>\n",
       "      <td>NaN</td>\n",
       "      <td>NaN</td>\n",
       "      <td>NaN</td>\n",
       "      <td>NaN</td>\n",
       "      <td>NaN</td>\n",
       "      <td>NaN</td>\n",
       "      <td>NaN</td>\n",
       "      <td>NaN</td>\n",
       "    </tr>\n",
       "    <tr>\n",
       "      <th>...</th>\n",
       "      <td>...</td>\n",
       "      <td>...</td>\n",
       "      <td>...</td>\n",
       "      <td>...</td>\n",
       "      <td>...</td>\n",
       "      <td>...</td>\n",
       "      <td>...</td>\n",
       "      <td>...</td>\n",
       "      <td>...</td>\n",
       "      <td>...</td>\n",
       "      <td>...</td>\n",
       "      <td>...</td>\n",
       "      <td>...</td>\n",
       "      <td>...</td>\n",
       "      <td>...</td>\n",
       "      <td>...</td>\n",
       "      <td>...</td>\n",
       "      <td>...</td>\n",
       "      <td>...</td>\n",
       "      <td>...</td>\n",
       "      <td>...</td>\n",
       "    </tr>\n",
       "    <tr>\n",
       "      <th>3124</th>\n",
       "      <td>NaN</td>\n",
       "      <td>NaN</td>\n",
       "      <td>NaN</td>\n",
       "      <td>NaN</td>\n",
       "      <td>NaN</td>\n",
       "      <td>NaN</td>\n",
       "      <td>NaN</td>\n",
       "      <td>NaN</td>\n",
       "      <td>NaN</td>\n",
       "      <td>NaN</td>\n",
       "      <td>...</td>\n",
       "      <td>NaN</td>\n",
       "      <td>NaN</td>\n",
       "      <td>NaN</td>\n",
       "      <td>NaN</td>\n",
       "      <td>NaN</td>\n",
       "      <td>NaN</td>\n",
       "      <td>NaN</td>\n",
       "      <td>NaN</td>\n",
       "      <td>NaN</td>\n",
       "      <td>NaN</td>\n",
       "    </tr>\n",
       "    <tr>\n",
       "      <th>3125</th>\n",
       "      <td>NaN</td>\n",
       "      <td>NaN</td>\n",
       "      <td>NaN</td>\n",
       "      <td>NaN</td>\n",
       "      <td>NaN</td>\n",
       "      <td>NaN</td>\n",
       "      <td>NaN</td>\n",
       "      <td>NaN</td>\n",
       "      <td>NaN</td>\n",
       "      <td>NaN</td>\n",
       "      <td>...</td>\n",
       "      <td>NaN</td>\n",
       "      <td>NaN</td>\n",
       "      <td>NaN</td>\n",
       "      <td>NaN</td>\n",
       "      <td>NaN</td>\n",
       "      <td>NaN</td>\n",
       "      <td>NaN</td>\n",
       "      <td>NaN</td>\n",
       "      <td>NaN</td>\n",
       "      <td>NaN</td>\n",
       "    </tr>\n",
       "    <tr>\n",
       "      <th>3126</th>\n",
       "      <td>NaN</td>\n",
       "      <td>NaN</td>\n",
       "      <td>NaN</td>\n",
       "      <td>NaN</td>\n",
       "      <td>NaN</td>\n",
       "      <td>NaN</td>\n",
       "      <td>NaN</td>\n",
       "      <td>NaN</td>\n",
       "      <td>NaN</td>\n",
       "      <td>NaN</td>\n",
       "      <td>...</td>\n",
       "      <td>NaN</td>\n",
       "      <td>NaN</td>\n",
       "      <td>NaN</td>\n",
       "      <td>NaN</td>\n",
       "      <td>NaN</td>\n",
       "      <td>NaN</td>\n",
       "      <td>NaN</td>\n",
       "      <td>NaN</td>\n",
       "      <td>NaN</td>\n",
       "      <td>NaN</td>\n",
       "    </tr>\n",
       "    <tr>\n",
       "      <th>3127</th>\n",
       "      <td>NaN</td>\n",
       "      <td>NaN</td>\n",
       "      <td>NaN</td>\n",
       "      <td>NaN</td>\n",
       "      <td>NaN</td>\n",
       "      <td>NaN</td>\n",
       "      <td>NaN</td>\n",
       "      <td>NaN</td>\n",
       "      <td>NaN</td>\n",
       "      <td>NaN</td>\n",
       "      <td>...</td>\n",
       "      <td>NaN</td>\n",
       "      <td>NaN</td>\n",
       "      <td>NaN</td>\n",
       "      <td>NaN</td>\n",
       "      <td>NaN</td>\n",
       "      <td>NaN</td>\n",
       "      <td>NaN</td>\n",
       "      <td>NaN</td>\n",
       "      <td>NaN</td>\n",
       "      <td>NaN</td>\n",
       "    </tr>\n",
       "    <tr>\n",
       "      <th>3128</th>\n",
       "      <td>NaN</td>\n",
       "      <td>NaN</td>\n",
       "      <td>NaN</td>\n",
       "      <td>NaN</td>\n",
       "      <td>NaN</td>\n",
       "      <td>NaN</td>\n",
       "      <td>NaN</td>\n",
       "      <td>NaN</td>\n",
       "      <td>NaN</td>\n",
       "      <td>NaN</td>\n",
       "      <td>...</td>\n",
       "      <td>NaN</td>\n",
       "      <td>NaN</td>\n",
       "      <td>NaN</td>\n",
       "      <td>NaN</td>\n",
       "      <td>NaN</td>\n",
       "      <td>NaN</td>\n",
       "      <td>NaN</td>\n",
       "      <td>NaN</td>\n",
       "      <td>NaN</td>\n",
       "      <td>NaN</td>\n",
       "    </tr>\n",
       "  </tbody>\n",
       "</table>\n",
       "<p>3129 rows × 43 columns</p>\n",
       "</div>"
      ],
      "text/plain": [
       "     Brand Model Version Price  Modèle Main Kilométrage Carburant Transmision  \\\n",
       "0      NaN   NaN     NaN   NaN     NaN  NaN         NaN       NaN         NaN   \n",
       "1      NaN   NaN     NaN   NaN     NaN  NaN         NaN       NaN         NaN   \n",
       "2      NaN   NaN     NaN   NaN     NaN  NaN         NaN       NaN         NaN   \n",
       "3      NaN   NaN     NaN   NaN     NaN  NaN         NaN       NaN         NaN   \n",
       "4      NaN   NaN     NaN   NaN     NaN  NaN         NaN       NaN         NaN   \n",
       "...    ...   ...     ...   ...     ...  ...         ...       ...         ...   \n",
       "3124   NaN   NaN     NaN   NaN     NaN  NaN         NaN       NaN         NaN   \n",
       "3125   NaN   NaN     NaN   NaN     NaN  NaN         NaN       NaN         NaN   \n",
       "3126   NaN   NaN     NaN   NaN     NaN  NaN         NaN       NaN         NaN   \n",
       "3127   NaN   NaN     NaN   NaN     NaN  NaN         NaN       NaN         NaN   \n",
       "3128   NaN   NaN     NaN   NaN     NaN  NaN         NaN       NaN         NaN   \n",
       "\n",
       "     Puissance fiscale  ... Airbags  ABS  ESP Antipatinage Architecture  \\\n",
       "0                  NaN  ...     NaN  NaN  NaN          NaN          NaN   \n",
       "1                  NaN  ...     NaN  NaN  NaN          NaN          NaN   \n",
       "2                  NaN  ...     NaN  NaN  NaN          NaN          NaN   \n",
       "3                  NaN  ...     NaN  NaN  NaN          NaN          NaN   \n",
       "4                  NaN  ...     NaN  NaN  NaN          NaN          NaN   \n",
       "...                ...  ...     ...  ...  ...          ...          ...   \n",
       "3124               NaN  ...     NaN  NaN  NaN          NaN          NaN   \n",
       "3125               NaN  ...     NaN  NaN  NaN          NaN          NaN   \n",
       "3126               NaN  ...     NaN  NaN  NaN          NaN          NaN   \n",
       "3127               NaN  ...     NaN  NaN  NaN          NaN          NaN   \n",
       "3128               NaN  ...     NaN  NaN  NaN          NaN          NaN   \n",
       "\n",
       "     Cylindrée Conso. ville Conso. route Vitesse maxi. Volume du réservoir  \n",
       "0          NaN          NaN          NaN           NaN                 NaN  \n",
       "1          NaN          NaN          NaN           NaN                 NaN  \n",
       "2          NaN          NaN          NaN           NaN                 NaN  \n",
       "3          NaN          NaN          NaN           NaN                 NaN  \n",
       "4          NaN          NaN          NaN           NaN                 NaN  \n",
       "...        ...          ...          ...           ...                 ...  \n",
       "3124       NaN          NaN          NaN           NaN                 NaN  \n",
       "3125       NaN          NaN          NaN           NaN                 NaN  \n",
       "3126       NaN          NaN          NaN           NaN                 NaN  \n",
       "3127       NaN          NaN          NaN           NaN                 NaN  \n",
       "3128       NaN          NaN          NaN           NaN                 NaN  \n",
       "\n",
       "[3129 rows x 43 columns]"
      ]
     },
     "execution_count": 8,
     "metadata": {},
     "output_type": "execute_result"
    }
   ],
   "source": [
    "wandaloo_cars[wandaloo_cars.isna()]"
   ]
  },
  {
   "cell_type": "code",
   "execution_count": 9,
   "id": "24e03b52",
   "metadata": {},
   "outputs": [
    {
     "data": {
      "text/plain": [
       "Brand                                      0\n",
       "Model                                      0\n",
       "Version                                  883\n",
       "Price                                      0\n",
       "Modèle                                   883\n",
       "Main                                     883\n",
       "Kilométrage                              883\n",
       "Carburant                                897\n",
       "Transmision                              883\n",
       "Puissance fiscale                         15\n",
       "Couleur extérieure                       883\n",
       "Etat du véhicule                         883\n",
       "Climatisation                             15\n",
       "Vitres électriques                        15\n",
       "Sièges électriques                        35\n",
       "Ordinateur de bord                        15\n",
       "Start & Stop                              15\n",
       "Régulateur de vitesse                     15\n",
       "Allumage auto. des feux                   15\n",
       "Détecteur de pluie                        15\n",
       "Commandes au volant                       15\n",
       "Ecran tactile                             15\n",
       "Rétroviseurs électriques                  15\n",
       "Ouverture auto. du coffre                883\n",
       "Démarrage mains libres                    15\n",
       "Banquette arrière rabattable 1/3-2/3      15\n",
       "Caméra de recul                           15\n",
       "Bluetooth                                 15\n",
       "Jantes aluminium                          15\n",
       "Volant cuir                               15\n",
       "Feux de jour                              15\n",
       "Barres de toit                            15\n",
       "Toit                                      15\n",
       "Airbags                                   15\n",
       "ABS                                       15\n",
       "ESP                                       15\n",
       "Antipatinage                              15\n",
       "Architecture                            2218\n",
       "Cylindrée                               2218\n",
       "Conso. ville                            2218\n",
       "Conso. route                            2218\n",
       "Vitesse maxi.                           2195\n",
       "Volume du réservoir                     2218\n",
       "dtype: int64"
      ]
     },
     "execution_count": 9,
     "metadata": {},
     "output_type": "execute_result"
    }
   ],
   "source": [
    "#Delete line if brand is nan\n",
    "wandaloo_cars= wandaloo_cars.dropna(subset=['Brand'])\n",
    "wandaloo_cars.isna().sum()"
   ]
  },
  {
   "cell_type": "markdown",
   "id": "84c967e7",
   "metadata": {},
   "source": [
    "# Part 2 : Cleaning data"
   ]
  },
  {
   "cell_type": "markdown",
   "id": "286cc1fd",
   "metadata": {},
   "source": [
    "## Task1 : Converting the type of 'Price' column to float"
   ]
  },
  {
   "cell_type": "code",
   "execution_count": 10,
   "id": "435baa0f",
   "metadata": {},
   "outputs": [
    {
     "data": {
      "text/plain": [
       "0    228.000 DH\n",
       "1     79.000 DH\n",
       "2    150.000 DH\n",
       "3    135.000 DH\n",
       "4    240.000 DH\n",
       "Name: Price, dtype: object"
      ]
     },
     "execution_count": 10,
     "metadata": {},
     "output_type": "execute_result"
    }
   ],
   "source": [
    "wandaloo_cars['Price'].head()"
   ]
  },
  {
   "cell_type": "code",
   "execution_count": 11,
   "id": "d8e66c46",
   "metadata": {},
   "outputs": [
    {
     "name": "stderr",
     "output_type": "stream",
     "text": [
      "C:\\Users\\HP\\AppData\\Local\\Temp\\ipykernel_13500\\908512053.py:1: SettingWithCopyWarning: \n",
      "A value is trying to be set on a copy of a slice from a DataFrame.\n",
      "Try using .loc[row_indexer,col_indexer] = value instead\n",
      "\n",
      "See the caveats in the documentation: https://pandas.pydata.org/pandas-docs/stable/user_guide/indexing.html#returning-a-view-versus-a-copy\n",
      "  wandaloo_cars['Price']=wandaloo_cars['Price'].str.replace('[^\\d]','',regex=True)\n",
      "C:\\Users\\HP\\AppData\\Local\\Temp\\ipykernel_13500\\908512053.py:2: SettingWithCopyWarning: \n",
      "A value is trying to be set on a copy of a slice from a DataFrame.\n",
      "Try using .loc[row_indexer,col_indexer] = value instead\n",
      "\n",
      "See the caveats in the documentation: https://pandas.pydata.org/pandas-docs/stable/user_guide/indexing.html#returning-a-view-versus-a-copy\n",
      "  wandaloo_cars['Price']=wandaloo_cars['Price'].astype('float')\n"
     ]
    },
    {
     "data": {
      "text/plain": [
       "269213.4142997062"
      ]
     },
     "execution_count": 11,
     "metadata": {},
     "output_type": "execute_result"
    }
   ],
   "source": [
    "wandaloo_cars['Price']=wandaloo_cars['Price'].str.replace('[^\\d]','',regex=True)\n",
    "wandaloo_cars['Price']=wandaloo_cars['Price'].astype('float')\n",
    "wandaloo_cars=wandaloo_cars.rename(columns={'Price': 'Prix - DH'})\n",
    "wandaloo_cars['Prix - DH'].mean()"
   ]
  },
  {
   "cell_type": "markdown",
   "id": "ee351577",
   "metadata": {},
   "source": [
    "## Task2 : Converting the type of 'Modèle' column to Datetime"
   ]
  },
  {
   "cell_type": "code",
   "execution_count": 12,
   "id": "6f368105",
   "metadata": {},
   "outputs": [
    {
     "data": {
      "text/plain": [
       "0    2014.0\n",
       "1    2003.0\n",
       "2    2013.0\n",
       "3    2006.0\n",
       "4    2014.0\n",
       "Name: Modèle, dtype: float64"
      ]
     },
     "execution_count": 12,
     "metadata": {},
     "output_type": "execute_result"
    }
   ],
   "source": [
    "wandaloo_cars['Modèle'].head()"
   ]
  },
  {
   "cell_type": "code",
   "execution_count": 13,
   "id": "a237f1b1",
   "metadata": {},
   "outputs": [
    {
     "data": {
      "text/plain": [
       "0   2014-01-01\n",
       "1   2003-01-01\n",
       "2   2013-01-01\n",
       "3   2006-01-01\n",
       "4   2014-01-01\n",
       "Name: Modèle, dtype: datetime64[ns]"
      ]
     },
     "execution_count": 13,
     "metadata": {},
     "output_type": "execute_result"
    }
   ],
   "source": [
    "wandaloo_cars['Modèle']=wandaloo_cars['Modèle'].apply(lambda x: str(x).split(\".\")[0])\n",
    "wandaloo_cars['Modèle'] = pd.to_datetime(wandaloo_cars['Modèle'], format=\"%Y-%m-%d\")\n",
    "wandaloo_cars['Modèle'].head()"
   ]
  },
  {
   "cell_type": "markdown",
   "id": "e53c00d3",
   "metadata": {},
   "source": [
    "## Task3 : Converting the type of 'Kilométrage' column to float"
   ]
  },
  {
   "cell_type": "code",
   "execution_count": 14,
   "id": "ec47493c",
   "metadata": {},
   "outputs": [
    {
     "data": {
      "text/plain": [
       "0    144.500 km\n",
       "1    350.000 km\n",
       "2    144.000 km\n",
       "3    248.000 km\n",
       "4    103.000 km\n",
       "Name: Kilométrage, dtype: object"
      ]
     },
     "execution_count": 14,
     "metadata": {},
     "output_type": "execute_result"
    }
   ],
   "source": [
    "wandaloo_cars['Kilométrage'].head()"
   ]
  },
  {
   "cell_type": "code",
   "execution_count": 15,
   "id": "7c6e416f",
   "metadata": {},
   "outputs": [
    {
     "data": {
      "text/plain": [
       "0    144500.0\n",
       "1    350000.0\n",
       "2    144000.0\n",
       "3    248000.0\n",
       "4    103000.0\n",
       "Name: Kilométrage, dtype: float64"
      ]
     },
     "execution_count": 15,
     "metadata": {},
     "output_type": "execute_result"
    }
   ],
   "source": [
    "wandaloo_cars['Kilométrage']=wandaloo_cars['Kilométrage'].str.replace('[^\\d]','',regex=True)\n",
    "wandaloo_cars['Kilométrage']=wandaloo_cars['Kilométrage'].astype('float')\n",
    "wandaloo_cars['Kilométrage'].head()"
   ]
  },
  {
   "cell_type": "markdown",
   "id": "0bca1c52",
   "metadata": {},
   "source": [
    "## Task4 : Converting the type of 'Puissance fiscale' column to float"
   ]
  },
  {
   "cell_type": "code",
   "execution_count": 16,
   "id": "a4a2c40b",
   "metadata": {},
   "outputs": [
    {
     "data": {
      "text/plain": [
       "array(['8 cv', '9 cv', '6 cv', '12 cv', '11 cv', '10 cv', '7 cv', '13 cv',\n",
       "       '-', '17 cv', '4 cv', '5 cv', '06 cv', '14 cv', '2 cv', '85 cv',\n",
       "       '1 cv', '07 cv', '95 cv', '75 cv', '73 cv', '- cv', '16 cv',\n",
       "       '21 cv', '47 cv', '15 cv', '23 cv', '22 cv', '26 cv', '29 cv',\n",
       "       '70 cv', '81 cv', '3 cv', '19 cv', '18 cv', '08 cv', '24 cv',\n",
       "       '25 cv', nan, 'cv', '20 cv', '37 cv', '27 cv'], dtype=object)"
      ]
     },
     "execution_count": 16,
     "metadata": {},
     "output_type": "execute_result"
    }
   ],
   "source": [
    "wandaloo_cars['Puissance fiscale'].unique()"
   ]
  },
  {
   "cell_type": "code",
   "execution_count": 17,
   "id": "836a0a43",
   "metadata": {},
   "outputs": [
    {
     "data": {
      "text/plain": [
       "0    8.0\n",
       "1    8.0\n",
       "2    8.0\n",
       "3    9.0\n",
       "4    9.0\n",
       "Name: Puissance fiscale en cv, dtype: float64"
      ]
     },
     "execution_count": 17,
     "metadata": {},
     "output_type": "execute_result"
    }
   ],
   "source": [
    "wandaloo_cars['Puissance fiscale']=wandaloo_cars['Puissance fiscale'].str.strip(\" cv\")\n",
    "wandaloo_cars['Puissance fiscale']=wandaloo_cars['Puissance fiscale'].replace([\"-\",''],np.nan)\n",
    "wandaloo_cars['Puissance fiscale']=wandaloo_cars['Puissance fiscale'].astype('float')\n",
    "wandaloo_cars=wandaloo_cars.rename(columns={'Puissance fiscale': 'Puissance fiscale en cv'})\n",
    "wandaloo_cars['Puissance fiscale en cv'].head()"
   ]
  },
  {
   "cell_type": "markdown",
   "id": "1c642e70",
   "metadata": {},
   "source": [
    "## Task5 : Replacing values and collapsing data of 'Climatisation' column"
   ]
  },
  {
   "cell_type": "code",
   "execution_count": 18,
   "id": "c3f3650c",
   "metadata": {},
   "outputs": [
    {
     "data": {
      "text/plain": [
       "array(['auto. Bi-zone', 'auto.', 'manuelle', 'auto. Multi-zone',\n",
       "       'auto. Tri-zone', 'non', 'تلقاءي.', 'auto. Quadri-zone', nan],\n",
       "      dtype=object)"
      ]
     },
     "execution_count": 18,
     "metadata": {},
     "output_type": "execute_result"
    }
   ],
   "source": [
    "wandaloo_cars['Climatisation'].unique()"
   ]
  },
  {
   "cell_type": "code",
   "execution_count": 19,
   "id": "fb983f57",
   "metadata": {},
   "outputs": [],
   "source": [
    "wandaloo_cars['Climatisation']=wandaloo_cars['Climatisation'].replace('تلقاءي.','auto.')"
   ]
  },
  {
   "cell_type": "markdown",
   "id": "d456cacf",
   "metadata": {},
   "source": [
    "## Task6 : Replacing values and collapsing data of 'Jantes aluminium' column"
   ]
  },
  {
   "cell_type": "code",
   "execution_count": 20,
   "id": "6ef77e83",
   "metadata": {},
   "outputs": [
    {
     "data": {
      "text/plain": [
       "array(['oui', 'non', '17 pouces', '18 pouces', '19 pouces', '20 pouces',\n",
       "       '16 pouces', '21 pouces', '22 pouces', '15 pouces', nan,\n",
       "       '14 pouces'], dtype=object)"
      ]
     },
     "execution_count": 20,
     "metadata": {},
     "output_type": "execute_result"
    }
   ],
   "source": [
    "wandaloo_cars['Jantes aluminium'].unique()"
   ]
  },
  {
   "cell_type": "code",
   "execution_count": 21,
   "id": "76d8d72d",
   "metadata": {},
   "outputs": [
    {
     "data": {
      "text/plain": [
       "oui          1429\n",
       "non           837\n",
       "18 pouces     198\n",
       "17 pouces     187\n",
       "19 pouces     155\n",
       "16 pouces     107\n",
       "20 pouces      76\n",
       "21 pouces      24\n",
       "15 pouces      22\n",
       "14 pouces       8\n",
       "22 pouces       5\n",
       "Name: Jantes aluminium, dtype: int64"
      ]
     },
     "execution_count": 21,
     "metadata": {},
     "output_type": "execute_result"
    }
   ],
   "source": [
    "wandaloo_cars['Jantes aluminium'].value_counts()"
   ]
  },
  {
   "cell_type": "code",
   "execution_count": 22,
   "id": "1322975b",
   "metadata": {},
   "outputs": [],
   "source": [
    "wandaloo_cars['Jantes aluminium'] =wandaloo_cars['Jantes aluminium'].map({'18 pouces':'oui','17 pouces':'oui','19 pouces':'oui','16 pouces':'oui','20 pouces':'oui','21 pouces':'oui','15 pouces':'oui','14 pouces':'oui','22 pouces':'oui','oui':'oui','non':'non'})"
   ]
  },
  {
   "cell_type": "code",
   "execution_count": 23,
   "id": "fbf29088",
   "metadata": {},
   "outputs": [
    {
     "data": {
      "text/plain": [
       "oui    2211\n",
       "non     837\n",
       "Name: Jantes aluminium, dtype: int64"
      ]
     },
     "execution_count": 23,
     "metadata": {},
     "output_type": "execute_result"
    }
   ],
   "source": [
    "wandaloo_cars['Jantes aluminium'].value_counts()"
   ]
  },
  {
   "cell_type": "markdown",
   "id": "971a242d",
   "metadata": {},
   "source": [
    "## Task7 : Replacing values and collapsing data of 'Airbags' column"
   ]
  },
  {
   "cell_type": "code",
   "execution_count": 24,
   "id": "5d10ef3f",
   "metadata": {},
   "outputs": [
    {
     "data": {
      "text/plain": [
       "array(['oui', 'non', '8.0', '6.0', '10.0', '7.0', '0.0', '2.0', '4.0',\n",
       "       nan, '9.0', '1.0'], dtype=object)"
      ]
     },
     "execution_count": 24,
     "metadata": {},
     "output_type": "execute_result"
    }
   ],
   "source": [
    "wandaloo_cars['Airbags'].unique()"
   ]
  },
  {
   "cell_type": "code",
   "execution_count": 25,
   "id": "67319427",
   "metadata": {},
   "outputs": [
    {
     "data": {
      "text/plain": [
       "oui     1922\n",
       "6.0      290\n",
       "non      258\n",
       "8.0      183\n",
       "7.0      171\n",
       "2.0      117\n",
       "4.0       51\n",
       "9.0       24\n",
       "10.0      23\n",
       "0.0        7\n",
       "1.0        2\n",
       "Name: Airbags, dtype: int64"
      ]
     },
     "execution_count": 25,
     "metadata": {},
     "output_type": "execute_result"
    }
   ],
   "source": [
    "wandaloo_cars['Airbags'].value_counts()"
   ]
  },
  {
   "cell_type": "code",
   "execution_count": 26,
   "id": "7ad0b245",
   "metadata": {},
   "outputs": [],
   "source": [
    "wandaloo_cars['Airbags'] =wandaloo_cars['Airbags'].map({'6.0':'oui','8.0':'oui','7.0':'oui','2.0':'oui','4.0':'oui','9.0':'oui','10.0':'oui','1.0':'oui','0.0':'non','oui':'oui','non':'non'})"
   ]
  },
  {
   "cell_type": "code",
   "execution_count": 27,
   "id": "222f2c28",
   "metadata": {},
   "outputs": [
    {
     "data": {
      "text/plain": [
       "oui    2783\n",
       "non     265\n",
       "Name: Airbags, dtype: int64"
      ]
     },
     "execution_count": 27,
     "metadata": {},
     "output_type": "execute_result"
    }
   ],
   "source": [
    "wandaloo_cars['Airbags'].value_counts()"
   ]
  },
  {
   "cell_type": "markdown",
   "id": "e73da869",
   "metadata": {},
   "source": [
    "## Task8 : Converting the type of 'Cylindrée' column to float"
   ]
  },
  {
   "cell_type": "code",
   "execution_count": 28,
   "id": "bb3c2f79",
   "metadata": {},
   "outputs": [
    {
     "data": {
      "text/plain": [
       "array([nan, '2.143 cm³', '2.891 cm³', '1.968 cm³', '2.967 cm³',\n",
       "       '1.598 cm³', '1.496 cm³', '1.995 cm³', '1.998 cm³', '2.998 cm³',\n",
       "       '2.993 cm³', '4.395 cm³', '1.560 cm³', '1.499 cm³', '1.997 cm³',\n",
       "       '1.597 cm³', '999 cm³', '1.461 cm³', '1.198 cm³', '1.498 cm³',\n",
       "       '1.242 cm³', '1.368 cm³', '1.248 cm³', '1.100 cm³', '2.956 cm³',\n",
       "       '2.300 cm³', '4.951 cm³', '1.318 cm³', '1.996 cm³', '1.993 cm³',\n",
       "       '1.493 cm³', '1.580 cm³', '1.999 cm³', '2.199 cm³', '2.987 cm³',\n",
       "       '998 cm³', '1.197 cm³', '3.342 cm³', '2.151 cm³', '2.996 cm³',\n",
       "       '2.997 cm³', '2.494 cm³', '2.487 cm³', '3.456 cm³', '1.987 cm³',\n",
       "       '2.179 cm³', '2.191 cm³', '1.950 cm³', '1.332 cm³', '1.991 cm³',\n",
       "       '2.925 cm³', '3.982 cm³', '5.980 cm³', '2.268 cm³', '2.477 cm³',\n",
       "       '1.199 cm³', '1.910 cm³', '2.981 cm³', '3.745 cm³', '2.894 cm³',\n",
       "       '1.984 cm³', '2.995 cm³', '1.333 cm³', '1.490 cm³', '1.798 cm³',\n",
       "       '2.393 cm³', '2.982 cm³', '4.461 cm³', '1.969 cm³', '1.477 cm³'],\n",
       "      dtype=object)"
      ]
     },
     "execution_count": 28,
     "metadata": {},
     "output_type": "execute_result"
    }
   ],
   "source": [
    "wandaloo_cars['Cylindrée'].unique()"
   ]
  },
  {
   "cell_type": "code",
   "execution_count": 29,
   "id": "d83dd8f0",
   "metadata": {},
   "outputs": [
    {
     "data": {
      "text/plain": [
       "array([    nan,   2.143,   2.891,   1.968,   2.967,   1.598,   1.496,\n",
       "         1.995,   1.998,   2.998,   2.993,   4.395,   1.56 ,   1.499,\n",
       "         1.997,   1.597, 999.   ,   1.461,   1.198,   1.498,   1.242,\n",
       "         1.368,   1.248,   1.1  ,   2.956,   2.3  ,   4.951,   1.318,\n",
       "         1.996,   1.993,   1.493,   1.58 ,   1.999,   2.199,   2.987,\n",
       "       998.   ,   1.197,   3.342,   2.151,   2.996,   2.997,   2.494,\n",
       "         2.487,   3.456,   1.987,   2.179,   2.191,   1.95 ,   1.332,\n",
       "         1.991,   2.925,   3.982,   5.98 ,   2.268,   2.477,   1.199,\n",
       "         1.91 ,   2.981,   3.745,   2.894,   1.984,   2.995,   1.333,\n",
       "         1.49 ,   1.798,   2.393,   2.982,   4.461,   1.969,   1.477])"
      ]
     },
     "execution_count": 29,
     "metadata": {},
     "output_type": "execute_result"
    }
   ],
   "source": [
    "wandaloo_cars['Cylindrée']=wandaloo_cars['Cylindrée'].str.strip(\" cm³\")\n",
    "wandaloo_cars['Cylindrée']=wandaloo_cars['Cylindrée'].astype(\"float\")\n",
    "wandaloo_cars=wandaloo_cars.rename(columns={'Cylindrée': 'Cylindrée en cm³'})\n",
    "wandaloo_cars['Cylindrée en cm³'].unique()"
   ]
  },
  {
   "cell_type": "markdown",
   "id": "541ef6ba",
   "metadata": {},
   "source": [
    "## Task9 : Converting the type of 'Conso. ville' column to float"
   ]
  },
  {
   "cell_type": "code",
   "execution_count": 30,
   "id": "a23d28e6",
   "metadata": {},
   "outputs": [
    {
     "data": {
      "text/plain": [
       "array([nan, '6,2 l/100 km', '12,8 l/100 km', '6,1 l/100 km',\n",
       "       '6,9 l/100 km', '5,0 l/100 km', '4,6 l/100 km', '4,2 l/100 km',\n",
       "       '4,9 l/100 km', '4,8 l/100 km', '4,7 l/100 km', '5,1 l/100 km',\n",
       "       '6,3 l/100 km', '8,1 l/100 km', '5,5 l/100 km', '7,3 l/100 km',\n",
       "       '9,6 l/100 km', '5,2 l/100 km', '8,4 l/100 km', '4,3 l/100 km',\n",
       "       '8,5 l/100 km', '5,3 l/100 km', '- l/100 km', '9,2 l/100 km',\n",
       "       '5,9 l/100 km', '7,6 l/100 km', '7,8 l/100 km', '8,6 l/100 km',\n",
       "       '11,4 l/100 km', '5,8 l/100 km', '7,5 l/100 km', '13,8 l/100 km',\n",
       "       '15,1 l/100 km', '15,2 l/100 km', '8,3 l/100 km', '14,2 l/100 km',\n",
       "       '5,6 l/100 km', '5,4 l/100 km', '7,2 l/100 km', '6,8 l/100 km',\n",
       "       '7,9 l/100 km', '5,7 l/100 km', '4,4 l/100 km', '4,5 l/100 km',\n",
       "       '3,9 l/100 km', '6,4 l/100 km', '7,7 l/100 km', '9,0 l/100 km',\n",
       "       '14,1 l/100 km', '18,6 l/100 km', '6,0 l/100 km', '6,5 l/100 km',\n",
       "       'l/100 km', '8,8 l/100 km', '9,3 l/100 km', '11,2 l/100 km',\n",
       "       '12,9 l/100 km', '7,1 l/100 km', '3,4 l/100 km', '6,6 l/100 km',\n",
       "       '8,9 l/100 km', '8,7 l/100 km', '7,0 l/100 km', '11,1 l/100 km',\n",
       "       '13,4 l/100 km', '18,7 l/100 km', '3,5 l/100 km', '3,7 l/100 km',\n",
       "       '4,1 l/100 km', '3,8 l/100 km', '4,0 l/100 km', '18,5 l/100 km',\n",
       "       '17,8 l/100 km', '18,2 l/100 km', '18,1 l/100 km', '18,3 l/100 km',\n",
       "       '20,2 l/100 km', '20,7 l/100 km', '15,3 l/100 km', '7,4 l/100 km',\n",
       "       '8,2 l/100 km', '9,5 l/100 km', '9,8 l/100 km', '3,2 l/100 km',\n",
       "       '3,6 l/100 km', '13,5 l/100 km'], dtype=object)"
      ]
     },
     "execution_count": 30,
     "metadata": {},
     "output_type": "execute_result"
    }
   ],
   "source": [
    "wandaloo_cars['Conso. ville'].unique()"
   ]
  },
  {
   "cell_type": "code",
   "execution_count": 31,
   "id": "b1e1e4d4",
   "metadata": {},
   "outputs": [
    {
     "data": {
      "text/plain": [
       "array([ nan,  6.2, 12.8,  6.1,  6.9,  5. ,  4.6,  4.2,  4.9,  4.8,  4.7,\n",
       "        5.1,  6.3,  8.1,  5.5,  7.3,  9.6,  5.2,  8.4,  4.3,  8.5,  5.3,\n",
       "        9.2,  5.9,  7.6,  7.8,  8.6, 11.4,  5.8,  7.5, 13.8, 15.1, 15.2,\n",
       "        8.3, 14.2,  5.6,  5.4,  7.2,  6.8,  7.9,  5.7,  4.4,  4.5,  3.9,\n",
       "        6.4,  7.7,  9. , 14.1, 18.6,  6. ,  6.5,  8.8,  9.3, 11.2, 12.9,\n",
       "        7.1,  3.4,  6.6,  8.9,  8.7,  7. , 11.1, 13.4, 18.7,  3.5,  3.7,\n",
       "        4.1,  3.8,  4. , 18.5, 17.8, 18.2, 18.1, 18.3, 20.2, 20.7, 15.3,\n",
       "        7.4,  8.2,  9.5,  9.8,  3.2,  3.6, 13.5])"
      ]
     },
     "execution_count": 31,
     "metadata": {},
     "output_type": "execute_result"
    }
   ],
   "source": [
    "wandaloo_cars['Conso. ville']=wandaloo_cars['Conso. ville'].replace([\"- l/100 km\",'l/100 km'],np.nan)\n",
    "wandaloo_cars['Conso. ville']=wandaloo_cars['Conso. ville'].str.replace(\",\",\".\")\n",
    "wandaloo_cars['Conso. ville']=wandaloo_cars['Conso. ville'].str.replace(\"l/100 km\",\"\")\n",
    "wandaloo_cars['Conso. ville']=wandaloo_cars['Conso. ville'].astype(\"float\")\n",
    "wandaloo_cars=wandaloo_cars.rename(columns={'Conso. ville': 'Conso. ville en l/100km'})\n",
    "wandaloo_cars['Conso. ville en l/100km'].unique()"
   ]
  },
  {
   "cell_type": "markdown",
   "id": "f763d6e2",
   "metadata": {},
   "source": [
    "## Task10 : Converting the type of 'Conso. route' column to float"
   ]
  },
  {
   "cell_type": "code",
   "execution_count": 32,
   "id": "98aa32af",
   "metadata": {},
   "outputs": [
    {
     "data": {
      "text/plain": [
       "array([nan, '4,3 l/100 km', '6,1 l/100 km', '5,2 l/100 km',\n",
       "       '5,6 l/100 km', '3,2 l/100 km', '3,4 l/100 km', '3,8 l/100 km',\n",
       "       '3,9 l/100 km', '5,0 l/100 km', '4,4 l/100 km', '5,4 l/100 km',\n",
       "       '5,7 l/100 km', '3,6 l/100 km', '4,8 l/100 km', '4,0 l/100 km',\n",
       "       '4,6 l/100 km', '7,5 l/100 km', '4,2 l/100 km', '3,7 l/100 km',\n",
       "       '6,6 l/100 km', '4,1 l/100 km', '4,5 l/100 km', '- l/100 km',\n",
       "       '5,8 l/100 km', '6,2 l/100 km', '8,3 l/100 km', '5,1 l/100 km',\n",
       "       '5,3 l/100 km', '7,7 l/100 km', '7,9 l/100 km', '8,0 l/100 km',\n",
       "       '8,1 l/100 km', '6,3 l/100 km', '4,9 l/100 km', '4,7 l/100 km',\n",
       "       '6,5 l/100 km', '6,7 l/100 km', '3,5 l/100 km', '3,3 l/100 km',\n",
       "       '10,0 l/100 km', '12,0 l/100 km', 'l/100 km', '7,8 l/100 km',\n",
       "       '5,5 l/100 km', '7,1 l/100 km', '6,9 l/100 km', '6,4 l/100 km',\n",
       "       '9,1 l/100 km', '9,8 l/100 km', '10,3 l/100 km', '10,7 l/100 km',\n",
       "       '3,1 l/100 km', '2,9 l/100 km', '3,0 l/100 km', '8,8 l/100 km',\n",
       "       '9,2 l/100 km', '9,0 l/100 km', '10,2 l/100 km', '9,5 l/100 km',\n",
       "       '5,9 l/100 km', '9,3 l/100 km', '8,5 l/100 km'], dtype=object)"
      ]
     },
     "execution_count": 32,
     "metadata": {},
     "output_type": "execute_result"
    }
   ],
   "source": [
    "wandaloo_cars['Conso. route'].unique()"
   ]
  },
  {
   "cell_type": "code",
   "execution_count": 33,
   "id": "7b40799a",
   "metadata": {},
   "outputs": [
    {
     "data": {
      "text/plain": [
       "array([ nan,  4.3,  6.1,  5.2,  5.6,  3.2,  3.4,  3.8,  3.9,  5. ,  4.4,\n",
       "        5.4,  5.7,  3.6,  4.8,  4. ,  4.6,  7.5,  4.2,  3.7,  6.6,  4.1,\n",
       "        4.5,  5.8,  6.2,  8.3,  5.1,  5.3,  7.7,  7.9,  8. ,  8.1,  6.3,\n",
       "        4.9,  4.7,  6.5,  6.7,  3.5,  3.3, 10. , 12. ,  7.8,  5.5,  7.1,\n",
       "        6.9,  6.4,  9.1,  9.8, 10.3, 10.7,  3.1,  2.9,  3. ,  8.8,  9.2,\n",
       "        9. , 10.2,  9.5,  5.9,  9.3,  8.5])"
      ]
     },
     "execution_count": 33,
     "metadata": {},
     "output_type": "execute_result"
    }
   ],
   "source": [
    "wandaloo_cars['Conso. route']=wandaloo_cars['Conso. route'].replace([\"- l/100 km\",'l/100 km'],np.nan)\n",
    "wandaloo_cars['Conso. route']=wandaloo_cars['Conso. route'].str.replace(\",\",\".\")\n",
    "wandaloo_cars['Conso. route']=wandaloo_cars['Conso. route'].str.replace(\"l/100 km\",\"\")\n",
    "wandaloo_cars['Conso. route']=wandaloo_cars['Conso. route'].astype(\"float\")\n",
    "wandaloo_cars=wandaloo_cars.rename(columns={'Conso. route': 'Conso. route en l/100km'})\n",
    "wandaloo_cars['Conso. route en l/100km'].unique()"
   ]
  },
  {
   "cell_type": "markdown",
   "id": "5b130733",
   "metadata": {},
   "source": [
    "## Task11 : Converting the type of 'Vitesse maxi.' column to float"
   ]
  },
  {
   "cell_type": "code",
   "execution_count": 34,
   "id": "12054299",
   "metadata": {},
   "outputs": [
    {
     "data": {
      "text/plain": [
       "array([nan, '230 km/h', '307 km/h', '210 km/h', '215 km/h', '206 km/h',\n",
       "       '222 km/h', '232 km/h', '250 km/h', '245 km/h', '201 km/h',\n",
       "       '216 km/h', '207 km/h', '195 km/h', '225 km/h', '200 km/h',\n",
       "       '194 km/h', '224 km/h', '236 km/h', '240 km/h', '235 km/h',\n",
       "       '238 km/h', '190 km/h', '205 km/h', '213 km/h', '220 km/h',\n",
       "       '45 km/h', '180 km/h', '172 km/h', '193 km/h', '175 km/h',\n",
       "       '189 km/h', '211 km/h', '150 km/h', '165 km/h', '158 km/h',\n",
       "       '174 km/h', '155 km/h', '169 km/h', '168 km/h', '160 km/h',\n",
       "       '185 km/h', '199 km/h', '186 km/h', '170 km/h', '187 km/h',\n",
       "       '218 km/h', '177 km/h', '208 km/h', '233 km/h', '182 km/h',\n",
       "       '156 km/h', '173 km/h', '161 km/h', '192 km/h', 'km/h', '217 km/h',\n",
       "       '249 km/h', '178 km/h', '202 km/h', '270 km/h', '167 km/h',\n",
       "       '162 km/h', '183 km/h', '209 km/h', '234 km/h', '- km/h',\n",
       "       '204 km/h', '219 km/h', '244 km/h', '239 km/h', '242 km/h',\n",
       "       '231 km/h', '227 km/h', '241 km/h', '179 km/h', '196 km/h',\n",
       "       '188 km/h', '292 km/h', '308 km/h', '306 km/h', '304 km/h',\n",
       "       '320 km/h', '330 km/h', '280 km/h', '298 km/h', '315 km/h',\n",
       "       '259 km/h', '272 km/h', '253 km/h', '260 km/h', '197 km/h',\n",
       "       '181 km/h', '164 km/h', '191 km/h', '228 km/h', '184 km/h',\n",
       "       '171 km/h', '198 km/h'], dtype=object)"
      ]
     },
     "execution_count": 34,
     "metadata": {},
     "output_type": "execute_result"
    }
   ],
   "source": [
    "wandaloo_cars['Vitesse maxi.'].unique() "
   ]
  },
  {
   "cell_type": "code",
   "execution_count": 35,
   "id": "fc3f73d0",
   "metadata": {},
   "outputs": [
    {
     "data": {
      "text/plain": [
       "array([ nan, 230., 307., 210., 215., 206., 222., 232., 250., 245., 201.,\n",
       "       216., 207., 195., 225., 200., 194., 224., 236., 240., 235., 238.,\n",
       "       190., 205., 213., 220.,  45., 180., 172., 193., 175., 189., 211.,\n",
       "       150., 165., 158., 174., 155., 169., 168., 160., 185., 199., 186.,\n",
       "       170., 187., 218., 177., 208., 233., 182., 156., 173., 161., 192.,\n",
       "       217., 249., 178., 202., 270., 167., 162., 183., 209., 234., 204.,\n",
       "       219., 244., 239., 242., 231., 227., 241., 179., 196., 188., 292.,\n",
       "       308., 306., 304., 320., 330., 280., 298., 315., 259., 272., 253.,\n",
       "       260., 197., 181., 164., 191., 228., 184., 171., 198.])"
      ]
     },
     "execution_count": 35,
     "metadata": {},
     "output_type": "execute_result"
    }
   ],
   "source": [
    "wandaloo_cars['Vitesse maxi.']=wandaloo_cars['Vitesse maxi.'].str.strip(\" km/h\")\n",
    "wandaloo_cars['Vitesse maxi.']=wandaloo_cars['Vitesse maxi.'].replace([\"-\",''],np.nan)\n",
    "wandaloo_cars['Vitesse maxi.']=wandaloo_cars['Vitesse maxi.'].astype(\"float\")\n",
    "wandaloo_cars=wandaloo_cars.rename(columns={'Vitesse maxi.': 'Vitesse maxi. en km/h'})\n",
    "wandaloo_cars['Vitesse maxi. en km/h'].unique()"
   ]
  },
  {
   "cell_type": "markdown",
   "id": "27dab22e",
   "metadata": {},
   "source": [
    "## Task12 : Converting the type of 'Volume du réservoir' column to float"
   ]
  },
  {
   "cell_type": "code",
   "execution_count": 36,
   "id": "a70438eb",
   "metadata": {},
   "outputs": [
    {
     "data": {
      "text/plain": [
       "array([nan, '58 litre', '50 litre', '40 litre', '73 litre', '82 litre',\n",
       "       '60 litre', '65 litre', '85 litre', '57 litre', '59 litre',\n",
       "       '68 litre', '78 litre', '66 litre', '51 litre', '67 litre',\n",
       "       '80 litre', '42 litre', '45 litre', '- litre', '41 litre',\n",
       "       '55 litre', '35 litre', '48 litre', '47 litre', '62 litre',\n",
       "       '54 litre', '36 litre', '38 litre', '56 litre', '74 litre',\n",
       "       '70 litre', '94 litre', '43 litre', '72 litre', '104 litre',\n",
       "       '89 litre', '86 litre', '44 litre', '76 litre', '100 litre',\n",
       "       '63 litre', '46 litre', '53 litre', '61 litre', '75 litre',\n",
       "       '90 litre', '52 litre', '37 litre', '87 litre', '93 litre',\n",
       "       '71 litre'], dtype=object)"
      ]
     },
     "execution_count": 36,
     "metadata": {},
     "output_type": "execute_result"
    }
   ],
   "source": [
    "wandaloo_cars['Volume du réservoir'].unique()"
   ]
  },
  {
   "cell_type": "code",
   "execution_count": 37,
   "id": "fdaa75c3",
   "metadata": {},
   "outputs": [
    {
     "data": {
      "text/plain": [
       "array([ nan,  58.,  50.,  40.,  73.,  82.,  60.,  65.,  85.,  57.,  59.,\n",
       "        68.,  78.,  66.,  51.,  67.,  80.,  42.,  45.,  41.,  55.,  35.,\n",
       "        48.,  47.,  62.,  54.,  36.,  38.,  56.,  74.,  70.,  94.,  43.,\n",
       "        72., 104.,  89.,  86.,  44.,  76., 100.,  63.,  46.,  53.,  61.,\n",
       "        75.,  90.,  52.,  37.,  87.,  93.,  71.])"
      ]
     },
     "execution_count": 37,
     "metadata": {},
     "output_type": "execute_result"
    }
   ],
   "source": [
    "wandaloo_cars['Volume du réservoir']=wandaloo_cars['Volume du réservoir'].str.strip(\" litre\")\n",
    "wandaloo_cars['Volume du réservoir']=wandaloo_cars['Volume du réservoir'].replace(\"-\",np.nan)\n",
    "wandaloo_cars['Volume du réservoir']=wandaloo_cars['Volume du réservoir'].astype(\"float\")\n",
    "wandaloo_cars=wandaloo_cars.rename(columns={'Volume du réservoir': 'Volume du réservoir en Litre'})\n",
    "wandaloo_cars['Volume du réservoir en Litre'].unique()"
   ]
  },
  {
   "cell_type": "markdown",
   "id": "8934b6c7",
   "metadata": {},
   "source": [
    "# Part 3 : Dealing with missing data"
   ]
  },
  {
   "cell_type": "code",
   "execution_count": 38,
   "id": "0d665e9a",
   "metadata": {},
   "outputs": [
    {
     "data": {
      "text/plain": [
       "Brand                                      0\n",
       "Model                                      0\n",
       "Version                                  883\n",
       "Prix - DH                                  0\n",
       "Modèle                                   883\n",
       "Main                                     883\n",
       "Kilométrage                              883\n",
       "Carburant                                897\n",
       "Transmision                              883\n",
       "Puissance fiscale en cv                  320\n",
       "Couleur extérieure                       883\n",
       "Etat du véhicule                         883\n",
       "Climatisation                             15\n",
       "Vitres électriques                        15\n",
       "Sièges électriques                        35\n",
       "Ordinateur de bord                        15\n",
       "Start & Stop                              15\n",
       "Régulateur de vitesse                     15\n",
       "Allumage auto. des feux                   15\n",
       "Détecteur de pluie                        15\n",
       "Commandes au volant                       15\n",
       "Ecran tactile                             15\n",
       "Rétroviseurs électriques                  15\n",
       "Ouverture auto. du coffre                883\n",
       "Démarrage mains libres                    15\n",
       "Banquette arrière rabattable 1/3-2/3      15\n",
       "Caméra de recul                           15\n",
       "Bluetooth                                 15\n",
       "Jantes aluminium                          15\n",
       "Volant cuir                               15\n",
       "Feux de jour                              15\n",
       "Barres de toit                            15\n",
       "Toit                                      15\n",
       "Airbags                                   15\n",
       "ABS                                       15\n",
       "ESP                                       15\n",
       "Antipatinage                              15\n",
       "Architecture                            2218\n",
       "Cylindrée en cm³                        2218\n",
       "Conso. ville en l/100km                 2341\n",
       "Conso. route en l/100km                 2341\n",
       "Vitesse maxi. en km/h                   2207\n",
       "Volume du réservoir en Litre            2237\n",
       "dtype: int64"
      ]
     },
     "execution_count": 38,
     "metadata": {},
     "output_type": "execute_result"
    }
   ],
   "source": [
    "wandaloo_cars.isna().sum()"
   ]
  },
  {
   "cell_type": "markdown",
   "id": "c0c4907e",
   "metadata": {},
   "source": [
    "## Task1 : Deleting columns with a lot of missing values"
   ]
  },
  {
   "cell_type": "code",
   "execution_count": 39,
   "id": "3163d4c8",
   "metadata": {},
   "outputs": [],
   "source": [
    "# Drop the specified columns\n",
    "wandaloo_cars = wandaloo_cars.drop(columns=[\"Architecture\",\"Cylindrée en cm³\",\"Conso. ville en l/100km\",\"Conso. route en l/100km\",\"Vitesse maxi. en km/h\",\"Volume du réservoir en Litre\"])"
   ]
  },
  {
   "cell_type": "code",
   "execution_count": 40,
   "id": "8fbd8fc5",
   "metadata": {},
   "outputs": [
    {
     "data": {
      "text/plain": [
       "Brand                                     0\n",
       "Model                                     0\n",
       "Version                                 883\n",
       "Prix - DH                                 0\n",
       "Modèle                                  883\n",
       "Main                                    883\n",
       "Kilométrage                             883\n",
       "Carburant                               897\n",
       "Transmision                             883\n",
       "Puissance fiscale en cv                 320\n",
       "Couleur extérieure                      883\n",
       "Etat du véhicule                        883\n",
       "Climatisation                            15\n",
       "Vitres électriques                       15\n",
       "Sièges électriques                       35\n",
       "Ordinateur de bord                       15\n",
       "Start & Stop                             15\n",
       "Régulateur de vitesse                    15\n",
       "Allumage auto. des feux                  15\n",
       "Détecteur de pluie                       15\n",
       "Commandes au volant                      15\n",
       "Ecran tactile                            15\n",
       "Rétroviseurs électriques                 15\n",
       "Ouverture auto. du coffre               883\n",
       "Démarrage mains libres                   15\n",
       "Banquette arrière rabattable 1/3-2/3     15\n",
       "Caméra de recul                          15\n",
       "Bluetooth                                15\n",
       "Jantes aluminium                         15\n",
       "Volant cuir                              15\n",
       "Feux de jour                             15\n",
       "Barres de toit                           15\n",
       "Toit                                     15\n",
       "Airbags                                  15\n",
       "ABS                                      15\n",
       "ESP                                      15\n",
       "Antipatinage                             15\n",
       "dtype: int64"
      ]
     },
     "execution_count": 40,
     "metadata": {},
     "output_type": "execute_result"
    }
   ],
   "source": [
    "wandaloo_cars.isna().sum()"
   ]
  },
  {
   "cell_type": "markdown",
   "id": "35c937cc",
   "metadata": {},
   "source": [
    "## Task2 : Dealing with missing data of 'Version' column"
   ]
  },
  {
   "cell_type": "code",
   "execution_count": 41,
   "id": "7ac2d9ac",
   "metadata": {},
   "outputs": [
    {
     "data": {
      "text/plain": [
       "Autre version                  374\n",
       "1.7 CDTi Cosmo                  32\n",
       "1.5 dCi Authentique             27\n",
       "220 CDI                         24\n",
       "1.6 HDi Active                  16\n",
       "                              ... \n",
       "1.6 dCi L2H1                     1\n",
       "1.5 dCi Exception                1\n",
       "1.5 dCi Privilege                1\n",
       "1.5 dCi Storm                    1\n",
       "2.0 D4 190 Momentum Confort      1\n",
       "Name: Version, Length: 733, dtype: int64"
      ]
     },
     "execution_count": 41,
     "metadata": {},
     "output_type": "execute_result"
    }
   ],
   "source": [
    "wandaloo_cars['Version'].value_counts()"
   ]
  },
  {
   "cell_type": "code",
   "execution_count": 42,
   "id": "e1049592",
   "metadata": {},
   "outputs": [],
   "source": [
    "wandaloo_cars['Version']=wandaloo_cars['Version'].fillna('Autre version')"
   ]
  },
  {
   "cell_type": "markdown",
   "id": "8dd24ccc",
   "metadata": {},
   "source": [
    "## Task3 : Dealing with missing data of 'Main' ,'Modèle' and 'Kilométrage' column"
   ]
  },
  {
   "cell_type": "code",
   "execution_count": 43,
   "id": "7cdd2520",
   "metadata": {},
   "outputs": [
    {
     "data": {
      "text/plain": [
       "Seconde     1126\n",
       "Première    1054\n",
       "Name: Main, dtype: int64"
      ]
     },
     "execution_count": 43,
     "metadata": {},
     "output_type": "execute_result"
    }
   ],
   "source": [
    "wandaloo_cars['Main'].value_counts()"
   ]
  },
  {
   "cell_type": "markdown",
   "id": "2fd8681c",
   "metadata": {},
   "source": [
    "\n",
    "- \"Première Main\" means that the car was purchased new by its first owner and has therefore had only one previous owner.\n",
    "\n",
    "- \"Seconde Main\" means that the car has had two previous owners, with the current owner being the third owner."
   ]
  },
  {
   "cell_type": "code",
   "execution_count": 44,
   "id": "3e6fc07e",
   "metadata": {},
   "outputs": [
    {
     "data": {
      "image/png": "[encoded data removed]",
      "text/plain": [
       "<Figure size 2500x1000 with 2 Axes>"
      ]
     },
     "metadata": {},
     "output_type": "display_data"
    }
   ],
   "source": [
    "msno.matrix(wandaloo_cars[['Brand','Modèle','Main','Kilométrage']].sort_values(by = 'Kilométrage'))\n",
    "plt.show()"
   ]
  },
  {
   "cell_type": "markdown",
   "id": "7681b5e6",
   "metadata": {},
   "source": [
    "### -> Rows that have no Kilométrage value do not have any values in the Main column or Modèle column. This indicates that these rows represent new items."
   ]
  },
  {
   "cell_type": "code",
   "execution_count": 45,
   "id": "d0cf7ee3",
   "metadata": {},
   "outputs": [],
   "source": [
    "# Add a new value\n",
    "wandaloo_cars['Main']=wandaloo_cars['Main'].fillna('Nouvelle')\n",
    "wandaloo_cars['Kilométrage']=wandaloo_cars['Kilométrage'].fillna(\"0\")\n",
    "wandaloo_cars['Kilométrage']=wandaloo_cars['Kilométrage'].astype(\"int\")\n",
    "wandaloo_cars['Modèle']=wandaloo_cars['Modèle'].fillna(\"2023-01-01\")"
   ]
  },
  {
   "cell_type": "markdown",
   "id": "d8076610",
   "metadata": {},
   "source": [
    "## Task4 : Dealing with missing data of 'Carburant' column"
   ]
  },
  {
   "cell_type": "code",
   "execution_count": 46,
   "id": "ea4fd485",
   "metadata": {},
   "outputs": [
    {
     "data": {
      "text/plain": [
       "Diesel        1902\n",
       "Essence        256\n",
       "Hybride          7\n",
       "Electrique       1\n",
       "Name: Carburant, dtype: int64"
      ]
     },
     "execution_count": 46,
     "metadata": {},
     "output_type": "execute_result"
    }
   ],
   "source": [
    "wandaloo_cars['Carburant'].value_counts()"
   ]
  },
  {
   "cell_type": "code",
   "execution_count": 47,
   "id": "5276b619",
   "metadata": {},
   "outputs": [],
   "source": [
    "#Fill in with the most frequent value\n",
    "wandaloo_cars['Carburant']=wandaloo_cars['Carburant'].fillna('Diesel')"
   ]
  },
  {
   "cell_type": "markdown",
   "id": "587c98d7",
   "metadata": {},
   "source": [
    "## Task5 : Dealing with missing data of 'Transmision' column"
   ]
  },
  {
   "cell_type": "code",
   "execution_count": 48,
   "id": "120a52e1",
   "metadata": {},
   "outputs": [
    {
     "data": {
      "text/plain": [
       "Manuelle       1146\n",
       "Automatique    1034\n",
       "Name: Transmision, dtype: int64"
      ]
     },
     "execution_count": 48,
     "metadata": {},
     "output_type": "execute_result"
    }
   ],
   "source": [
    "wandaloo_cars['Transmision'].value_counts()"
   ]
  },
  {
   "cell_type": "code",
   "execution_count": 49,
   "id": "49a42ec4",
   "metadata": {},
   "outputs": [
    {
     "data": {
      "text/plain": [
       "Brand       Transmision\n",
       "MERCEDES    Automatique    150\n",
       "            Manuelle        29\n",
       "MINI        Automatique     14\n",
       "            Manuelle         6\n",
       "MITSUBISHI  Manuelle        11\n",
       "            Automatique      9\n",
       "NISSAN      Manuelle        97\n",
       "            Automatique     31\n",
       "OPEL        Manuelle       100\n",
       "            Automatique     56\n",
       "PEUGEOT     Manuelle       204\n",
       "            Automatique    125\n",
       "PORSCHE     Automatique     20\n",
       "            Manuelle         1\n",
       "RENAULT     Manuelle       251\n",
       "            Automatique    144\n",
       "SEAT        Manuelle        87\n",
       "            Automatique     35\n",
       "SKODA       Manuelle        41\n",
       "            Automatique     19\n",
       "SSANGYONG   Automatique     18\n",
       "            Manuelle         8\n",
       "SUZUKI      Manuelle         7\n",
       "            Automatique      5\n",
       "TOYOTA      Manuelle        77\n",
       "            Automatique     71\n",
       "VOLKSWAGEN  Automatique    296\n",
       "            Manuelle       209\n",
       "VOLVO       Automatique     41\n",
       "            Manuelle        18\n",
       "Name: Transmision, dtype: int64"
      ]
     },
     "execution_count": 49,
     "metadata": {},
     "output_type": "execute_result"
    }
   ],
   "source": [
    "wandaloo_cars.groupby('Brand')['Transmision'].value_counts()"
   ]
  },
  {
   "cell_type": "code",
   "execution_count": 50,
   "id": "0b4fb675",
   "metadata": {},
   "outputs": [],
   "source": [
    "transmision = wandaloo_cars['Transmision'].unique()\n",
    "brand = wandaloo_cars['Brand'].unique()\n",
    "d = {}\n",
    "\n",
    "for i in brand:\n",
    "    m = 0\n",
    "    for j in transmision:\n",
    "        count = wandaloo_cars[(wandaloo_cars.Transmision == j) & (wandaloo_cars.Brand == i)].shape[0]\n",
    "        if count > m:\n",
    "            m = count\n",
    "            d[i] = j\n",
    "    if i in d:\n",
    "        wandaloo_cars.loc[(wandaloo_cars.Brand == i) & (wandaloo_cars.Transmision.isnull()), \"Transmision\"] = d[i];\n"
   ]
  },
  {
   "cell_type": "code",
   "execution_count": 51,
   "id": "9a5abc16",
   "metadata": {},
   "outputs": [
    {
     "data": {
      "text/plain": [
       "Brand       Transmision\n",
       "MERCEDES    Automatique    267\n",
       "            Manuelle        29\n",
       "MINI        Automatique     31\n",
       "            Manuelle         6\n",
       "MITSUBISHI  Manuelle        17\n",
       "            Automatique      9\n",
       "NISSAN      Manuelle       114\n",
       "            Automatique     31\n",
       "OPEL        Manuelle       116\n",
       "            Automatique     56\n",
       "PEUGEOT     Manuelle       235\n",
       "            Automatique    125\n",
       "PORSCHE     Automatique     56\n",
       "            Manuelle         1\n",
       "RENAULT     Manuelle       279\n",
       "            Automatique    144\n",
       "SEAT        Manuelle       105\n",
       "            Automatique     35\n",
       "SKODA       Manuelle        68\n",
       "            Automatique     19\n",
       "SSANGYONG   Automatique     29\n",
       "            Manuelle         8\n",
       "SUZUKI      Manuelle        18\n",
       "            Automatique      5\n",
       "TOYOTA      Manuelle       105\n",
       "            Automatique     71\n",
       "VOLKSWAGEN  Automatique    323\n",
       "            Manuelle       209\n",
       "VOLVO       Automatique     64\n",
       "            Manuelle        18\n",
       "Name: Transmision, dtype: int64"
      ]
     },
     "execution_count": 51,
     "metadata": {},
     "output_type": "execute_result"
    }
   ],
   "source": [
    "wandaloo_cars.groupby('Brand')['Transmision'].value_counts()"
   ]
  },
  {
   "cell_type": "code",
   "execution_count": 52,
   "id": "e4994d90",
   "metadata": {},
   "outputs": [
    {
     "data": {
      "text/plain": [
       "470"
      ]
     },
     "execution_count": 52,
     "metadata": {},
     "output_type": "execute_result"
    }
   ],
   "source": [
    "wandaloo_cars['Transmision'].isnull().sum()"
   ]
  },
  {
   "cell_type": "code",
   "execution_count": 53,
   "id": "51be9b6b",
   "metadata": {},
   "outputs": [
    {
     "data": {
      "text/plain": [
       "Manuelle       1328\n",
       "Automatique    1265\n",
       "Name: Transmision, dtype: int64"
      ]
     },
     "execution_count": 53,
     "metadata": {},
     "output_type": "execute_result"
    }
   ],
   "source": [
    "wandaloo_cars['Transmision'].value_counts()"
   ]
  },
  {
   "cell_type": "code",
   "execution_count": 54,
   "id": "116e900c",
   "metadata": {},
   "outputs": [],
   "source": [
    "wandaloo_cars['Transmision']=wandaloo_cars['Transmision'].fillna(\"Manuelle\")"
   ]
  },
  {
   "cell_type": "code",
   "execution_count": 55,
   "id": "a74f3963",
   "metadata": {},
   "outputs": [
    {
     "data": {
      "text/plain": [
       "0"
      ]
     },
     "execution_count": 55,
     "metadata": {},
     "output_type": "execute_result"
    }
   ],
   "source": [
    "wandaloo_cars['Transmision'].isnull().sum()"
   ]
  },
  {
   "cell_type": "code",
   "execution_count": 56,
   "id": "10e1d79a",
   "metadata": {},
   "outputs": [],
   "source": [
    "#Replace \"Automatique\" with 1 and \"Manuelle\" with 0\n",
    "wandaloo_cars['Transmision']=wandaloo_cars['Transmision'].map({'Automatique':1,'Manuelle':0})"
   ]
  },
  {
   "cell_type": "markdown",
   "id": "52ae88ee",
   "metadata": {},
   "source": [
    "## Task6 : Dealing with missing data of 'Puissance fiscale en cv' column"
   ]
  },
  {
   "cell_type": "code",
   "execution_count": 57,
   "id": "a4c0320e",
   "metadata": {},
   "outputs": [
    {
     "data": {
      "text/plain": [
       "Brand  Puissance fiscale en cv\n",
       "ALFA   9.0                         3\n",
       "       8.0                         2\n",
       "       17.0                        1\n",
       "AUDI   8.0                        46\n",
       "       12.0                       14\n",
       "                                  ..\n",
       "VOLVO  10.0                        4\n",
       "       5.0                         1\n",
       "       7.0                         1\n",
       "       9.0                         1\n",
       "       18.0                        1\n",
       "Name: Puissance fiscale en cv, Length: 189, dtype: int64"
      ]
     },
     "execution_count": 57,
     "metadata": {},
     "output_type": "execute_result"
    }
   ],
   "source": [
    "wandaloo_cars.groupby('Brand')['Puissance fiscale en cv'].value_counts()"
   ]
  },
  {
   "cell_type": "code",
   "execution_count": 58,
   "id": "d2c8151a",
   "metadata": {},
   "outputs": [],
   "source": [
    "puissance_fiscale = wandaloo_cars['Puissance fiscale en cv'].unique()\n",
    "brand = wandaloo_cars['Brand'].unique()\n",
    "d = {}\n",
    "\n",
    "for i in brand:\n",
    "    m = 0\n",
    "    for j in puissance_fiscale:\n",
    "        count = wandaloo_cars[(wandaloo_cars['Puissance fiscale en cv'] == j) & (wandaloo_cars.Brand == i)].shape[0]\n",
    "        if count > m:\n",
    "            m = count\n",
    "            d[i] = j\n",
    "    if i in d:\n",
    "        wandaloo_cars.loc[(wandaloo_cars.Brand == i) & (wandaloo_cars['Puissance fiscale en cv'].isnull()), \"Puissance fiscale en cv\"] = d[i];"
   ]
  },
  {
   "cell_type": "code",
   "execution_count": 59,
   "id": "e80ce2d6",
   "metadata": {},
   "outputs": [
    {
     "data": {
      "text/plain": [
       "0"
      ]
     },
     "execution_count": 59,
     "metadata": {},
     "output_type": "execute_result"
    }
   ],
   "source": [
    "wandaloo_cars['Puissance fiscale en cv'].isna().sum()"
   ]
  },
  {
   "cell_type": "code",
   "execution_count": 60,
   "id": "9d294529",
   "metadata": {},
   "outputs": [],
   "source": [
    "#converting this column to int\n",
    "wandaloo_cars['Puissance fiscale en cv']=wandaloo_cars['Puissance fiscale en cv'].astype(\"int\")"
   ]
  },
  {
   "cell_type": "code",
   "execution_count": 61,
   "id": "42d6a7a5",
   "metadata": {},
   "outputs": [
    {
     "data": {
      "text/plain": [
       "0    8\n",
       "1    8\n",
       "2    8\n",
       "3    9\n",
       "4    9\n",
       "Name: Puissance fiscale en cv, dtype: int32"
      ]
     },
     "execution_count": 61,
     "metadata": {},
     "output_type": "execute_result"
    }
   ],
   "source": [
    "wandaloo_cars['Puissance fiscale en cv'].head()"
   ]
  },
  {
   "cell_type": "markdown",
   "id": "d6eaf7ef",
   "metadata": {},
   "source": [
    "## Task6 : Dealing with missing data of 'Couleur extérieure' column"
   ]
  },
  {
   "cell_type": "code",
   "execution_count": 62,
   "id": "3231056f",
   "metadata": {},
   "outputs": [
    {
     "data": {
      "text/plain": [
       "Noir             617\n",
       "Blanc            280\n",
       "Gris foncé       224\n",
       "Gris             222\n",
       "-                219\n",
       "Gris clair       155\n",
       "Bleu foncé        87\n",
       "Autre couleur     67\n",
       "Marron            50\n",
       "Bleu              49\n",
       "Rouge             47\n",
       "Beige             31\n",
       "Blanc cassé       24\n",
       "Bleu ciel         23\n",
       "Bordeau           21\n",
       "Marron clair      17\n",
       "Vert foncé        13\n",
       "Jaune d'or        10\n",
       "Violet             9\n",
       "Vert               9\n",
       "Orange             2\n",
       "Jaune              2\n",
       "Rose               2\n",
       "Name: Couleur extérieure, dtype: int64"
      ]
     },
     "execution_count": 62,
     "metadata": {},
     "output_type": "execute_result"
    }
   ],
   "source": [
    "wandaloo_cars['Couleur extérieure'].value_counts()"
   ]
  },
  {
   "cell_type": "code",
   "execution_count": 63,
   "id": "3cca4554",
   "metadata": {},
   "outputs": [],
   "source": [
    "wandaloo_cars['Couleur extérieure']=wandaloo_cars['Couleur extérieure'].replace(\"-\",\"Autre couleur\")"
   ]
  },
  {
   "cell_type": "code",
   "execution_count": 64,
   "id": "e4be0d59",
   "metadata": {},
   "outputs": [],
   "source": [
    "# Replacing missing values with the most frequent color\n",
    "wandaloo_cars['Couleur extérieure']=wandaloo_cars['Couleur extérieure'].fillna(\"Noir\")"
   ]
  },
  {
   "cell_type": "code",
   "execution_count": 65,
   "id": "2caf3a0c",
   "metadata": {},
   "outputs": [
    {
     "data": {
      "text/plain": [
       "0"
      ]
     },
     "execution_count": 65,
     "metadata": {},
     "output_type": "execute_result"
    }
   ],
   "source": [
    "wandaloo_cars['Couleur extérieure'].isna().sum()"
   ]
  },
  {
   "cell_type": "markdown",
   "id": "c3cc8fba",
   "metadata": {},
   "source": [
    "## Task7 : Dealing with missing data of 'Etat du véhicule' column"
   ]
  },
  {
   "cell_type": "code",
   "execution_count": 66,
   "id": "762c51bf",
   "metadata": {},
   "outputs": [
    {
     "data": {
      "text/plain": [
       "Excellent      740\n",
       "Très bon       549\n",
       "Comme neuve    519\n",
       "-              221\n",
       "Bon            132\n",
       "Correct         19\n",
       "Name: Etat du véhicule, dtype: int64"
      ]
     },
     "execution_count": 66,
     "metadata": {},
     "output_type": "execute_result"
    }
   ],
   "source": [
    "wandaloo_cars['Etat du véhicule'].value_counts()"
   ]
  },
  {
   "cell_type": "code",
   "execution_count": 67,
   "id": "9454d267",
   "metadata": {},
   "outputs": [],
   "source": [
    "wandaloo_cars['Etat du véhicule']=wandaloo_cars['Etat du véhicule'].replace(\"-\",\"Bon\")\n",
    "wandaloo_cars['Etat du véhicule']=wandaloo_cars['Etat du véhicule'].fillna(\"Excellent\")"
   ]
  },
  {
   "cell_type": "code",
   "execution_count": 68,
   "id": "c007994f",
   "metadata": {},
   "outputs": [
    {
     "data": {
      "text/plain": [
       "0"
      ]
     },
     "execution_count": 68,
     "metadata": {},
     "output_type": "execute_result"
    }
   ],
   "source": [
    "wandaloo_cars['Etat du véhicule'].isna().sum()"
   ]
  },
  {
   "cell_type": "markdown",
   "id": "b591d453",
   "metadata": {},
   "source": [
    "## Task8 : Dealing with missing data of 'Climatisation' column"
   ]
  },
  {
   "cell_type": "code",
   "execution_count": 69,
   "id": "3894d7fc",
   "metadata": {},
   "outputs": [
    {
     "data": {
      "image/png": "[encoded data removed]",
      "text/plain": [
       "<Figure size 1200x1000 with 1 Axes>"
      ]
     },
     "metadata": {},
     "output_type": "display_data"
    }
   ],
   "source": [
    "# Visualize relationship between price and Climatisation\n",
    "plt.figure(figsize=(12, 10))\n",
    "sns.boxplot(x = 'Climatisation', y = 'Prix - DH', data = wandaloo_cars)\n",
    "plt.ylim(0, 2.200000e+06)\n",
    "plt.xlabel('Climatisation')\n",
    "plt.ylabel('Prix')\n",
    "plt.show()"
   ]
  },
  {
   "cell_type": "code",
   "execution_count": 70,
   "id": "866be756",
   "metadata": {},
   "outputs": [
    {
     "data": {
      "text/plain": [
       "Climatisation\n",
       "auto.                145000.0\n",
       "auto. Bi-zone        259450.0\n",
       "auto. Multi-zone     157000.0\n",
       "auto. Quadri-zone    820000.0\n",
       "auto. Tri-zone       580000.0\n",
       "manuelle             110000.0\n",
       "non                   85000.0\n",
       "Name: Prix - DH, dtype: float64"
      ]
     },
     "execution_count": 70,
     "metadata": {},
     "output_type": "execute_result"
    }
   ],
   "source": [
    "# Get median price per Climatisation type\n",
    "wandaloo_cars.groupby('Climatisation').median()['Prix - DH']"
   ]
  },
  {
   "cell_type": "code",
   "execution_count": 71,
   "id": "e77eb87e",
   "metadata": {},
   "outputs": [],
   "source": [
    "wandaloo_cars.loc[(wandaloo_cars['Climatisation'].isna()) & (wandaloo_cars['Prix - DH'] < 85000.0 ), 'Climatisation'] = 'non'\n",
    "wandaloo_cars.loc[(wandaloo_cars['Climatisation'].isna()) & (wandaloo_cars['Prix - DH'] > 85000.0 ) & (wandaloo_cars['Prix - DH'] < 145000.0 ), 'Climatisation'] = 'manuelle'\n",
    "wandaloo_cars.loc[(wandaloo_cars['Climatisation'].isna()) & (wandaloo_cars['Prix - DH'] > 580000.0 ) & (wandaloo_cars['Prix - DH'] < 820000.0 ), 'Climatisation'] = 'auto. Tri-zone'\n",
    "wandaloo_cars.loc[(wandaloo_cars['Climatisation'].isna()) & (wandaloo_cars['Prix - DH'] > 259450.0 ) & (wandaloo_cars['Prix - DH'] < 580000.0 ), 'Climatisation'] = 'auto. Bi-zone'\n",
    "wandaloo_cars.loc[(wandaloo_cars['Climatisation'].isna()) & (wandaloo_cars['Prix - DH'] > 820000.0 ), 'Climatisation'] = 'auto. Quadri-zone'\n",
    "wandaloo_cars.loc[(wandaloo_cars['Climatisation'].isna()) & (wandaloo_cars['Prix - DH'] > 145000.0 ), 'Climatisation'] = 'auto.'"
   ]
  },
  {
   "cell_type": "code",
   "execution_count": 72,
   "id": "966de7e3",
   "metadata": {},
   "outputs": [
    {
     "data": {
      "text/plain": [
       "0"
      ]
     },
     "execution_count": 72,
     "metadata": {},
     "output_type": "execute_result"
    }
   ],
   "source": [
    "wandaloo_cars['Climatisation'].isna().sum()"
   ]
  },
  {
   "cell_type": "code",
   "execution_count": 73,
   "id": "cea438e4",
   "metadata": {},
   "outputs": [
    {
     "data": {
      "text/plain": [
       "Brand                                     0\n",
       "Model                                     0\n",
       "Version                                   0\n",
       "Prix - DH                                 0\n",
       "Modèle                                    0\n",
       "Main                                      0\n",
       "Kilométrage                               0\n",
       "Carburant                                 0\n",
       "Transmision                               0\n",
       "Puissance fiscale en cv                   0\n",
       "Couleur extérieure                        0\n",
       "Etat du véhicule                          0\n",
       "Climatisation                             0\n",
       "Vitres électriques                       15\n",
       "Sièges électriques                       35\n",
       "Ordinateur de bord                       15\n",
       "Start & Stop                             15\n",
       "Régulateur de vitesse                    15\n",
       "Allumage auto. des feux                  15\n",
       "Détecteur de pluie                       15\n",
       "Commandes au volant                      15\n",
       "Ecran tactile                            15\n",
       "Rétroviseurs électriques                 15\n",
       "Ouverture auto. du coffre               883\n",
       "Démarrage mains libres                   15\n",
       "Banquette arrière rabattable 1/3-2/3     15\n",
       "Caméra de recul                          15\n",
       "Bluetooth                                15\n",
       "Jantes aluminium                         15\n",
       "Volant cuir                              15\n",
       "Feux de jour                             15\n",
       "Barres de toit                           15\n",
       "Toit                                     15\n",
       "Airbags                                  15\n",
       "ABS                                      15\n",
       "ESP                                      15\n",
       "Antipatinage                             15\n",
       "dtype: int64"
      ]
     },
     "execution_count": 73,
     "metadata": {},
     "output_type": "execute_result"
    }
   ],
   "source": [
    "wandaloo_cars.isna().sum()"
   ]
  },
  {
   "cell_type": "markdown",
   "id": "88bdb574",
   "metadata": {},
   "source": [
    "## Task10 : Dealing with missing data of others columns"
   ]
  },
  {
   "cell_type": "code",
   "execution_count": 74,
   "id": "880ec7a5",
   "metadata": {},
   "outputs": [
    {
     "data": {
      "text/plain": [
       "Electrique AV/AR    1935\n",
       "Electrique AV        657\n",
       "-                    445\n",
       "non                    8\n",
       "Electrique AR          3\n",
       "Name: Vitres électriques, dtype: int64"
      ]
     },
     "execution_count": 74,
     "metadata": {},
     "output_type": "execute_result"
    }
   ],
   "source": [
    "wandaloo_cars['Vitres électriques'].value_counts()"
   ]
  },
  {
   "cell_type": "code",
   "execution_count": 75,
   "id": "6d30f53e",
   "metadata": {},
   "outputs": [],
   "source": [
    "wandaloo_cars['Vitres électriques']=wandaloo_cars['Vitres électriques'].replace(\"-\",\"Electrique AV\")\n",
    "wandaloo_cars['Vitres électriques']=wandaloo_cars['Vitres électriques'].replace(\"non\",\"Pas de vitres électriques\")\n",
    "wandaloo_cars['Vitres électriques']=wandaloo_cars['Vitres électriques'].fillna(\"Electrique AV/AR\")"
   ]
  },
  {
   "cell_type": "code",
   "execution_count": 76,
   "id": "dc928ee0",
   "metadata": {},
   "outputs": [
    {
     "data": {
      "text/plain": [
       "non                       2006\n",
       "Conducteur et Passager     594\n",
       "Conducteur                 340\n",
       "Tous les passagers          76\n",
       "Passager                    12\n",
       "Name: Sièges électriques, dtype: int64"
      ]
     },
     "execution_count": 76,
     "metadata": {},
     "output_type": "execute_result"
    }
   ],
   "source": [
    "wandaloo_cars['Sièges électriques'].value_counts()"
   ]
  },
  {
   "cell_type": "code",
   "execution_count": 77,
   "id": "0a8f2ed4",
   "metadata": {},
   "outputs": [],
   "source": [
    "wandaloo_cars['Sièges électriques']=wandaloo_cars['Sièges électriques'].fillna(\"non\")\n",
    "wandaloo_cars['Sièges électriques']=wandaloo_cars['Sièges électriques'].replace(\"non\",\"Pas de sièges électriques\")"
   ]
  },
  {
   "cell_type": "code",
   "execution_count": 78,
   "id": "11054261",
   "metadata": {},
   "outputs": [
    {
     "data": {
      "text/plain": [
       "oui    2192\n",
       "non     856\n",
       "Name: Ordinateur de bord, dtype: int64"
      ]
     },
     "execution_count": 78,
     "metadata": {},
     "output_type": "execute_result"
    }
   ],
   "source": [
    "wandaloo_cars['Ordinateur de bord'].value_counts()"
   ]
  },
  {
   "cell_type": "code",
   "execution_count": 79,
   "id": "33369380",
   "metadata": {},
   "outputs": [],
   "source": [
    "#Replace missing values with the most frequent value\n",
    "wandaloo_cars['Ordinateur de bord']=wandaloo_cars['Ordinateur de bord'].fillna(\"oui\")\n",
    "#Replace \"oui\" with 1 and \"non\" with 0\n",
    "wandaloo_cars['Ordinateur de bord']=wandaloo_cars['Ordinateur de bord'].map({'oui':1,'non':0})"
   ]
  },
  {
   "cell_type": "code",
   "execution_count": 80,
   "id": "3a160eed",
   "metadata": {},
   "outputs": [
    {
     "data": {
      "text/plain": [
       "non    1775\n",
       "oui    1273\n",
       "Name: Start & Stop, dtype: int64"
      ]
     },
     "execution_count": 80,
     "metadata": {},
     "output_type": "execute_result"
    }
   ],
   "source": [
    "wandaloo_cars['Start & Stop'].value_counts()"
   ]
  },
  {
   "cell_type": "code",
   "execution_count": 81,
   "id": "eba71c1e",
   "metadata": {},
   "outputs": [],
   "source": [
    "#Replace missing values with the most frequent value\n",
    "wandaloo_cars['Start & Stop']=wandaloo_cars['Start & Stop'].fillna(\"non\")\n",
    "#Replace \"oui\" with 1 and \"non\" with 0\n",
    "wandaloo_cars['Start & Stop']=wandaloo_cars['Start & Stop'].map({'oui':1,'non':0})"
   ]
  },
  {
   "cell_type": "code",
   "execution_count": 82,
   "id": "7fe9a835",
   "metadata": {},
   "outputs": [
    {
     "data": {
      "text/plain": [
       "oui    2186\n",
       "non     862\n",
       "Name: Régulateur de vitesse, dtype: int64"
      ]
     },
     "execution_count": 82,
     "metadata": {},
     "output_type": "execute_result"
    }
   ],
   "source": [
    "wandaloo_cars['Régulateur de vitesse'].value_counts()"
   ]
  },
  {
   "cell_type": "code",
   "execution_count": 83,
   "id": "b7ffe83b",
   "metadata": {},
   "outputs": [],
   "source": [
    "#Replace missing values with the most frequent value\n",
    "wandaloo_cars['Régulateur de vitesse']=wandaloo_cars['Régulateur de vitesse'].fillna(\"oui\")\n",
    "#Replace \"oui\" with 1 and \"non\" with 0\n",
    "wandaloo_cars['Régulateur de vitesse']=wandaloo_cars['Régulateur de vitesse'].map({'oui':1,'non':0})"
   ]
  },
  {
   "cell_type": "code",
   "execution_count": 84,
   "id": "c0938f36",
   "metadata": {},
   "outputs": [
    {
     "data": {
      "text/plain": [
       "oui    1742\n",
       "non    1306\n",
       "Name: Allumage auto. des feux, dtype: int64"
      ]
     },
     "execution_count": 84,
     "metadata": {},
     "output_type": "execute_result"
    }
   ],
   "source": [
    "wandaloo_cars['Allumage auto. des feux'].value_counts()"
   ]
  },
  {
   "cell_type": "code",
   "execution_count": 85,
   "id": "6f3cbeba",
   "metadata": {},
   "outputs": [],
   "source": [
    "#Replace missing values with the most frequent value\n",
    "wandaloo_cars['Allumage auto. des feux']=wandaloo_cars['Allumage auto. des feux'].fillna(\"oui\")\n",
    "#Replace \"oui\" with 1 and \"non\" with 0\n",
    "wandaloo_cars['Allumage auto. des feux']=wandaloo_cars['Allumage auto. des feux'].map({'oui':1,'non':0})"
   ]
  },
  {
   "cell_type": "code",
   "execution_count": 86,
   "id": "6d6056d4",
   "metadata": {},
   "outputs": [
    {
     "data": {
      "text/plain": [
       "oui    1590\n",
       "non    1458\n",
       "Name: Détecteur de pluie, dtype: int64"
      ]
     },
     "execution_count": 86,
     "metadata": {},
     "output_type": "execute_result"
    }
   ],
   "source": [
    "wandaloo_cars['Détecteur de pluie'].value_counts()"
   ]
  },
  {
   "cell_type": "code",
   "execution_count": 87,
   "id": "199fc4bc",
   "metadata": {},
   "outputs": [],
   "source": [
    "#Replace missing values with the most frequent value\n",
    "wandaloo_cars['Détecteur de pluie']=wandaloo_cars['Détecteur de pluie'].fillna(\"oui\")\n",
    "#Replace \"oui\" with 1 and \"non\" with 0\n",
    "wandaloo_cars['Détecteur de pluie']=wandaloo_cars['Détecteur de pluie'].map({'oui':1,'non':0})"
   ]
  },
  {
   "cell_type": "code",
   "execution_count": 88,
   "id": "3f104b9b",
   "metadata": {},
   "outputs": [
    {
     "data": {
      "text/plain": [
       "oui    2132\n",
       "non     916\n",
       "Name: Commandes au volant, dtype: int64"
      ]
     },
     "execution_count": 88,
     "metadata": {},
     "output_type": "execute_result"
    }
   ],
   "source": [
    "wandaloo_cars['Commandes au volant'].value_counts()"
   ]
  },
  {
   "cell_type": "code",
   "execution_count": 89,
   "id": "ecd96514",
   "metadata": {},
   "outputs": [],
   "source": [
    "#Replace missing values with the most frequent value\n",
    "wandaloo_cars['Commandes au volant']=wandaloo_cars['Commandes au volant'].fillna(\"oui\")\n",
    "#Replace \"oui\" with 1 and \"non\" with 0\n",
    "wandaloo_cars['Commandes au volant']=wandaloo_cars['Commandes au volant'].map({'oui':1,'non':0})"
   ]
  },
  {
   "cell_type": "code",
   "execution_count": 90,
   "id": "591e704d",
   "metadata": {},
   "outputs": [
    {
     "data": {
      "text/plain": [
       "oui    1662\n",
       "non    1386\n",
       "Name: Ecran tactile, dtype: int64"
      ]
     },
     "execution_count": 90,
     "metadata": {},
     "output_type": "execute_result"
    }
   ],
   "source": [
    "wandaloo_cars['Ecran tactile'].value_counts()"
   ]
  },
  {
   "cell_type": "code",
   "execution_count": 91,
   "id": "01741357",
   "metadata": {},
   "outputs": [],
   "source": [
    "#Replace missing values with the most frequent value\n",
    "wandaloo_cars['Ecran tactile']=wandaloo_cars['Ecran tactile'].fillna(\"oui\")\n",
    "#Replace \"oui\" with 1 and \"non\" with 0\n",
    "wandaloo_cars['Ecran tactile']=wandaloo_cars['Ecran tactile'].map({'oui':1,'non':0})"
   ]
  },
  {
   "cell_type": "code",
   "execution_count": 92,
   "id": "20c8b90b",
   "metadata": {},
   "outputs": [
    {
     "data": {
      "text/plain": [
       "oui    2139\n",
       "non     909\n",
       "Name: Rétroviseurs électriques, dtype: int64"
      ]
     },
     "execution_count": 92,
     "metadata": {},
     "output_type": "execute_result"
    }
   ],
   "source": [
    "wandaloo_cars['Rétroviseurs électriques'].value_counts()"
   ]
  },
  {
   "cell_type": "code",
   "execution_count": 93,
   "id": "a0c2bcc9",
   "metadata": {},
   "outputs": [],
   "source": [
    "#Replace missing values with the most frequent value\n",
    "wandaloo_cars['Rétroviseurs électriques']=wandaloo_cars['Rétroviseurs électriques'].fillna(\"oui\")\n",
    "#Replace \"oui\" with 1 and \"non\" with 0\n",
    "wandaloo_cars['Rétroviseurs électriques']=wandaloo_cars['Rétroviseurs électriques'].map({'oui':1,'non':0})"
   ]
  },
  {
   "cell_type": "code",
   "execution_count": 94,
   "id": "b3de17f3",
   "metadata": {},
   "outputs": [
    {
     "data": {
      "text/plain": [
       "non    1774\n",
       "oui     406\n",
       "Name: Ouverture auto. du coffre, dtype: int64"
      ]
     },
     "execution_count": 94,
     "metadata": {},
     "output_type": "execute_result"
    }
   ],
   "source": [
    "wandaloo_cars['Ouverture auto. du coffre'].value_counts()"
   ]
  },
  {
   "cell_type": "code",
   "execution_count": 95,
   "id": "af14b274",
   "metadata": {},
   "outputs": [],
   "source": [
    "#Replace missing values with the most frequent value\n",
    "wandaloo_cars['Ouverture auto. du coffre']=wandaloo_cars['Ouverture auto. du coffre'].fillna(\"non\")\n",
    "#Replace \"oui\" with 1 and \"non\" with 0\n",
    "wandaloo_cars['Ouverture auto. du coffre']=wandaloo_cars['Ouverture auto. du coffre'].map({'oui':1,'non':0})"
   ]
  },
  {
   "cell_type": "code",
   "execution_count": 96,
   "id": "79a0448a",
   "metadata": {},
   "outputs": [
    {
     "data": {
      "text/plain": [
       "non    1666\n",
       "oui    1382\n",
       "Name: Démarrage mains libres, dtype: int64"
      ]
     },
     "execution_count": 96,
     "metadata": {},
     "output_type": "execute_result"
    }
   ],
   "source": [
    "wandaloo_cars['Démarrage mains libres'].value_counts()"
   ]
  },
  {
   "cell_type": "code",
   "execution_count": 97,
   "id": "c3f0dd2a",
   "metadata": {},
   "outputs": [],
   "source": [
    "#Replace missing values with the most frequent value\n",
    "wandaloo_cars['Démarrage mains libres']=wandaloo_cars['Démarrage mains libres'].fillna(\"non\")\n",
    "#Replace \"oui\" with 1 and \"non\" with 0\n",
    "wandaloo_cars['Démarrage mains libres']=wandaloo_cars['Démarrage mains libres'].map({'oui':1,'non':0})"
   ]
  },
  {
   "cell_type": "code",
   "execution_count": 98,
   "id": "db7f24d3",
   "metadata": {},
   "outputs": [
    {
     "data": {
      "text/plain": [
       "oui    1655\n",
       "non    1393\n",
       "Name: Banquette arrière rabattable 1/3-2/3, dtype: int64"
      ]
     },
     "execution_count": 98,
     "metadata": {},
     "output_type": "execute_result"
    }
   ],
   "source": [
    "wandaloo_cars['Banquette arrière rabattable 1/3-2/3'].value_counts()"
   ]
  },
  {
   "cell_type": "code",
   "execution_count": 99,
   "id": "1ed42c1c",
   "metadata": {},
   "outputs": [],
   "source": [
    "#Replace missing values with the most frequent value\n",
    "wandaloo_cars['Banquette arrière rabattable 1/3-2/3']=wandaloo_cars['Banquette arrière rabattable 1/3-2/3'].fillna(\"oui\")\n",
    "#Replace \"oui\" with 1 and \"non\" with 0\n",
    "wandaloo_cars['Banquette arrière rabattable 1/3-2/3']=wandaloo_cars['Banquette arrière rabattable 1/3-2/3'].map({'oui':1,'non':0})"
   ]
  },
  {
   "cell_type": "code",
   "execution_count": 100,
   "id": "71f40c65",
   "metadata": {},
   "outputs": [
    {
     "data": {
      "text/plain": [
       "non    1706\n",
       "oui    1342\n",
       "Name: Caméra de recul, dtype: int64"
      ]
     },
     "execution_count": 100,
     "metadata": {},
     "output_type": "execute_result"
    }
   ],
   "source": [
    "wandaloo_cars['Caméra de recul'].value_counts()"
   ]
  },
  {
   "cell_type": "code",
   "execution_count": 101,
   "id": "f58ec4b1",
   "metadata": {},
   "outputs": [],
   "source": [
    "#Replace missing values with the most frequent value\n",
    "wandaloo_cars['Caméra de recul']=wandaloo_cars['Caméra de recul'].fillna(\"non\")\n",
    "#Replace \"oui\" with 1 and \"non\" with 0\n",
    "wandaloo_cars['Caméra de recul']=wandaloo_cars['Caméra de recul'].map({'oui':1,'non':0})"
   ]
  },
  {
   "cell_type": "code",
   "execution_count": 102,
   "id": "93ed1d18",
   "metadata": {},
   "outputs": [
    {
     "data": {
      "text/plain": [
       "oui    2116\n",
       "non     932\n",
       "Name: Bluetooth, dtype: int64"
      ]
     },
     "execution_count": 102,
     "metadata": {},
     "output_type": "execute_result"
    }
   ],
   "source": [
    "wandaloo_cars['Bluetooth'].value_counts()"
   ]
  },
  {
   "cell_type": "code",
   "execution_count": 103,
   "id": "688ae332",
   "metadata": {},
   "outputs": [],
   "source": [
    "#Replace missing values with the most frequent value\n",
    "wandaloo_cars['Bluetooth']=wandaloo_cars['Bluetooth'].fillna(\"oui\")\n",
    "#Replace \"oui\" with 1 and \"non\" with 0\n",
    "wandaloo_cars['Bluetooth']=wandaloo_cars['Bluetooth'].map({'oui':1,'non':0})"
   ]
  },
  {
   "cell_type": "code",
   "execution_count": 104,
   "id": "0082c702",
   "metadata": {},
   "outputs": [
    {
     "data": {
      "text/plain": [
       "oui    2211\n",
       "non     837\n",
       "Name: Jantes aluminium, dtype: int64"
      ]
     },
     "execution_count": 104,
     "metadata": {},
     "output_type": "execute_result"
    }
   ],
   "source": [
    "wandaloo_cars['Jantes aluminium'].value_counts()"
   ]
  },
  {
   "cell_type": "code",
   "execution_count": 105,
   "id": "54cd32dc",
   "metadata": {},
   "outputs": [],
   "source": [
    "#Replace missing values with the most frequent value\n",
    "wandaloo_cars['Jantes aluminium']=wandaloo_cars['Jantes aluminium'].fillna(\"oui\")\n",
    "#Replace \"oui\" with 1 and \"non\" with 0\n",
    "wandaloo_cars['Jantes aluminium']=wandaloo_cars['Jantes aluminium'].map({'oui':1,'non':0})"
   ]
  },
  {
   "cell_type": "code",
   "execution_count": 106,
   "id": "7c3d7088",
   "metadata": {},
   "outputs": [
    {
     "data": {
      "text/plain": [
       "non    1830\n",
       "oui    1218\n",
       "Name: Volant cuir, dtype: int64"
      ]
     },
     "execution_count": 106,
     "metadata": {},
     "output_type": "execute_result"
    }
   ],
   "source": [
    "wandaloo_cars['Volant cuir'].value_counts()"
   ]
  },
  {
   "cell_type": "code",
   "execution_count": 107,
   "id": "d73af4d9",
   "metadata": {},
   "outputs": [],
   "source": [
    "#Replace missing values with the most frequent value\n",
    "wandaloo_cars['Volant cuir']=wandaloo_cars['Volant cuir'].fillna(\"non\")\n",
    "#Replace \"oui\" with 1 and \"non\" with 0\n",
    "wandaloo_cars['Volant cuir']=wandaloo_cars['Volant cuir'].map({'oui':1,'non':0})"
   ]
  },
  {
   "cell_type": "code",
   "execution_count": 108,
   "id": "cb4647fc",
   "metadata": {},
   "outputs": [
    {
     "data": {
      "text/plain": [
       "oui    1870\n",
       "non    1178\n",
       "Name: Feux de jour, dtype: int64"
      ]
     },
     "execution_count": 108,
     "metadata": {},
     "output_type": "execute_result"
    }
   ],
   "source": [
    "wandaloo_cars['Feux de jour'].value_counts()"
   ]
  },
  {
   "cell_type": "code",
   "execution_count": 109,
   "id": "5cce1d1d",
   "metadata": {},
   "outputs": [],
   "source": [
    "#Replace missing values with the most frequent value\n",
    "wandaloo_cars['Feux de jour']=wandaloo_cars['Feux de jour'].fillna(\"oui\")\n",
    "#Replace \"oui\" with 1 and \"non\" with 0\n",
    "wandaloo_cars['Feux de jour']=wandaloo_cars['Feux de jour'].map({'oui':1,'non':0})"
   ]
  },
  {
   "cell_type": "code",
   "execution_count": 110,
   "id": "010e7e62",
   "metadata": {},
   "outputs": [
    {
     "data": {
      "text/plain": [
       "non    2316\n",
       "oui     732\n",
       "Name: Barres de toit, dtype: int64"
      ]
     },
     "execution_count": 110,
     "metadata": {},
     "output_type": "execute_result"
    }
   ],
   "source": [
    "wandaloo_cars['Barres de toit'].value_counts()"
   ]
  },
  {
   "cell_type": "code",
   "execution_count": 111,
   "id": "38561bc2",
   "metadata": {},
   "outputs": [],
   "source": [
    "#Replace missing values with the most frequent value\n",
    "wandaloo_cars['Barres de toit']=wandaloo_cars['Barres de toit'].fillna(\"non\")\n",
    "#Replace \"oui\" with 1 and \"non\" with 0\n",
    "wandaloo_cars['Barres de toit']=wandaloo_cars['Barres de toit'].map({'oui':1,'non':0})"
   ]
  },
  {
   "cell_type": "code",
   "execution_count": 112,
   "id": "1aba785a",
   "metadata": {},
   "outputs": [
    {
     "data": {
      "text/plain": [
       "Rigide                 2394\n",
       "Panoramique ouvrant     362\n",
       "Panoramique             198\n",
       "Ouvrant                  94\n",
       "Name: Toit, dtype: int64"
      ]
     },
     "execution_count": 112,
     "metadata": {},
     "output_type": "execute_result"
    }
   ],
   "source": [
    "wandaloo_cars['Toit'].value_counts()"
   ]
  },
  {
   "cell_type": "code",
   "execution_count": 113,
   "id": "c76d0ff6",
   "metadata": {},
   "outputs": [],
   "source": [
    "#Replace missing values with the most frequent value\n",
    "wandaloo_cars['Toit']=wandaloo_cars['Toit'].fillna(\"Rigide\")"
   ]
  },
  {
   "cell_type": "code",
   "execution_count": 114,
   "id": "e12c6924",
   "metadata": {},
   "outputs": [
    {
     "data": {
      "text/plain": [
       "oui    2783\n",
       "non     265\n",
       "Name: Airbags, dtype: int64"
      ]
     },
     "execution_count": 114,
     "metadata": {},
     "output_type": "execute_result"
    }
   ],
   "source": [
    "wandaloo_cars['Airbags'].value_counts()"
   ]
  },
  {
   "cell_type": "code",
   "execution_count": 115,
   "id": "7df496e3",
   "metadata": {},
   "outputs": [],
   "source": [
    "#Replace missing values with the most frequent value\n",
    "wandaloo_cars['Airbags']=wandaloo_cars['Airbags'].fillna(\"oui\")\n",
    "#Replace \"oui\" with 1 and \"non\" with 0\n",
    "wandaloo_cars['Airbags']=wandaloo_cars['Airbags'].map({'oui':1,'non':0})"
   ]
  },
  {
   "cell_type": "code",
   "execution_count": 116,
   "id": "cc4c5eac",
   "metadata": {},
   "outputs": [
    {
     "data": {
      "text/plain": [
       "oui    2704\n",
       "non     344\n",
       "Name: ABS, dtype: int64"
      ]
     },
     "execution_count": 116,
     "metadata": {},
     "output_type": "execute_result"
    }
   ],
   "source": [
    "wandaloo_cars['ABS'].value_counts()"
   ]
  },
  {
   "cell_type": "code",
   "execution_count": 117,
   "id": "6ac95867",
   "metadata": {},
   "outputs": [],
   "source": [
    "#Replace missing values with the most frequent value\n",
    "wandaloo_cars['ABS']=wandaloo_cars['ABS'].fillna(\"oui\")\n",
    "#Replace \"oui\" with 1 and \"non\" with 0\n",
    "wandaloo_cars['ABS']=wandaloo_cars['ABS'].map({'oui':1,'non':0})"
   ]
  },
  {
   "cell_type": "code",
   "execution_count": 118,
   "id": "43e55b64",
   "metadata": {},
   "outputs": [
    {
     "data": {
      "text/plain": [
       "oui    2235\n",
       "non     813\n",
       "Name: ESP, dtype: int64"
      ]
     },
     "execution_count": 118,
     "metadata": {},
     "output_type": "execute_result"
    }
   ],
   "source": [
    "wandaloo_cars['ESP'].value_counts()"
   ]
  },
  {
   "cell_type": "code",
   "execution_count": 119,
   "id": "9e0dc04e",
   "metadata": {},
   "outputs": [],
   "source": [
    "#Replace missing values with the most frequent value\n",
    "wandaloo_cars['ESP']=wandaloo_cars['ESP'].fillna(\"oui\")\n",
    "#Replace \"oui\" with 1 and \"non\" with 0\n",
    "wandaloo_cars['ESP']=wandaloo_cars['ESP'].map({'oui':1,'non':0})"
   ]
  },
  {
   "cell_type": "code",
   "execution_count": 120,
   "id": "3f1b9855",
   "metadata": {},
   "outputs": [
    {
     "data": {
      "text/plain": [
       "oui    2094\n",
       "non     954\n",
       "Name: Antipatinage, dtype: int64"
      ]
     },
     "execution_count": 120,
     "metadata": {},
     "output_type": "execute_result"
    }
   ],
   "source": [
    "wandaloo_cars['Antipatinage'].value_counts()"
   ]
  },
  {
   "cell_type": "code",
   "execution_count": 121,
   "id": "4e62cb89",
   "metadata": {},
   "outputs": [],
   "source": [
    "#Replace missing values with the most frequent value\n",
    "wandaloo_cars['Antipatinage']=wandaloo_cars['Antipatinage'].fillna(\"oui\")\n",
    "#Replace \"oui\" with 1 and \"non\" with 0\n",
    "wandaloo_cars['Antipatinage']=wandaloo_cars['Antipatinage'].map({'oui':1,'non':0})"
   ]
  },
  {
   "cell_type": "code",
   "execution_count": 122,
   "id": "a2aefa9c",
   "metadata": {},
   "outputs": [
    {
     "data": {
      "text/plain": [
       "Brand                                   0\n",
       "Model                                   0\n",
       "Version                                 0\n",
       "Prix - DH                               0\n",
       "Modèle                                  0\n",
       "Main                                    0\n",
       "Kilométrage                             0\n",
       "Carburant                               0\n",
       "Transmision                             0\n",
       "Puissance fiscale en cv                 0\n",
       "Couleur extérieure                      0\n",
       "Etat du véhicule                        0\n",
       "Climatisation                           0\n",
       "Vitres électriques                      0\n",
       "Sièges électriques                      0\n",
       "Ordinateur de bord                      0\n",
       "Start & Stop                            0\n",
       "Régulateur de vitesse                   0\n",
       "Allumage auto. des feux                 0\n",
       "Détecteur de pluie                      0\n",
       "Commandes au volant                     0\n",
       "Ecran tactile                           0\n",
       "Rétroviseurs électriques                0\n",
       "Ouverture auto. du coffre               0\n",
       "Démarrage mains libres                  0\n",
       "Banquette arrière rabattable 1/3-2/3    0\n",
       "Caméra de recul                         0\n",
       "Bluetooth                               0\n",
       "Jantes aluminium                        0\n",
       "Volant cuir                             0\n",
       "Feux de jour                            0\n",
       "Barres de toit                          0\n",
       "Toit                                    0\n",
       "Airbags                                 0\n",
       "ABS                                     0\n",
       "ESP                                     0\n",
       "Antipatinage                            0\n",
       "dtype: int64"
      ]
     },
     "execution_count": 122,
     "metadata": {},
     "output_type": "execute_result"
    }
   ],
   "source": [
    "wandaloo_cars.isna().sum()"
   ]
  },
  {
   "cell_type": "markdown",
   "id": "4c704023",
   "metadata": {},
   "source": [
    "# Part 4 : Data visualization and exploration"
   ]
  },
  {
   "cell_type": "code",
   "execution_count": 123,
   "id": "57d5fbd2",
   "metadata": {},
   "outputs": [
    {
     "name": "stderr",
     "output_type": "stream",
     "text": [
      "C:\\ProgramData\\Anaconda3\\lib\\site-packages\\seaborn\\distributions.py:2619: FutureWarning: `distplot` is a deprecated function and will be removed in a future version. Please adapt your code to use either `displot` (a figure-level function with similar flexibility) or `histplot` (an axes-level function for histograms).\n",
      "  warnings.warn(msg, FutureWarning)\n"
     ]
    },
    {
     "data": {
      "image/png": "[encoded data removed]",
      "text/plain": [
       "<Figure size 800x800 with 1 Axes>"
      ]
     },
     "metadata": {},
     "output_type": "display_data"
    }
   ],
   "source": [
    "plt.figure(figsize=(8, 8))\n",
    "m1 = sns.distplot(wandaloo_cars['Prix - DH'])"
   ]
  },
  {
   "cell_type": "code",
   "execution_count": 124,
   "id": "1ebe51a7",
   "metadata": {},
   "outputs": [
    {
     "data": {
      "image/png": "[encoded data removed]",
      "text/plain": [
       "<Figure size 1500x1000 with 1 Axes>"
      ]
     },
     "metadata": {},
     "output_type": "display_data"
    }
   ],
   "source": [
    "# Visualize relationship between price and Brand\n",
    "plt.figure(figsize=(15, 10))\n",
    "sns.boxplot(x = 'Brand', y = 'Prix - DH', data = wandaloo_cars)\n",
    "plt.ylim(0, 2.200000e+06)\n",
    "plt.xlabel('Brand',fontsize=18)\n",
    "plt.ylabel('Prix',fontsize=18)\n",
    "plt.show()"
   ]
  },
  {
   "cell_type": "markdown",
   "id": "fe50ef67",
   "metadata": {},
   "source": [
    "## C/c: The price of a car is impacted by the brand. "
   ]
  },
  {
   "cell_type": "code",
   "execution_count": 125,
   "id": "6fc05dd3",
   "metadata": {},
   "outputs": [
    {
     "data": {
      "image/png": "[encoded data removed]",
      "text/plain": [
       "<Figure size 1500x1000 with 1 Axes>"
      ]
     },
     "metadata": {},
     "output_type": "display_data"
    }
   ],
   "source": [
    "# Visualize relationship between price and Model\n",
    "plt.figure(figsize=(15, 10))\n",
    "sns.boxplot(x = 'Model', y = 'Prix - DH', data = wandaloo_cars[wandaloo_cars.Brand==\"KIA\"])\n",
    "plt.ylim(0, 7.500000e+05)\n",
    "plt.xlabel('Models of KIA',fontsize=18)\n",
    "plt.ylabel('Prix',fontsize=18)\n",
    "plt.show()"
   ]
  },
  {
   "cell_type": "markdown",
   "id": "2c97a4a4",
   "metadata": {},
   "source": [
    "## C/c: The price of a car is impacted by the Model of the Brand. "
   ]
  },
  {
   "cell_type": "code",
   "execution_count": 126,
   "id": "3e422914",
   "metadata": {},
   "outputs": [
    {
     "data": {
      "image/png": "[encoded data removed]",
      "text/plain": [
       "<Figure size 1500x1000 with 1 Axes>"
      ]
     },
     "metadata": {},
     "output_type": "display_data"
    }
   ],
   "source": [
    "# Visualize relationship between price and Version\n",
    "plt.figure(figsize=(15, 10))\n",
    "sns.boxplot(x = 'Version', y = 'Prix - DH', data = wandaloo_cars[wandaloo_cars.Brand==\"MERCEDES\"])\n",
    "plt.ylim(0, 7.500000e+05)\n",
    "plt.xlabel('Versions of MERCEDES',fontsize=18)\n",
    "plt.ylabel('Prix',fontsize=18)\n",
    "plt.show()"
   ]
  },
  {
   "cell_type": "markdown",
   "id": "2f2e51ef",
   "metadata": {},
   "source": [
    "## C/c: The price of a car is impacted by the Version of the Model. "
   ]
  },
  {
   "cell_type": "code",
   "execution_count": 127,
   "id": "c8fe85f3",
   "metadata": {},
   "outputs": [
    {
     "data": {
      "image/png": "[encoded data removed]",
      "text/plain": [
       "<Figure size 1500x1000 with 1 Axes>"
      ]
     },
     "metadata": {},
     "output_type": "display_data"
    }
   ],
   "source": [
    "# Visualize relationship between price and Modèle\n",
    "plt.figure(figsize=(15, 10))\n",
    "sns.boxplot(x = 'Modèle', y = 'Prix - DH', data = wandaloo_cars)\n",
    "plt.ylim(0, 7.500000e+05)\n",
    "plt.xlabel('Modèle',fontsize=18)\n",
    "plt.ylabel('Prix',fontsize=18)\n",
    "plt.show()"
   ]
  },
  {
   "cell_type": "markdown",
   "id": "e08b5a73",
   "metadata": {},
   "source": [
    "## C/c: The price of a car is impacted by the Modèle. \n"
   ]
  },
  {
   "cell_type": "code",
   "execution_count": 128,
   "id": "7a3e83b3",
   "metadata": {},
   "outputs": [
    {
     "data": {
      "image/png": "[encoded data removed]",
      "text/plain": [
       "<Figure size 1500x1000 with 1 Axes>"
      ]
     },
     "metadata": {},
     "output_type": "display_data"
    }
   ],
   "source": [
    "# Visualize relationship between price and Main\n",
    "plt.figure(figsize=(15, 10))\n",
    "sns.boxplot(x = 'Main', y = 'Prix - DH', data = wandaloo_cars)\n",
    "plt.ylim(0, 2.200000e+06)\n",
    "plt.xlabel('Main',fontsize=18)\n",
    "plt.ylabel('Prix',fontsize=18)\n",
    "plt.show()"
   ]
  },
  {
   "cell_type": "markdown",
   "id": "394cee67",
   "metadata": {},
   "source": [
    "## C/c: The price of a car is impacted by the Main. "
   ]
  },
  {
   "cell_type": "code",
   "execution_count": 129,
   "id": "5540e31d",
   "metadata": {},
   "outputs": [
    {
     "data": {
      "image/png": "[encoded data removed]",
      "text/plain": [
       "<Figure size 1500x1000 with 1 Axes>"
      ]
     },
     "metadata": {},
     "output_type": "display_data"
    }
   ],
   "source": [
    "# Visualize relationship between price and Kilométrage\n",
    "plt.figure(figsize=(15, 10))\n",
    "sns.boxplot(x = 'Kilométrage', y = 'Prix - DH', data = wandaloo_cars[wandaloo_cars.Brand==\"MERCEDES\"])\n",
    "plt.ylim(0, 5.200000e+05)\n",
    "plt.xlabel('Kilométrage',fontsize=18)\n",
    "plt.ylabel('Prix',fontsize=18)\n",
    "plt.show()"
   ]
  },
  {
   "cell_type": "code",
   "execution_count": 130,
   "id": "9358b176",
   "metadata": {},
   "outputs": [
    {
     "data": {
      "image/png": "[encoded data removed]",
      "text/plain": [
       "<Figure size 1500x1000 with 1 Axes>"
      ]
     },
     "metadata": {},
     "output_type": "display_data"
    }
   ],
   "source": [
    "# Visualize relationship between price and fuel type\n",
    "plt.figure(figsize=(15, 10))\n",
    "sns.boxplot(x = 'Carburant', y = 'Prix - DH', data = wandaloo_cars)\n",
    "plt.ylim(0, 2.500000e+06)\n",
    "plt.xlabel('Carburant',fontsize=18)\n",
    "plt.ylabel('Prix',fontsize=18)\n",
    "plt.show()"
   ]
  },
  {
   "cell_type": "markdown",
   "id": "29e0d5fd",
   "metadata": {},
   "source": [
    "## C/c: The price of a car is impacted by the fuel type. "
   ]
  },
  {
   "cell_type": "code",
   "execution_count": 131,
   "id": "ba9d8635",
   "metadata": {},
   "outputs": [
    {
     "data": {
      "image/png": "[encoded data removed]",
      "text/plain": [
       "<Figure size 1500x1000 with 1 Axes>"
      ]
     },
     "metadata": {},
     "output_type": "display_data"
    }
   ],
   "source": [
    "# Visualize relationship between price and Color\n",
    "plt.figure(figsize=(15, 10))\n",
    "sns.boxplot(x = 'Couleur extérieure', y = 'Prix - DH', data = wandaloo_cars)\n",
    "plt.ylim(0, 2.500000e+06)\n",
    "plt.xlabel('Couleur extérieure',fontsize=18)\n",
    "plt.ylabel('Prix',fontsize=18)\n",
    "plt.show()"
   ]
  },
  {
   "cell_type": "markdown",
   "id": "c6d62e39",
   "metadata": {},
   "source": [
    "## C/c: The price of a car is impacted by the Color. "
   ]
  },
  {
   "cell_type": "code",
   "execution_count": 132,
   "id": "b546ad8d",
   "metadata": {},
   "outputs": [
    {
     "data": {
      "image/png": "[encoded data removed]",
      "text/plain": [
       "<Figure size 1500x1000 with 1 Axes>"
      ]
     },
     "metadata": {},
     "output_type": "display_data"
    }
   ],
   "source": [
    "# Visualize relationship between price and \"Etat du véhicule\"\n",
    "plt.figure(figsize=(15, 10))\n",
    "sns.boxplot(x = 'Etat du véhicule', y = 'Prix - DH', data = wandaloo_cars)\n",
    "plt.ylim(0, 2.500000e+06)\n",
    "plt.xlabel('Etat du véhicule',fontsize=18)\n",
    "plt.ylabel('Prix',fontsize=18)\n",
    "plt.show()"
   ]
  },
  {
   "cell_type": "markdown",
   "id": "dab708ce",
   "metadata": {},
   "source": [
    "## C/c: The price of a car is impacted by the State of the car. "
   ]
  },
  {
   "cell_type": "code",
   "execution_count": 133,
   "id": "4124700f",
   "metadata": {},
   "outputs": [
    {
     "data": {
      "image/png": "[encoded data removed]",
      "text/plain": [
       "<Figure size 1500x1000 with 1 Axes>"
      ]
     },
     "metadata": {},
     "output_type": "display_data"
    }
   ],
   "source": [
    "# Visualize relationship between price and Climatisation\n",
    "plt.figure(figsize=(15, 10))\n",
    "sns.boxplot(x = 'Climatisation', y = 'Prix - DH', data = wandaloo_cars)\n",
    "plt.ylim(0, 2.500000e+06)\n",
    "plt.xlabel('Climatisation',fontsize=18)\n",
    "plt.ylabel('Prix',fontsize=18)\n",
    "plt.show()"
   ]
  },
  {
   "cell_type": "markdown",
   "id": "f08ff5ea",
   "metadata": {},
   "source": [
    "## C/c: The price of a car is impacted by the Climatisation type. "
   ]
  },
  {
   "cell_type": "code",
   "execution_count": 134,
   "id": "916c45a9",
   "metadata": {},
   "outputs": [
    {
     "data": {
      "image/png": "[encoded data removed]",
      "text/plain": [
       "<Figure size 1500x1000 with 1 Axes>"
      ]
     },
     "metadata": {},
     "output_type": "display_data"
    }
   ],
   "source": [
    "# Visualize relationship between price and Toit\n",
    "plt.figure(figsize=(15, 10))\n",
    "sns.boxplot(x = 'Toit', y = 'Prix - DH', data = wandaloo_cars)\n",
    "plt.ylim(0, 2.500000e+06)\n",
    "plt.xlabel('Toit',fontsize=18)\n",
    "plt.ylabel('Prix',fontsize=18)\n",
    "plt.show()"
   ]
  },
  {
   "cell_type": "markdown",
   "id": "c3f4f2b7",
   "metadata": {},
   "source": [
    "## C/c: The price of a car is impacted by the car top. "
   ]
  },
  {
   "cell_type": "code",
   "execution_count": 135,
   "id": "ea4e5f89",
   "metadata": {},
   "outputs": [
    {
     "data": {
      "image/png": "[encoded data removed]",
      "text/plain": [
       "<Figure size 1500x1000 with 1 Axes>"
      ]
     },
     "metadata": {},
     "output_type": "display_data"
    }
   ],
   "source": [
    "# Visualize relationship between price and Ecran tactile\n",
    "plt.figure(figsize=(15, 10))\n",
    "sns.boxplot(x = 'Ecran tactile', y = 'Prix - DH', data = wandaloo_cars)\n",
    "plt.ylim(0, 2.500000e+06)\n",
    "plt.xlabel('Ecran tactile',fontsize=18)\n",
    "plt.ylabel('Prix',fontsize=18)\n",
    "plt.show()"
   ]
  },
  {
   "cell_type": "markdown",
   "id": "214ec309",
   "metadata": {},
   "source": [
    "## C/c: The price of a car is impacted by the Smart screen. "
   ]
  },
  {
   "cell_type": "markdown",
   "id": "58159f24",
   "metadata": {},
   "source": [
    "# Part 5 : Dealing with duplicate data"
   ]
  },
  {
   "cell_type": "code",
   "execution_count": 136,
   "id": "dad4c480",
   "metadata": {},
   "outputs": [
    {
     "data": {
      "text/html": [
       "<div>\n",
       "<style scoped>\n",
       "    .dataframe tbody tr th:only-of-type {\n",
       "        vertical-align: middle;\n",
       "    }\n",
       "\n",
       "    .dataframe tbody tr th {\n",
       "        vertical-align: top;\n",
       "    }\n",
       "\n",
       "    .dataframe thead th {\n",
       "        text-align: right;\n",
       "    }\n",
       "</style>\n",
       "<table border=\"1\" class=\"dataframe\">\n",
       "  <thead>\n",
       "    <tr style=\"text-align: right;\">\n",
       "      <th></th>\n",
       "      <th>Brand</th>\n",
       "      <th>Model</th>\n",
       "      <th>Version</th>\n",
       "      <th>Prix - DH</th>\n",
       "      <th>Modèle</th>\n",
       "      <th>Main</th>\n",
       "      <th>Kilométrage</th>\n",
       "      <th>Carburant</th>\n",
       "      <th>Transmision</th>\n",
       "      <th>Puissance fiscale en cv</th>\n",
       "      <th>...</th>\n",
       "      <th>Bluetooth</th>\n",
       "      <th>Jantes aluminium</th>\n",
       "      <th>Volant cuir</th>\n",
       "      <th>Feux de jour</th>\n",
       "      <th>Barres de toit</th>\n",
       "      <th>Toit</th>\n",
       "      <th>Airbags</th>\n",
       "      <th>ABS</th>\n",
       "      <th>ESP</th>\n",
       "      <th>Antipatinage</th>\n",
       "    </tr>\n",
       "  </thead>\n",
       "  <tbody>\n",
       "    <tr>\n",
       "      <th>0</th>\n",
       "      <td>MERCEDES</td>\n",
       "      <td>Classe C 2014</td>\n",
       "      <td>220 d</td>\n",
       "      <td>228000.0</td>\n",
       "      <td>2014-01-01</td>\n",
       "      <td>Seconde</td>\n",
       "      <td>144500</td>\n",
       "      <td>Diesel</td>\n",
       "      <td>1</td>\n",
       "      <td>8</td>\n",
       "      <td>...</td>\n",
       "      <td>1</td>\n",
       "      <td>1</td>\n",
       "      <td>1</td>\n",
       "      <td>1</td>\n",
       "      <td>0</td>\n",
       "      <td>Rigide</td>\n",
       "      <td>1</td>\n",
       "      <td>1</td>\n",
       "      <td>1</td>\n",
       "      <td>1</td>\n",
       "    </tr>\n",
       "    <tr>\n",
       "      <th>1</th>\n",
       "      <td>MERCEDES</td>\n",
       "      <td>Classe C 2003</td>\n",
       "      <td>220 CDI</td>\n",
       "      <td>79000.0</td>\n",
       "      <td>2003-01-01</td>\n",
       "      <td>Seconde</td>\n",
       "      <td>350000</td>\n",
       "      <td>Diesel</td>\n",
       "      <td>0</td>\n",
       "      <td>8</td>\n",
       "      <td>...</td>\n",
       "      <td>1</td>\n",
       "      <td>1</td>\n",
       "      <td>0</td>\n",
       "      <td>1</td>\n",
       "      <td>0</td>\n",
       "      <td>Rigide</td>\n",
       "      <td>1</td>\n",
       "      <td>1</td>\n",
       "      <td>1</td>\n",
       "      <td>1</td>\n",
       "    </tr>\n",
       "    <tr>\n",
       "      <th>2</th>\n",
       "      <td>MERCEDES</td>\n",
       "      <td>Classe B 2013</td>\n",
       "      <td>180 d Urban</td>\n",
       "      <td>150000.0</td>\n",
       "      <td>2013-01-01</td>\n",
       "      <td>Seconde</td>\n",
       "      <td>144000</td>\n",
       "      <td>Diesel</td>\n",
       "      <td>0</td>\n",
       "      <td>8</td>\n",
       "      <td>...</td>\n",
       "      <td>1</td>\n",
       "      <td>1</td>\n",
       "      <td>1</td>\n",
       "      <td>1</td>\n",
       "      <td>0</td>\n",
       "      <td>Rigide</td>\n",
       "      <td>1</td>\n",
       "      <td>1</td>\n",
       "      <td>1</td>\n",
       "      <td>1</td>\n",
       "    </tr>\n",
       "    <tr>\n",
       "      <th>3</th>\n",
       "      <td>MERCEDES</td>\n",
       "      <td>Classe E 2006</td>\n",
       "      <td>Autre version</td>\n",
       "      <td>135000.0</td>\n",
       "      <td>2006-01-01</td>\n",
       "      <td>Seconde</td>\n",
       "      <td>248000</td>\n",
       "      <td>Diesel</td>\n",
       "      <td>1</td>\n",
       "      <td>9</td>\n",
       "      <td>...</td>\n",
       "      <td>1</td>\n",
       "      <td>1</td>\n",
       "      <td>0</td>\n",
       "      <td>1</td>\n",
       "      <td>1</td>\n",
       "      <td>Rigide</td>\n",
       "      <td>1</td>\n",
       "      <td>1</td>\n",
       "      <td>1</td>\n",
       "      <td>1</td>\n",
       "    </tr>\n",
       "    <tr>\n",
       "      <th>4</th>\n",
       "      <td>MERCEDES</td>\n",
       "      <td>CLA Coupé 2014</td>\n",
       "      <td>220 CDI</td>\n",
       "      <td>240000.0</td>\n",
       "      <td>2014-01-01</td>\n",
       "      <td>Seconde</td>\n",
       "      <td>103000</td>\n",
       "      <td>Diesel</td>\n",
       "      <td>1</td>\n",
       "      <td>9</td>\n",
       "      <td>...</td>\n",
       "      <td>1</td>\n",
       "      <td>1</td>\n",
       "      <td>0</td>\n",
       "      <td>1</td>\n",
       "      <td>0</td>\n",
       "      <td>Panoramique</td>\n",
       "      <td>1</td>\n",
       "      <td>1</td>\n",
       "      <td>1</td>\n",
       "      <td>1</td>\n",
       "    </tr>\n",
       "  </tbody>\n",
       "</table>\n",
       "<p>5 rows × 37 columns</p>\n",
       "</div>"
      ],
      "text/plain": [
       "      Brand           Model        Version  Prix - DH     Modèle     Main  \\\n",
       "0  MERCEDES   Classe C 2014          220 d   228000.0 2014-01-01  Seconde   \n",
       "1  MERCEDES   Classe C 2003        220 CDI    79000.0 2003-01-01  Seconde   \n",
       "2  MERCEDES   Classe B 2013    180 d Urban   150000.0 2013-01-01  Seconde   \n",
       "3  MERCEDES   Classe E 2006  Autre version   135000.0 2006-01-01  Seconde   \n",
       "4  MERCEDES  CLA Coupé 2014        220 CDI   240000.0 2014-01-01  Seconde   \n",
       "\n",
       "   Kilométrage Carburant  Transmision  Puissance fiscale en cv  ... Bluetooth  \\\n",
       "0       144500    Diesel            1                        8  ...         1   \n",
       "1       350000    Diesel            0                        8  ...         1   \n",
       "2       144000    Diesel            0                        8  ...         1   \n",
       "3       248000    Diesel            1                        9  ...         1   \n",
       "4       103000    Diesel            1                        9  ...         1   \n",
       "\n",
       "  Jantes aluminium Volant cuir Feux de jour Barres de toit         Toit  \\\n",
       "0                1           1            1              0       Rigide   \n",
       "1                1           0            1              0       Rigide   \n",
       "2                1           1            1              0       Rigide   \n",
       "3                1           0            1              1       Rigide   \n",
       "4                1           0            1              0  Panoramique   \n",
       "\n",
       "   Airbags  ABS  ESP  Antipatinage  \n",
       "0        1    1    1             1  \n",
       "1        1    1    1             1  \n",
       "2        1    1    1             1  \n",
       "3        1    1    1             1  \n",
       "4        1    1    1             1  \n",
       "\n",
       "[5 rows x 37 columns]"
      ]
     },
     "execution_count": 136,
     "metadata": {},
     "output_type": "execute_result"
    }
   ],
   "source": [
    "wandaloo_cars.head()"
   ]
  },
  {
   "cell_type": "code",
   "execution_count": 137,
   "id": "eecbb4f4",
   "metadata": {},
   "outputs": [
    {
     "data": {
      "text/html": [
       "<div>\n",
       "<style scoped>\n",
       "    .dataframe tbody tr th:only-of-type {\n",
       "        vertical-align: middle;\n",
       "    }\n",
       "\n",
       "    .dataframe tbody tr th {\n",
       "        vertical-align: top;\n",
       "    }\n",
       "\n",
       "    .dataframe thead th {\n",
       "        text-align: right;\n",
       "    }\n",
       "</style>\n",
       "<table border=\"1\" class=\"dataframe\">\n",
       "  <thead>\n",
       "    <tr style=\"text-align: right;\">\n",
       "      <th></th>\n",
       "      <th>Brand</th>\n",
       "      <th>Model</th>\n",
       "      <th>Version</th>\n",
       "      <th>Prix - DH</th>\n",
       "      <th>Modèle</th>\n",
       "      <th>Main</th>\n",
       "      <th>Kilométrage</th>\n",
       "      <th>Carburant</th>\n",
       "      <th>Transmision</th>\n",
       "      <th>Puissance fiscale en cv</th>\n",
       "      <th>...</th>\n",
       "      <th>Bluetooth</th>\n",
       "      <th>Jantes aluminium</th>\n",
       "      <th>Volant cuir</th>\n",
       "      <th>Feux de jour</th>\n",
       "      <th>Barres de toit</th>\n",
       "      <th>Toit</th>\n",
       "      <th>Airbags</th>\n",
       "      <th>ABS</th>\n",
       "      <th>ESP</th>\n",
       "      <th>Antipatinage</th>\n",
       "    </tr>\n",
       "  </thead>\n",
       "  <tbody>\n",
       "    <tr>\n",
       "      <th>757</th>\n",
       "      <td>PEUGEOT</td>\n",
       "      <td>107 2013</td>\n",
       "      <td>1.1 Urban</td>\n",
       "      <td>68000.0</td>\n",
       "      <td>2013-01-01</td>\n",
       "      <td>Seconde</td>\n",
       "      <td>28500</td>\n",
       "      <td>Essence</td>\n",
       "      <td>1</td>\n",
       "      <td>6</td>\n",
       "      <td>...</td>\n",
       "      <td>0</td>\n",
       "      <td>0</td>\n",
       "      <td>0</td>\n",
       "      <td>0</td>\n",
       "      <td>0</td>\n",
       "      <td>Rigide</td>\n",
       "      <td>0</td>\n",
       "      <td>0</td>\n",
       "      <td>0</td>\n",
       "      <td>0</td>\n",
       "    </tr>\n",
       "    <tr>\n",
       "      <th>756</th>\n",
       "      <td>PEUGEOT</td>\n",
       "      <td>107 2013</td>\n",
       "      <td>1.1 Urban</td>\n",
       "      <td>62000.0</td>\n",
       "      <td>2013-01-01</td>\n",
       "      <td>Seconde</td>\n",
       "      <td>28500</td>\n",
       "      <td>Essence</td>\n",
       "      <td>1</td>\n",
       "      <td>6</td>\n",
       "      <td>...</td>\n",
       "      <td>0</td>\n",
       "      <td>0</td>\n",
       "      <td>0</td>\n",
       "      <td>0</td>\n",
       "      <td>0</td>\n",
       "      <td>Rigide</td>\n",
       "      <td>0</td>\n",
       "      <td>0</td>\n",
       "      <td>0</td>\n",
       "      <td>0</td>\n",
       "    </tr>\n",
       "    <tr>\n",
       "      <th>815</th>\n",
       "      <td>PEUGEOT</td>\n",
       "      <td>107 2013</td>\n",
       "      <td>1.1 Urban</td>\n",
       "      <td>72000.0</td>\n",
       "      <td>2013-01-01</td>\n",
       "      <td>Première</td>\n",
       "      <td>55000</td>\n",
       "      <td>Essence</td>\n",
       "      <td>1</td>\n",
       "      <td>6</td>\n",
       "      <td>...</td>\n",
       "      <td>0</td>\n",
       "      <td>0</td>\n",
       "      <td>0</td>\n",
       "      <td>0</td>\n",
       "      <td>0</td>\n",
       "      <td>Rigide</td>\n",
       "      <td>1</td>\n",
       "      <td>1</td>\n",
       "      <td>1</td>\n",
       "      <td>0</td>\n",
       "    </tr>\n",
       "    <tr>\n",
       "      <th>158</th>\n",
       "      <td>MERCEDES</td>\n",
       "      <td>190 1991</td>\n",
       "      <td>2.0 D</td>\n",
       "      <td>70000.0</td>\n",
       "      <td>1991-01-01</td>\n",
       "      <td>Seconde</td>\n",
       "      <td>4100000</td>\n",
       "      <td>Diesel</td>\n",
       "      <td>1</td>\n",
       "      <td>8</td>\n",
       "      <td>...</td>\n",
       "      <td>0</td>\n",
       "      <td>0</td>\n",
       "      <td>0</td>\n",
       "      <td>0</td>\n",
       "      <td>0</td>\n",
       "      <td>Panoramique ouvrant</td>\n",
       "      <td>1</td>\n",
       "      <td>1</td>\n",
       "      <td>0</td>\n",
       "      <td>0</td>\n",
       "    </tr>\n",
       "    <tr>\n",
       "      <th>62</th>\n",
       "      <td>MERCEDES</td>\n",
       "      <td>190 1991</td>\n",
       "      <td>2.5 D</td>\n",
       "      <td>65000.0</td>\n",
       "      <td>1991-01-01</td>\n",
       "      <td>Seconde</td>\n",
       "      <td>350000</td>\n",
       "      <td>Diesel</td>\n",
       "      <td>0</td>\n",
       "      <td>8</td>\n",
       "      <td>...</td>\n",
       "      <td>0</td>\n",
       "      <td>0</td>\n",
       "      <td>0</td>\n",
       "      <td>0</td>\n",
       "      <td>0</td>\n",
       "      <td>Rigide</td>\n",
       "      <td>0</td>\n",
       "      <td>0</td>\n",
       "      <td>0</td>\n",
       "      <td>0</td>\n",
       "    </tr>\n",
       "    <tr>\n",
       "      <th>...</th>\n",
       "      <td>...</td>\n",
       "      <td>...</td>\n",
       "      <td>...</td>\n",
       "      <td>...</td>\n",
       "      <td>...</td>\n",
       "      <td>...</td>\n",
       "      <td>...</td>\n",
       "      <td>...</td>\n",
       "      <td>...</td>\n",
       "      <td>...</td>\n",
       "      <td>...</td>\n",
       "      <td>...</td>\n",
       "      <td>...</td>\n",
       "      <td>...</td>\n",
       "      <td>...</td>\n",
       "      <td>...</td>\n",
       "      <td>...</td>\n",
       "      <td>...</td>\n",
       "      <td>...</td>\n",
       "      <td>...</td>\n",
       "      <td>...</td>\n",
       "    </tr>\n",
       "    <tr>\n",
       "      <th>2448</th>\n",
       "      <td>BMW</td>\n",
       "      <td>i4</td>\n",
       "      <td>Autre version</td>\n",
       "      <td>978000.0</td>\n",
       "      <td>2023-01-01</td>\n",
       "      <td>Nouvelle</td>\n",
       "      <td>0</td>\n",
       "      <td>Diesel</td>\n",
       "      <td>0</td>\n",
       "      <td>25</td>\n",
       "      <td>...</td>\n",
       "      <td>1</td>\n",
       "      <td>1</td>\n",
       "      <td>1</td>\n",
       "      <td>1</td>\n",
       "      <td>0</td>\n",
       "      <td>Panoramique ouvrant</td>\n",
       "      <td>1</td>\n",
       "      <td>1</td>\n",
       "      <td>1</td>\n",
       "      <td>1</td>\n",
       "    </tr>\n",
       "    <tr>\n",
       "      <th>2452</th>\n",
       "      <td>BMW</td>\n",
       "      <td>iX</td>\n",
       "      <td>Autre version</td>\n",
       "      <td>1309000.0</td>\n",
       "      <td>2023-01-01</td>\n",
       "      <td>Nouvelle</td>\n",
       "      <td>0</td>\n",
       "      <td>Diesel</td>\n",
       "      <td>0</td>\n",
       "      <td>25</td>\n",
       "      <td>...</td>\n",
       "      <td>1</td>\n",
       "      <td>1</td>\n",
       "      <td>1</td>\n",
       "      <td>1</td>\n",
       "      <td>0</td>\n",
       "      <td>Panoramique</td>\n",
       "      <td>1</td>\n",
       "      <td>1</td>\n",
       "      <td>1</td>\n",
       "      <td>1</td>\n",
       "    </tr>\n",
       "    <tr>\n",
       "      <th>2449</th>\n",
       "      <td>BMW</td>\n",
       "      <td>iX</td>\n",
       "      <td>Autre version</td>\n",
       "      <td>1005000.0</td>\n",
       "      <td>2023-01-01</td>\n",
       "      <td>Nouvelle</td>\n",
       "      <td>0</td>\n",
       "      <td>Diesel</td>\n",
       "      <td>0</td>\n",
       "      <td>15</td>\n",
       "      <td>...</td>\n",
       "      <td>1</td>\n",
       "      <td>1</td>\n",
       "      <td>1</td>\n",
       "      <td>1</td>\n",
       "      <td>0</td>\n",
       "      <td>Panoramique</td>\n",
       "      <td>1</td>\n",
       "      <td>1</td>\n",
       "      <td>1</td>\n",
       "      <td>1</td>\n",
       "    </tr>\n",
       "    <tr>\n",
       "      <th>2450</th>\n",
       "      <td>BMW</td>\n",
       "      <td>iX</td>\n",
       "      <td>Autre version</td>\n",
       "      <td>1120000.0</td>\n",
       "      <td>2023-01-01</td>\n",
       "      <td>Nouvelle</td>\n",
       "      <td>0</td>\n",
       "      <td>Diesel</td>\n",
       "      <td>0</td>\n",
       "      <td>15</td>\n",
       "      <td>...</td>\n",
       "      <td>1</td>\n",
       "      <td>1</td>\n",
       "      <td>1</td>\n",
       "      <td>1</td>\n",
       "      <td>0</td>\n",
       "      <td>Panoramique</td>\n",
       "      <td>1</td>\n",
       "      <td>1</td>\n",
       "      <td>1</td>\n",
       "      <td>1</td>\n",
       "    </tr>\n",
       "    <tr>\n",
       "      <th>2451</th>\n",
       "      <td>BMW</td>\n",
       "      <td>iX</td>\n",
       "      <td>Autre version</td>\n",
       "      <td>1177000.0</td>\n",
       "      <td>2023-01-01</td>\n",
       "      <td>Nouvelle</td>\n",
       "      <td>0</td>\n",
       "      <td>Diesel</td>\n",
       "      <td>0</td>\n",
       "      <td>25</td>\n",
       "      <td>...</td>\n",
       "      <td>1</td>\n",
       "      <td>1</td>\n",
       "      <td>1</td>\n",
       "      <td>1</td>\n",
       "      <td>0</td>\n",
       "      <td>Panoramique</td>\n",
       "      <td>1</td>\n",
       "      <td>1</td>\n",
       "      <td>1</td>\n",
       "      <td>1</td>\n",
       "    </tr>\n",
       "  </tbody>\n",
       "</table>\n",
       "<p>2558 rows × 37 columns</p>\n",
       "</div>"
      ],
      "text/plain": [
       "         Brand     Model        Version  Prix - DH     Modèle      Main  \\\n",
       "757    PEUGEOT  107 2013      1.1 Urban    68000.0 2013-01-01   Seconde   \n",
       "756    PEUGEOT  107 2013      1.1 Urban    62000.0 2013-01-01   Seconde   \n",
       "815    PEUGEOT  107 2013      1.1 Urban    72000.0 2013-01-01  Première   \n",
       "158   MERCEDES  190 1991          2.0 D    70000.0 1991-01-01   Seconde   \n",
       "62    MERCEDES  190 1991          2.5 D    65000.0 1991-01-01   Seconde   \n",
       "...        ...       ...            ...        ...        ...       ...   \n",
       "2448       BMW        i4  Autre version   978000.0 2023-01-01  Nouvelle   \n",
       "2452       BMW        iX  Autre version  1309000.0 2023-01-01  Nouvelle   \n",
       "2449       BMW        iX  Autre version  1005000.0 2023-01-01  Nouvelle   \n",
       "2450       BMW        iX  Autre version  1120000.0 2023-01-01  Nouvelle   \n",
       "2451       BMW        iX  Autre version  1177000.0 2023-01-01  Nouvelle   \n",
       "\n",
       "      Kilométrage Carburant  Transmision  Puissance fiscale en cv  ...  \\\n",
       "757         28500   Essence            1                        6  ...   \n",
       "756         28500   Essence            1                        6  ...   \n",
       "815         55000   Essence            1                        6  ...   \n",
       "158       4100000    Diesel            1                        8  ...   \n",
       "62         350000    Diesel            0                        8  ...   \n",
       "...           ...       ...          ...                      ...  ...   \n",
       "2448            0    Diesel            0                       25  ...   \n",
       "2452            0    Diesel            0                       25  ...   \n",
       "2449            0    Diesel            0                       15  ...   \n",
       "2450            0    Diesel            0                       15  ...   \n",
       "2451            0    Diesel            0                       25  ...   \n",
       "\n",
       "     Bluetooth Jantes aluminium Volant cuir Feux de jour Barres de toit  \\\n",
       "757          0                0           0            0              0   \n",
       "756          0                0           0            0              0   \n",
       "815          0                0           0            0              0   \n",
       "158          0                0           0            0              0   \n",
       "62           0                0           0            0              0   \n",
       "...        ...              ...         ...          ...            ...   \n",
       "2448         1                1           1            1              0   \n",
       "2452         1                1           1            1              0   \n",
       "2449         1                1           1            1              0   \n",
       "2450         1                1           1            1              0   \n",
       "2451         1                1           1            1              0   \n",
       "\n",
       "                     Toit  Airbags  ABS  ESP  Antipatinage  \n",
       "757                Rigide        0    0    0             0  \n",
       "756                Rigide        0    0    0             0  \n",
       "815                Rigide        1    1    1             0  \n",
       "158   Panoramique ouvrant        1    1    0             0  \n",
       "62                 Rigide        0    0    0             0  \n",
       "...                   ...      ...  ...  ...           ...  \n",
       "2448  Panoramique ouvrant        1    1    1             1  \n",
       "2452          Panoramique        1    1    1             1  \n",
       "2449          Panoramique        1    1    1             1  \n",
       "2450          Panoramique        1    1    1             1  \n",
       "2451          Panoramique        1    1    1             1  \n",
       "\n",
       "[2558 rows x 37 columns]"
      ]
     },
     "execution_count": 137,
     "metadata": {},
     "output_type": "execute_result"
    }
   ],
   "source": [
    "# Find duplicates\n",
    "duplicates = wandaloo_cars.duplicated(subset = 'Model', keep = False)\n",
    "wandaloo_cars[duplicates].sort_values('Model')"
   ]
  },
  {
   "cell_type": "code",
   "execution_count": 138,
   "id": "8f46d4a2",
   "metadata": {},
   "outputs": [],
   "source": [
    "# Remove identical duplicates\n",
    "wandaloo_cars = wandaloo_cars.drop_duplicates()"
   ]
  },
  {
   "cell_type": "code",
   "execution_count": 139,
   "id": "09d0274e",
   "metadata": {},
   "outputs": [
    {
     "data": {
      "text/plain": [
       "Brand                                           object\n",
       "Model                                           object\n",
       "Version                                         object\n",
       "Prix - DH                                      float64\n",
       "Modèle                                  datetime64[ns]\n",
       "Main                                            object\n",
       "Kilométrage                                      int32\n",
       "Carburant                                       object\n",
       "Transmision                                      int64\n",
       "Puissance fiscale en cv                          int32\n",
       "Couleur extérieure                              object\n",
       "Etat du véhicule                                object\n",
       "Climatisation                                   object\n",
       "Vitres électriques                              object\n",
       "Sièges électriques                              object\n",
       "Ordinateur de bord                               int64\n",
       "Start & Stop                                     int64\n",
       "Régulateur de vitesse                            int64\n",
       "Allumage auto. des feux                          int64\n",
       "Détecteur de pluie                               int64\n",
       "Commandes au volant                              int64\n",
       "Ecran tactile                                    int64\n",
       "Rétroviseurs électriques                         int64\n",
       "Ouverture auto. du coffre                        int64\n",
       "Démarrage mains libres                           int64\n",
       "Banquette arrière rabattable 1/3-2/3             int64\n",
       "Caméra de recul                                  int64\n",
       "Bluetooth                                        int64\n",
       "Jantes aluminium                                 int64\n",
       "Volant cuir                                      int64\n",
       "Feux de jour                                     int64\n",
       "Barres de toit                                   int64\n",
       "Toit                                            object\n",
       "Airbags                                          int64\n",
       "ABS                                              int64\n",
       "ESP                                              int64\n",
       "Antipatinage                                     int64\n",
       "dtype: object"
      ]
     },
     "execution_count": 139,
     "metadata": {},
     "output_type": "execute_result"
    }
   ],
   "source": [
    "wandaloo_cars.dtypes"
   ]
  },
  {
   "cell_type": "markdown",
   "id": "21219ebe",
   "metadata": {},
   "source": [
    "# Part 6 : Data reduction"
   ]
  },
  {
   "cell_type": "code",
   "execution_count": 140,
   "id": "1ea79d1f",
   "metadata": {},
   "outputs": [
    {
     "data": {
      "text/html": [
       "<div>\n",
       "<style scoped>\n",
       "    .dataframe tbody tr th:only-of-type {\n",
       "        vertical-align: middle;\n",
       "    }\n",
       "\n",
       "    .dataframe tbody tr th {\n",
       "        vertical-align: top;\n",
       "    }\n",
       "\n",
       "    .dataframe thead th {\n",
       "        text-align: right;\n",
       "    }\n",
       "</style>\n",
       "<table border=\"1\" class=\"dataframe\">\n",
       "  <thead>\n",
       "    <tr style=\"text-align: right;\">\n",
       "      <th></th>\n",
       "      <th>Prix - DH</th>\n",
       "      <th>Modèle</th>\n",
       "      <th>Kilométrage</th>\n",
       "      <th>Transmision</th>\n",
       "      <th>Puissance fiscale en cv</th>\n",
       "      <th>Ordinateur de bord</th>\n",
       "      <th>Start &amp; Stop</th>\n",
       "      <th>Régulateur de vitesse</th>\n",
       "      <th>Allumage auto. des feux</th>\n",
       "      <th>Détecteur de pluie</th>\n",
       "      <th>...</th>\n",
       "      <th>Pas de vitres électriques</th>\n",
       "      <th>Conducteur</th>\n",
       "      <th>Conducteur et Passager</th>\n",
       "      <th>Pas de sièges électriques</th>\n",
       "      <th>Passager</th>\n",
       "      <th>Tous les passagers</th>\n",
       "      <th>Ouvrant</th>\n",
       "      <th>Panoramique</th>\n",
       "      <th>Panoramique ouvrant</th>\n",
       "      <th>Rigide</th>\n",
       "    </tr>\n",
       "  </thead>\n",
       "  <tbody>\n",
       "    <tr>\n",
       "      <th>0</th>\n",
       "      <td>228000.0</td>\n",
       "      <td>2014-01-01</td>\n",
       "      <td>144500</td>\n",
       "      <td>1</td>\n",
       "      <td>8</td>\n",
       "      <td>1</td>\n",
       "      <td>1</td>\n",
       "      <td>1</td>\n",
       "      <td>1</td>\n",
       "      <td>1</td>\n",
       "      <td>...</td>\n",
       "      <td>0</td>\n",
       "      <td>0</td>\n",
       "      <td>1</td>\n",
       "      <td>0</td>\n",
       "      <td>0</td>\n",
       "      <td>0</td>\n",
       "      <td>0</td>\n",
       "      <td>0</td>\n",
       "      <td>0</td>\n",
       "      <td>1</td>\n",
       "    </tr>\n",
       "    <tr>\n",
       "      <th>1</th>\n",
       "      <td>79000.0</td>\n",
       "      <td>2003-01-01</td>\n",
       "      <td>350000</td>\n",
       "      <td>0</td>\n",
       "      <td>8</td>\n",
       "      <td>1</td>\n",
       "      <td>1</td>\n",
       "      <td>1</td>\n",
       "      <td>1</td>\n",
       "      <td>1</td>\n",
       "      <td>...</td>\n",
       "      <td>0</td>\n",
       "      <td>0</td>\n",
       "      <td>0</td>\n",
       "      <td>0</td>\n",
       "      <td>0</td>\n",
       "      <td>1</td>\n",
       "      <td>0</td>\n",
       "      <td>0</td>\n",
       "      <td>0</td>\n",
       "      <td>1</td>\n",
       "    </tr>\n",
       "    <tr>\n",
       "      <th>2</th>\n",
       "      <td>150000.0</td>\n",
       "      <td>2013-01-01</td>\n",
       "      <td>144000</td>\n",
       "      <td>0</td>\n",
       "      <td>8</td>\n",
       "      <td>1</td>\n",
       "      <td>0</td>\n",
       "      <td>1</td>\n",
       "      <td>1</td>\n",
       "      <td>1</td>\n",
       "      <td>...</td>\n",
       "      <td>0</td>\n",
       "      <td>0</td>\n",
       "      <td>0</td>\n",
       "      <td>1</td>\n",
       "      <td>0</td>\n",
       "      <td>0</td>\n",
       "      <td>0</td>\n",
       "      <td>0</td>\n",
       "      <td>0</td>\n",
       "      <td>1</td>\n",
       "    </tr>\n",
       "    <tr>\n",
       "      <th>3</th>\n",
       "      <td>135000.0</td>\n",
       "      <td>2006-01-01</td>\n",
       "      <td>248000</td>\n",
       "      <td>1</td>\n",
       "      <td>9</td>\n",
       "      <td>1</td>\n",
       "      <td>0</td>\n",
       "      <td>1</td>\n",
       "      <td>1</td>\n",
       "      <td>1</td>\n",
       "      <td>...</td>\n",
       "      <td>0</td>\n",
       "      <td>0</td>\n",
       "      <td>1</td>\n",
       "      <td>0</td>\n",
       "      <td>0</td>\n",
       "      <td>0</td>\n",
       "      <td>0</td>\n",
       "      <td>0</td>\n",
       "      <td>0</td>\n",
       "      <td>1</td>\n",
       "    </tr>\n",
       "    <tr>\n",
       "      <th>4</th>\n",
       "      <td>240000.0</td>\n",
       "      <td>2014-01-01</td>\n",
       "      <td>103000</td>\n",
       "      <td>1</td>\n",
       "      <td>9</td>\n",
       "      <td>1</td>\n",
       "      <td>1</td>\n",
       "      <td>1</td>\n",
       "      <td>1</td>\n",
       "      <td>1</td>\n",
       "      <td>...</td>\n",
       "      <td>0</td>\n",
       "      <td>0</td>\n",
       "      <td>1</td>\n",
       "      <td>0</td>\n",
       "      <td>0</td>\n",
       "      <td>0</td>\n",
       "      <td>0</td>\n",
       "      <td>1</td>\n",
       "      <td>0</td>\n",
       "      <td>0</td>\n",
       "    </tr>\n",
       "    <tr>\n",
       "      <th>...</th>\n",
       "      <td>...</td>\n",
       "      <td>...</td>\n",
       "      <td>...</td>\n",
       "      <td>...</td>\n",
       "      <td>...</td>\n",
       "      <td>...</td>\n",
       "      <td>...</td>\n",
       "      <td>...</td>\n",
       "      <td>...</td>\n",
       "      <td>...</td>\n",
       "      <td>...</td>\n",
       "      <td>...</td>\n",
       "      <td>...</td>\n",
       "      <td>...</td>\n",
       "      <td>...</td>\n",
       "      <td>...</td>\n",
       "      <td>...</td>\n",
       "      <td>...</td>\n",
       "      <td>...</td>\n",
       "      <td>...</td>\n",
       "      <td>...</td>\n",
       "    </tr>\n",
       "    <tr>\n",
       "      <th>3124</th>\n",
       "      <td>630000.0</td>\n",
       "      <td>2023-01-01</td>\n",
       "      <td>0</td>\n",
       "      <td>1</td>\n",
       "      <td>8</td>\n",
       "      <td>1</td>\n",
       "      <td>1</td>\n",
       "      <td>1</td>\n",
       "      <td>1</td>\n",
       "      <td>1</td>\n",
       "      <td>...</td>\n",
       "      <td>0</td>\n",
       "      <td>0</td>\n",
       "      <td>1</td>\n",
       "      <td>0</td>\n",
       "      <td>0</td>\n",
       "      <td>0</td>\n",
       "      <td>0</td>\n",
       "      <td>0</td>\n",
       "      <td>0</td>\n",
       "      <td>1</td>\n",
       "    </tr>\n",
       "    <tr>\n",
       "      <th>3125</th>\n",
       "      <td>730000.0</td>\n",
       "      <td>2023-01-01</td>\n",
       "      <td>0</td>\n",
       "      <td>1</td>\n",
       "      <td>8</td>\n",
       "      <td>1</td>\n",
       "      <td>1</td>\n",
       "      <td>1</td>\n",
       "      <td>1</td>\n",
       "      <td>1</td>\n",
       "      <td>...</td>\n",
       "      <td>0</td>\n",
       "      <td>0</td>\n",
       "      <td>1</td>\n",
       "      <td>0</td>\n",
       "      <td>0</td>\n",
       "      <td>0</td>\n",
       "      <td>0</td>\n",
       "      <td>0</td>\n",
       "      <td>1</td>\n",
       "      <td>0</td>\n",
       "    </tr>\n",
       "    <tr>\n",
       "      <th>3126</th>\n",
       "      <td>850000.0</td>\n",
       "      <td>2023-01-01</td>\n",
       "      <td>0</td>\n",
       "      <td>1</td>\n",
       "      <td>8</td>\n",
       "      <td>1</td>\n",
       "      <td>1</td>\n",
       "      <td>1</td>\n",
       "      <td>1</td>\n",
       "      <td>1</td>\n",
       "      <td>...</td>\n",
       "      <td>0</td>\n",
       "      <td>0</td>\n",
       "      <td>1</td>\n",
       "      <td>0</td>\n",
       "      <td>0</td>\n",
       "      <td>0</td>\n",
       "      <td>0</td>\n",
       "      <td>0</td>\n",
       "      <td>1</td>\n",
       "      <td>0</td>\n",
       "    </tr>\n",
       "    <tr>\n",
       "      <th>3127</th>\n",
       "      <td>1000000.0</td>\n",
       "      <td>2023-01-01</td>\n",
       "      <td>0</td>\n",
       "      <td>1</td>\n",
       "      <td>11</td>\n",
       "      <td>1</td>\n",
       "      <td>1</td>\n",
       "      <td>1</td>\n",
       "      <td>1</td>\n",
       "      <td>1</td>\n",
       "      <td>...</td>\n",
       "      <td>0</td>\n",
       "      <td>0</td>\n",
       "      <td>1</td>\n",
       "      <td>0</td>\n",
       "      <td>0</td>\n",
       "      <td>0</td>\n",
       "      <td>0</td>\n",
       "      <td>0</td>\n",
       "      <td>1</td>\n",
       "      <td>0</td>\n",
       "    </tr>\n",
       "    <tr>\n",
       "      <th>3128</th>\n",
       "      <td>1100000.0</td>\n",
       "      <td>2023-01-01</td>\n",
       "      <td>0</td>\n",
       "      <td>1</td>\n",
       "      <td>11</td>\n",
       "      <td>1</td>\n",
       "      <td>1</td>\n",
       "      <td>1</td>\n",
       "      <td>1</td>\n",
       "      <td>1</td>\n",
       "      <td>...</td>\n",
       "      <td>0</td>\n",
       "      <td>0</td>\n",
       "      <td>1</td>\n",
       "      <td>0</td>\n",
       "      <td>0</td>\n",
       "      <td>0</td>\n",
       "      <td>0</td>\n",
       "      <td>0</td>\n",
       "      <td>1</td>\n",
       "      <td>0</td>\n",
       "    </tr>\n",
       "  </tbody>\n",
       "</table>\n",
       "<p>3033 rows × 1973 columns</p>\n",
       "</div>"
      ],
      "text/plain": [
       "      Prix - DH     Modèle  Kilométrage  Transmision  Puissance fiscale en cv  \\\n",
       "0      228000.0 2014-01-01       144500            1                        8   \n",
       "1       79000.0 2003-01-01       350000            0                        8   \n",
       "2      150000.0 2013-01-01       144000            0                        8   \n",
       "3      135000.0 2006-01-01       248000            1                        9   \n",
       "4      240000.0 2014-01-01       103000            1                        9   \n",
       "...         ...        ...          ...          ...                      ...   \n",
       "3124   630000.0 2023-01-01            0            1                        8   \n",
       "3125   730000.0 2023-01-01            0            1                        8   \n",
       "3126   850000.0 2023-01-01            0            1                        8   \n",
       "3127  1000000.0 2023-01-01            0            1                       11   \n",
       "3128  1100000.0 2023-01-01            0            1                       11   \n",
       "\n",
       "      Ordinateur de bord  Start & Stop  Régulateur de vitesse  \\\n",
       "0                      1             1                      1   \n",
       "1                      1             1                      1   \n",
       "2                      1             0                      1   \n",
       "3                      1             0                      1   \n",
       "4                      1             1                      1   \n",
       "...                  ...           ...                    ...   \n",
       "3124                   1             1                      1   \n",
       "3125                   1             1                      1   \n",
       "3126                   1             1                      1   \n",
       "3127                   1             1                      1   \n",
       "3128                   1             1                      1   \n",
       "\n",
       "      Allumage auto. des feux  Détecteur de pluie  ...  \\\n",
       "0                           1                   1  ...   \n",
       "1                           1                   1  ...   \n",
       "2                           1                   1  ...   \n",
       "3                           1                   1  ...   \n",
       "4                           1                   1  ...   \n",
       "...                       ...                 ...  ...   \n",
       "3124                        1                   1  ...   \n",
       "3125                        1                   1  ...   \n",
       "3126                        1                   1  ...   \n",
       "3127                        1                   1  ...   \n",
       "3128                        1                   1  ...   \n",
       "\n",
       "      Pas de vitres électriques  Conducteur  Conducteur et Passager  \\\n",
       "0                             0           0                       1   \n",
       "1                             0           0                       0   \n",
       "2                             0           0                       0   \n",
       "3                             0           0                       1   \n",
       "4                             0           0                       1   \n",
       "...                         ...         ...                     ...   \n",
       "3124                          0           0                       1   \n",
       "3125                          0           0                       1   \n",
       "3126                          0           0                       1   \n",
       "3127                          0           0                       1   \n",
       "3128                          0           0                       1   \n",
       "\n",
       "      Pas de sièges électriques  Passager  Tous les passagers  Ouvrant  \\\n",
       "0                             0         0                   0        0   \n",
       "1                             0         0                   1        0   \n",
       "2                             1         0                   0        0   \n",
       "3                             0         0                   0        0   \n",
       "4                             0         0                   0        0   \n",
       "...                         ...       ...                 ...      ...   \n",
       "3124                          0         0                   0        0   \n",
       "3125                          0         0                   0        0   \n",
       "3126                          0         0                   0        0   \n",
       "3127                          0         0                   0        0   \n",
       "3128                          0         0                   0        0   \n",
       "\n",
       "      Panoramique  Panoramique ouvrant  Rigide  \n",
       "0               0                    0       1  \n",
       "1               0                    0       1  \n",
       "2               0                    0       1  \n",
       "3               0                    0       1  \n",
       "4               1                    0       0  \n",
       "...           ...                  ...     ...  \n",
       "3124            0                    0       1  \n",
       "3125            0                    1       0  \n",
       "3126            0                    1       0  \n",
       "3127            0                    1       0  \n",
       "3128            0                    1       0  \n",
       "\n",
       "[3033 rows x 1973 columns]"
      ]
     },
     "execution_count": 140,
     "metadata": {},
     "output_type": "execute_result"
    }
   ],
   "source": [
    "data=wandaloo_cars\n",
    "# Create a new dataframe with one-hot encoded Brand,Model,Version,Main,Carburant,Couleur extérieure,Etat du véhicule,Climatisation,Vitres électriques,Sièges électriques,Toit\n",
    "brand_df = pd.get_dummies(data['Brand'])\n",
    "model_df = pd.get_dummies(data['Model'])\n",
    "version_df = pd.get_dummies(data['Version'])\n",
    "main_df = pd.get_dummies(data['Main'])\n",
    "carburant_df = pd.get_dummies(data['Carburant'])\n",
    "couleur_df = pd.get_dummies(data['Couleur extérieure'])\n",
    "etat_df = pd.get_dummies(data['Etat du véhicule'])\n",
    "climat_df = pd.get_dummies(data['Climatisation'])\n",
    "vitres_df = pd.get_dummies(data['Vitres électriques'])\n",
    "sieges_df = pd.get_dummies(data['Sièges électriques'])\n",
    "toit_df = pd.get_dummies(data['Toit'])\n",
    "\n",
    "# Concatenate the original dataframe with the one-hot encoded dataframe\n",
    "data = pd.concat([data, brand_df], axis=1)\n",
    "data = pd.concat([data, model_df], axis=1)\n",
    "data = pd.concat([data, version_df], axis=1)\n",
    "data = pd.concat([data, main_df], axis=1)\n",
    "data = pd.concat([data, carburant_df], axis=1)\n",
    "data = pd.concat([data, couleur_df], axis=1)\n",
    "data = pd.concat([data, etat_df], axis=1)\n",
    "data = pd.concat([data, climat_df], axis=1)\n",
    "data = pd.concat([data, vitres_df], axis=1)\n",
    "data = pd.concat([data, sieges_df], axis=1)\n",
    "data = pd.concat([data, toit_df], axis=1)\n",
    "\n",
    "# Drop the original columns\n",
    "data=data.drop(columns=['Brand','Model','Version','Main','Carburant','Couleur extérieure','Etat du véhicule','Climatisation','Vitres électriques','Sièges électriques','Toit'])\n",
    "\n",
    "# Print the updated dataframe\n",
    "data"
   ]
  },
  {
   "cell_type": "markdown",
   "id": "4219d15e",
   "metadata": {},
   "source": [
    "# Part 7 : Model building prediction"
   ]
  },
  {
   "cell_type": "code",
   "execution_count": 141,
   "id": "8f9bb48b",
   "metadata": {},
   "outputs": [],
   "source": [
    "from sklearn.preprocessing import StandardScaler\n",
    "X=data.drop(columns=[\"Prix - DH\",\"Modèle\"])\n",
    "Y=data[\"Prix - DH\"]"
   ]
  },
  {
   "cell_type": "code",
   "execution_count": 142,
   "id": "462e11f4",
   "metadata": {},
   "outputs": [],
   "source": [
    "from sklearn.model_selection import train_test_split\n",
    "x_train, x_test, y_train, y_test = train_test_split(X, Y, test_size = 0.25, random_state=0) "
   ]
  },
  {
   "cell_type": "code",
   "execution_count": 143,
   "id": "1481c5e4",
   "metadata": {},
   "outputs": [],
   "source": [
    "#classifier\n",
    "from sklearn.linear_model import LinearRegression\n",
    "# metrics\n",
    "from sklearn.metrics import accuracy_score"
   ]
  },
  {
   "cell_type": "code",
   "execution_count": 144,
   "id": "35e3bd7b",
   "metadata": {},
   "outputs": [
    {
     "name": "stdout",
     "output_type": "stream",
     "text": [
      "score de performance d'entrainement: 0.9883229191784942\n",
      "score de performance de test: 0.8483309846841154\n"
     ]
    }
   ],
   "source": [
    "linearReg = LinearRegression()\n",
    "linearReg.fit(x_train, y_train);\n",
    "acc_test=linearReg.score(x_test,y_test)\n",
    "acc_train=linearReg.score(x_train,y_train)\n",
    "\n",
    "print(\"score de performance d'entrainement:\",acc_train)\n",
    "print(\"score de performance de test:\",acc_test)"
   ]
  },
  {
   "cell_type": "markdown",
   "id": "b18b15bb",
   "metadata": {},
   "source": [
    "## Task : Applying feature selection to our cleaned dataset and rebuiding the model\n"
   ]
  },
  {
   "cell_type": "code",
   "execution_count": 145,
   "id": "75a83164",
   "metadata": {},
   "outputs": [],
   "source": [
    "from sklearn.preprocessing import StandardScaler\n",
    "# Standardize the selected features\n",
    "scaler = StandardScaler()\n",
    "data_scaled = scaler.fit_transform(X)"
   ]
  },
  {
   "cell_type": "code",
   "execution_count": 146,
   "id": "ac82abb3",
   "metadata": {},
   "outputs": [
    {
     "data": {
      "text/plain": [
       "array([[ 0.11100937,  1.20084511, -0.04157665, ..., -0.2635603 ,\n",
       "        -0.36176302,  0.51766455],\n",
       "       [ 0.71534946, -0.83274686, -0.04157665, ..., -0.2635603 ,\n",
       "        -0.36176302,  0.51766455],\n",
       "       [ 0.10953895, -0.83274686, -0.04157665, ..., -0.2635603 ,\n",
       "        -0.36176302,  0.51766455],\n",
       "       ...,\n",
       "       [-0.31394024,  1.20084511, -0.04157665, ..., -0.2635603 ,\n",
       "         2.76424052, -1.9317529 ],\n",
       "       [-0.31394024,  1.20084511,  0.59853491, ..., -0.2635603 ,\n",
       "         2.76424052, -1.9317529 ],\n",
       "       [-0.31394024,  1.20084511,  0.59853491, ..., -0.2635603 ,\n",
       "         2.76424052, -1.9317529 ]])"
      ]
     },
     "execution_count": 146,
     "metadata": {},
     "output_type": "execute_result"
    }
   ],
   "source": [
    "data_scaled"
   ]
  },
  {
   "cell_type": "code",
   "execution_count": 147,
   "id": "1f5700ef",
   "metadata": {},
   "outputs": [
    {
     "data": {
      "text/plain": [
       "array([[ 0.11100937,  1.20084511, -0.04157665, ..., -0.06302535,\n",
       "        -0.36176302,  0.51766455],\n",
       "       [ 0.71534946, -0.83274686, -0.04157665, ..., -0.06302535,\n",
       "        -0.36176302,  0.51766455],\n",
       "       [ 0.10953895, -0.83274686, -0.04157665, ..., -0.06302535,\n",
       "        -0.36176302,  0.51766455],\n",
       "       ...,\n",
       "       [-0.31394024,  1.20084511, -0.04157665, ..., -0.06302535,\n",
       "         2.76424052, -1.9317529 ],\n",
       "       [-0.31394024,  1.20084511,  0.59853491, ..., -0.06302535,\n",
       "         2.76424052, -1.9317529 ],\n",
       "       [-0.31394024,  1.20084511,  0.59853491, ..., -0.06302535,\n",
       "         2.76424052, -1.9317529 ]])"
      ]
     },
     "execution_count": 147,
     "metadata": {},
     "output_type": "execute_result"
    }
   ],
   "source": [
    "from sklearn.feature_selection import SelectKBest, f_regression\n",
    "# Select the best k features using SelectKBest method\n",
    "selector = SelectKBest(f_regression, k=500)\n",
    "selected_features = selector.fit_transform(data_scaled, Y)\n",
    "selected_features"
   ]
  },
  {
   "cell_type": "code",
   "execution_count": 148,
   "id": "a1047877",
   "metadata": {},
   "outputs": [
    {
     "name": "stdout",
     "output_type": "stream",
     "text": [
      "Selected features:\n",
      "Index(['Kilométrage', 'Transmision', 'Puissance fiscale en cv',\n",
      "       'Ordinateur de bord', 'Start & Stop', 'Régulateur de vitesse',\n",
      "       'Allumage auto. des feux', 'Détecteur de pluie', 'Commandes au volant',\n",
      "       'Ecran tactile',\n",
      "       ...\n",
      "       'Electrique AR', 'Electrique AV', 'Electrique AV/AR',\n",
      "       'Pas de vitres électriques', 'Conducteur', 'Conducteur et Passager',\n",
      "       'Pas de sièges électriques', 'Passager', 'Panoramique ouvrant',\n",
      "       'Rigide'],\n",
      "      dtype='object', length=500)\n"
     ]
    }
   ],
   "source": [
    "#use the get_support method of the SelectKBest object to get a boolean mask indicating which features were selected.\n",
    "mask = selector.get_support()\n",
    "\n",
    "# Use the mask to select only the selected features from the original dataset\n",
    "selected_feature_names = X.columns[mask]\n",
    "cars_fs = X[selected_feature_names]\n",
    "\n",
    "\n",
    "# Show the selected features\n",
    "print(\"Selected features:\")\n",
    "print(selected_feature_names)"
   ]
  },
  {
   "cell_type": "code",
   "execution_count": 149,
   "id": "9b271ce1",
   "metadata": {},
   "outputs": [
    {
     "data": {
      "text/html": [
       "<div>\n",
       "<style scoped>\n",
       "    .dataframe tbody tr th:only-of-type {\n",
       "        vertical-align: middle;\n",
       "    }\n",
       "\n",
       "    .dataframe tbody tr th {\n",
       "        vertical-align: top;\n",
       "    }\n",
       "\n",
       "    .dataframe thead th {\n",
       "        text-align: right;\n",
       "    }\n",
       "</style>\n",
       "<table border=\"1\" class=\"dataframe\">\n",
       "  <thead>\n",
       "    <tr style=\"text-align: right;\">\n",
       "      <th></th>\n",
       "      <th>Kilométrage</th>\n",
       "      <th>Transmision</th>\n",
       "      <th>Puissance fiscale en cv</th>\n",
       "      <th>Ordinateur de bord</th>\n",
       "      <th>Start &amp; Stop</th>\n",
       "      <th>Régulateur de vitesse</th>\n",
       "      <th>Allumage auto. des feux</th>\n",
       "      <th>Détecteur de pluie</th>\n",
       "      <th>Commandes au volant</th>\n",
       "      <th>Ecran tactile</th>\n",
       "      <th>...</th>\n",
       "      <th>Electrique AR</th>\n",
       "      <th>Electrique AV</th>\n",
       "      <th>Electrique AV/AR</th>\n",
       "      <th>Pas de vitres électriques</th>\n",
       "      <th>Conducteur</th>\n",
       "      <th>Conducteur et Passager</th>\n",
       "      <th>Pas de sièges électriques</th>\n",
       "      <th>Passager</th>\n",
       "      <th>Panoramique ouvrant</th>\n",
       "      <th>Rigide</th>\n",
       "    </tr>\n",
       "  </thead>\n",
       "  <tbody>\n",
       "    <tr>\n",
       "      <th>0</th>\n",
       "      <td>144500</td>\n",
       "      <td>1</td>\n",
       "      <td>8</td>\n",
       "      <td>1</td>\n",
       "      <td>1</td>\n",
       "      <td>1</td>\n",
       "      <td>1</td>\n",
       "      <td>1</td>\n",
       "      <td>1</td>\n",
       "      <td>0</td>\n",
       "      <td>...</td>\n",
       "      <td>0</td>\n",
       "      <td>0</td>\n",
       "      <td>1</td>\n",
       "      <td>0</td>\n",
       "      <td>0</td>\n",
       "      <td>1</td>\n",
       "      <td>0</td>\n",
       "      <td>0</td>\n",
       "      <td>0</td>\n",
       "      <td>1</td>\n",
       "    </tr>\n",
       "    <tr>\n",
       "      <th>1</th>\n",
       "      <td>350000</td>\n",
       "      <td>0</td>\n",
       "      <td>8</td>\n",
       "      <td>1</td>\n",
       "      <td>1</td>\n",
       "      <td>1</td>\n",
       "      <td>1</td>\n",
       "      <td>1</td>\n",
       "      <td>1</td>\n",
       "      <td>1</td>\n",
       "      <td>...</td>\n",
       "      <td>0</td>\n",
       "      <td>0</td>\n",
       "      <td>1</td>\n",
       "      <td>0</td>\n",
       "      <td>0</td>\n",
       "      <td>0</td>\n",
       "      <td>0</td>\n",
       "      <td>0</td>\n",
       "      <td>0</td>\n",
       "      <td>1</td>\n",
       "    </tr>\n",
       "    <tr>\n",
       "      <th>2</th>\n",
       "      <td>144000</td>\n",
       "      <td>0</td>\n",
       "      <td>8</td>\n",
       "      <td>1</td>\n",
       "      <td>0</td>\n",
       "      <td>1</td>\n",
       "      <td>1</td>\n",
       "      <td>1</td>\n",
       "      <td>1</td>\n",
       "      <td>0</td>\n",
       "      <td>...</td>\n",
       "      <td>0</td>\n",
       "      <td>0</td>\n",
       "      <td>1</td>\n",
       "      <td>0</td>\n",
       "      <td>0</td>\n",
       "      <td>0</td>\n",
       "      <td>1</td>\n",
       "      <td>0</td>\n",
       "      <td>0</td>\n",
       "      <td>1</td>\n",
       "    </tr>\n",
       "    <tr>\n",
       "      <th>3</th>\n",
       "      <td>248000</td>\n",
       "      <td>1</td>\n",
       "      <td>9</td>\n",
       "      <td>1</td>\n",
       "      <td>0</td>\n",
       "      <td>1</td>\n",
       "      <td>1</td>\n",
       "      <td>1</td>\n",
       "      <td>1</td>\n",
       "      <td>0</td>\n",
       "      <td>...</td>\n",
       "      <td>0</td>\n",
       "      <td>0</td>\n",
       "      <td>1</td>\n",
       "      <td>0</td>\n",
       "      <td>0</td>\n",
       "      <td>1</td>\n",
       "      <td>0</td>\n",
       "      <td>0</td>\n",
       "      <td>0</td>\n",
       "      <td>1</td>\n",
       "    </tr>\n",
       "    <tr>\n",
       "      <th>4</th>\n",
       "      <td>103000</td>\n",
       "      <td>1</td>\n",
       "      <td>9</td>\n",
       "      <td>1</td>\n",
       "      <td>1</td>\n",
       "      <td>1</td>\n",
       "      <td>1</td>\n",
       "      <td>1</td>\n",
       "      <td>1</td>\n",
       "      <td>0</td>\n",
       "      <td>...</td>\n",
       "      <td>0</td>\n",
       "      <td>0</td>\n",
       "      <td>1</td>\n",
       "      <td>0</td>\n",
       "      <td>0</td>\n",
       "      <td>1</td>\n",
       "      <td>0</td>\n",
       "      <td>0</td>\n",
       "      <td>0</td>\n",
       "      <td>0</td>\n",
       "    </tr>\n",
       "    <tr>\n",
       "      <th>...</th>\n",
       "      <td>...</td>\n",
       "      <td>...</td>\n",
       "      <td>...</td>\n",
       "      <td>...</td>\n",
       "      <td>...</td>\n",
       "      <td>...</td>\n",
       "      <td>...</td>\n",
       "      <td>...</td>\n",
       "      <td>...</td>\n",
       "      <td>...</td>\n",
       "      <td>...</td>\n",
       "      <td>...</td>\n",
       "      <td>...</td>\n",
       "      <td>...</td>\n",
       "      <td>...</td>\n",
       "      <td>...</td>\n",
       "      <td>...</td>\n",
       "      <td>...</td>\n",
       "      <td>...</td>\n",
       "      <td>...</td>\n",
       "      <td>...</td>\n",
       "    </tr>\n",
       "    <tr>\n",
       "      <th>3124</th>\n",
       "      <td>0</td>\n",
       "      <td>1</td>\n",
       "      <td>8</td>\n",
       "      <td>1</td>\n",
       "      <td>1</td>\n",
       "      <td>1</td>\n",
       "      <td>1</td>\n",
       "      <td>1</td>\n",
       "      <td>1</td>\n",
       "      <td>1</td>\n",
       "      <td>...</td>\n",
       "      <td>0</td>\n",
       "      <td>0</td>\n",
       "      <td>1</td>\n",
       "      <td>0</td>\n",
       "      <td>0</td>\n",
       "      <td>1</td>\n",
       "      <td>0</td>\n",
       "      <td>0</td>\n",
       "      <td>0</td>\n",
       "      <td>1</td>\n",
       "    </tr>\n",
       "    <tr>\n",
       "      <th>3125</th>\n",
       "      <td>0</td>\n",
       "      <td>1</td>\n",
       "      <td>8</td>\n",
       "      <td>1</td>\n",
       "      <td>1</td>\n",
       "      <td>1</td>\n",
       "      <td>1</td>\n",
       "      <td>1</td>\n",
       "      <td>1</td>\n",
       "      <td>1</td>\n",
       "      <td>...</td>\n",
       "      <td>0</td>\n",
       "      <td>0</td>\n",
       "      <td>1</td>\n",
       "      <td>0</td>\n",
       "      <td>0</td>\n",
       "      <td>1</td>\n",
       "      <td>0</td>\n",
       "      <td>0</td>\n",
       "      <td>1</td>\n",
       "      <td>0</td>\n",
       "    </tr>\n",
       "    <tr>\n",
       "      <th>3126</th>\n",
       "      <td>0</td>\n",
       "      <td>1</td>\n",
       "      <td>8</td>\n",
       "      <td>1</td>\n",
       "      <td>1</td>\n",
       "      <td>1</td>\n",
       "      <td>1</td>\n",
       "      <td>1</td>\n",
       "      <td>1</td>\n",
       "      <td>1</td>\n",
       "      <td>...</td>\n",
       "      <td>0</td>\n",
       "      <td>0</td>\n",
       "      <td>1</td>\n",
       "      <td>0</td>\n",
       "      <td>0</td>\n",
       "      <td>1</td>\n",
       "      <td>0</td>\n",
       "      <td>0</td>\n",
       "      <td>1</td>\n",
       "      <td>0</td>\n",
       "    </tr>\n",
       "    <tr>\n",
       "      <th>3127</th>\n",
       "      <td>0</td>\n",
       "      <td>1</td>\n",
       "      <td>11</td>\n",
       "      <td>1</td>\n",
       "      <td>1</td>\n",
       "      <td>1</td>\n",
       "      <td>1</td>\n",
       "      <td>1</td>\n",
       "      <td>1</td>\n",
       "      <td>1</td>\n",
       "      <td>...</td>\n",
       "      <td>0</td>\n",
       "      <td>0</td>\n",
       "      <td>1</td>\n",
       "      <td>0</td>\n",
       "      <td>0</td>\n",
       "      <td>1</td>\n",
       "      <td>0</td>\n",
       "      <td>0</td>\n",
       "      <td>1</td>\n",
       "      <td>0</td>\n",
       "    </tr>\n",
       "    <tr>\n",
       "      <th>3128</th>\n",
       "      <td>0</td>\n",
       "      <td>1</td>\n",
       "      <td>11</td>\n",
       "      <td>1</td>\n",
       "      <td>1</td>\n",
       "      <td>1</td>\n",
       "      <td>1</td>\n",
       "      <td>1</td>\n",
       "      <td>1</td>\n",
       "      <td>1</td>\n",
       "      <td>...</td>\n",
       "      <td>0</td>\n",
       "      <td>0</td>\n",
       "      <td>1</td>\n",
       "      <td>0</td>\n",
       "      <td>0</td>\n",
       "      <td>1</td>\n",
       "      <td>0</td>\n",
       "      <td>0</td>\n",
       "      <td>1</td>\n",
       "      <td>0</td>\n",
       "    </tr>\n",
       "  </tbody>\n",
       "</table>\n",
       "<p>3033 rows × 501 columns</p>\n",
       "</div>"
      ],
      "text/plain": [
       "      Kilométrage  Transmision  Puissance fiscale en cv  Ordinateur de bord  \\\n",
       "0          144500            1                        8                   1   \n",
       "1          350000            0                        8                   1   \n",
       "2          144000            0                        8                   1   \n",
       "3          248000            1                        9                   1   \n",
       "4          103000            1                        9                   1   \n",
       "...           ...          ...                      ...                 ...   \n",
       "3124            0            1                        8                   1   \n",
       "3125            0            1                        8                   1   \n",
       "3126            0            1                        8                   1   \n",
       "3127            0            1                       11                   1   \n",
       "3128            0            1                       11                   1   \n",
       "\n",
       "      Start & Stop  Régulateur de vitesse  Allumage auto. des feux  \\\n",
       "0                1                      1                        1   \n",
       "1                1                      1                        1   \n",
       "2                0                      1                        1   \n",
       "3                0                      1                        1   \n",
       "4                1                      1                        1   \n",
       "...            ...                    ...                      ...   \n",
       "3124             1                      1                        1   \n",
       "3125             1                      1                        1   \n",
       "3126             1                      1                        1   \n",
       "3127             1                      1                        1   \n",
       "3128             1                      1                        1   \n",
       "\n",
       "      Détecteur de pluie  Commandes au volant  Ecran tactile  ...  \\\n",
       "0                      1                    1              0  ...   \n",
       "1                      1                    1              1  ...   \n",
       "2                      1                    1              0  ...   \n",
       "3                      1                    1              0  ...   \n",
       "4                      1                    1              0  ...   \n",
       "...                  ...                  ...            ...  ...   \n",
       "3124                   1                    1              1  ...   \n",
       "3125                   1                    1              1  ...   \n",
       "3126                   1                    1              1  ...   \n",
       "3127                   1                    1              1  ...   \n",
       "3128                   1                    1              1  ...   \n",
       "\n",
       "      Electrique AR  Electrique AV  Electrique AV/AR  \\\n",
       "0                 0              0                 1   \n",
       "1                 0              0                 1   \n",
       "2                 0              0                 1   \n",
       "3                 0              0                 1   \n",
       "4                 0              0                 1   \n",
       "...             ...            ...               ...   \n",
       "3124              0              0                 1   \n",
       "3125              0              0                 1   \n",
       "3126              0              0                 1   \n",
       "3127              0              0                 1   \n",
       "3128              0              0                 1   \n",
       "\n",
       "      Pas de vitres électriques  Conducteur  Conducteur et Passager  \\\n",
       "0                             0           0                       1   \n",
       "1                             0           0                       0   \n",
       "2                             0           0                       0   \n",
       "3                             0           0                       1   \n",
       "4                             0           0                       1   \n",
       "...                         ...         ...                     ...   \n",
       "3124                          0           0                       1   \n",
       "3125                          0           0                       1   \n",
       "3126                          0           0                       1   \n",
       "3127                          0           0                       1   \n",
       "3128                          0           0                       1   \n",
       "\n",
       "      Pas de sièges électriques  Passager  Panoramique ouvrant  Rigide  \n",
       "0                             0         0                    0       1  \n",
       "1                             0         0                    0       1  \n",
       "2                             1         0                    0       1  \n",
       "3                             0         0                    0       1  \n",
       "4                             0         0                    0       0  \n",
       "...                         ...       ...                  ...     ...  \n",
       "3124                          0         0                    0       1  \n",
       "3125                          0         0                    1       0  \n",
       "3126                          0         0                    1       0  \n",
       "3127                          0         0                    1       0  \n",
       "3128                          0         0                    1       0  \n",
       "\n",
       "[3033 rows x 501 columns]"
      ]
     },
     "execution_count": 149,
     "metadata": {},
     "output_type": "execute_result"
    }
   ],
   "source": [
    "cars_fs"
   ]
  },
  {
   "cell_type": "code",
   "execution_count": 150,
   "id": "bf7223f2",
   "metadata": {},
   "outputs": [],
   "source": [
    "X_fs=cars_fs\n",
    "Y=data[\"Prix - DH\"]\n",
    "x_train_fs, x_test_fs, y_train, y_test = train_test_split(X_fs, Y, test_size = 0.25, random_state=0) "
   ]
  },
  {
   "cell_type": "code",
   "execution_count": 151,
   "id": "5d18e3be",
   "metadata": {},
   "outputs": [
    {
     "name": "stdout",
     "output_type": "stream",
     "text": [
      "score de performance d'entrainement: 0.9819446586936844\n",
      "score de performance de test: 0.8984241708303494\n"
     ]
    }
   ],
   "source": [
    "linearReg = LinearRegression()\n",
    "linearReg.fit(x_train_fs, y_train);\n",
    "acc_test=linearReg.score(x_test_fs,y_test)\n",
    "acc_train=linearReg.score(x_train_fs,y_train)\n",
    "\n",
    "print(\"score de performance d'entrainement:\",acc_train)\n",
    "print(\"score de performance de test:\",acc_test)\n"
   ]
  },
  {
   "cell_type": "markdown",
   "id": "fd5d84d1",
   "metadata": {},
   "source": [
    "# C/c : We conclude that the model with feature selection performed better on the test data."
   ]
  },
  {
   "cell_type": "code",
   "execution_count": null,
   "id": "ca3c1be4",
   "metadata": {},
   "outputs": [],
   "source": []
  }
 ],
 "metadata": {
  "celltoolbar": "Raw Cell Format",
  "kernelspec": {
   "display_name": "Python 3 (ipykernel)",
   "language": "python",
   "name": "python3"
  },
  "language_info": {
   "codemirror_mode": {
    "name": "ipython",
    "version": 3
   },
   "file_extension": ".py",
   "mimetype": "text/x-python",
   "name": "python",
   "nbconvert_exporter": "python",
   "pygments_lexer": "ipython3",
   "version": "3.9.13"
  }
 },
 "nbformat": 4,
 "nbformat_minor": 5
}
